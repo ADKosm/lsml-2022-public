{
 "cells": [
  {
   "cell_type": "markdown",
   "metadata": {},
   "source": [
    "# Advanced Spark\n",
    "\n",
    "Сегодня пройдемся по каким-то аспектам фреймворка Spark, которые не затрагивали в предыдущий раз, но которые могут оказаться очень полезными.\n",
    "\n",
    "Датасет на сегодня - данные с сайта Airbnb"
   ]
  },
  {
   "cell_type": "code",
   "execution_count": null,
   "metadata": {},
   "outputs": [],
   "source": [
    "! hdfs dfs -mkdir -p /user/airbnb"
   ]
  },
  {
   "cell_type": "code",
   "execution_count": null,
   "metadata": {
    "cell_status": {
     "execute_time": {
      "duration": 196898.56396484375,
      "end_time": 1612620178511.934
     }
    }
   },
   "outputs": [],
   "source": [
    "! curl https://storage.yandexcloud.net/lsml2022alexius/accommodation.tsv | hdfs dfs -put - /user/airbnb/accommodation.tsv\n",
    "! curl https://storage.yandexcloud.net/lsml2022alexius/apartment.tsv | hdfs dfs -put - /user/airbnb/apartment.tsv\n",
    "! curl https://storage.yandexcloud.net/lsml2022alexius/hosts.tsv | hdfs dfs -put - /user/airbnb/hosts.tsv\n",
    "! curl https://storage.yandexcloud.net/lsml2022alexius/reviews.tsv | hdfs dfs -put - /user/airbnb/reviews.tsv"
   ]
  },
  {
   "cell_type": "code",
   "execution_count": null,
   "metadata": {
    "cell_status": {
     "execute_time": {
      "duration": 5967.708984375,
      "end_time": 1612620373596.621
     }
    }
   },
   "outputs": [],
   "source": [
    "! hdfs dfs -ls -h /user/airbnb"
   ]
  },
  {
   "cell_type": "code",
   "execution_count": 1,
   "metadata": {},
   "outputs": [],
   "source": [
    "import findspark\n",
    "findspark.init()"
   ]
  },
  {
   "cell_type": "code",
   "execution_count": 2,
   "metadata": {
    "cell_status": {
     "execute_time": {
      "duration": 121.484130859375,
      "end_time": 1612689717174.31
     }
    }
   },
   "outputs": [],
   "source": [
    "import pyspark\n",
    "sc = pyspark.SparkContext(appName=\"lsml-app-1\")"
   ]
  },
  {
   "cell_type": "code",
   "execution_count": 3,
   "metadata": {
    "cell_status": {
     "execute_time": {
      "duration": 136.580078125,
      "end_time": 1612689717362.36
     }
    }
   },
   "outputs": [],
   "source": [
    "from pyspark.sql import SparkSession, Row"
   ]
  },
  {
   "cell_type": "code",
   "execution_count": 4,
   "metadata": {
    "cell_status": {
     "execute_time": {
      "duration": 112.791015625,
      "end_time": 1612689717505.272
     }
    }
   },
   "outputs": [],
   "source": [
    "se = SparkSession(sc)"
   ]
  },
  {
   "cell_type": "code",
   "execution_count": null,
   "metadata": {},
   "outputs": [],
   "source": [
    "accommodation = se.read.option(\"mode\", \"DROPMALFORMED\").option('sep', \"\\t\").csv(\"/user/airbnb/accommodation.tsv\", header=True, inferSchema=True)\n",
    "apartment = se.read.option(\"mode\", \"DROPMALFORMED\").option('sep', \"\\t\").csv(\"/user/airbnb/apartment.tsv\", header=True, inferSchema=True)\n",
    "hosts = se.read.option(\"mode\", \"DROPMALFORMED\").option('sep', \"\\t\").csv(\"/user/airbnb/hosts.tsv\", header=True, inferSchema=True)\n",
    "reviews = se.read.option(\"mode\", \"DROPMALFORMED\").option('sep', \"\\t\").csv(\"/user/airbnb/reviews.tsv\", header=True, inferSchema=True)"
   ]
  },
  {
   "cell_type": "code",
   "execution_count": null,
   "metadata": {},
   "outputs": [],
   "source": [
    "accommodation.printSchema()\n",
    "apartment.printSchema()\n",
    "hosts.printSchema()\n",
    "reviews.printSchema()"
   ]
  },
  {
   "cell_type": "markdown",
   "metadata": {},
   "source": [
    "#### Улучшаем формат записи\n",
    "\n",
    "Сейчас мы храним записи в сыром формате в виде просто строк. Такой формат удобен для чтения человеков, однако машине приходится прикладывать усилия, чтобы разобрать такой формат.\n",
    "\n",
    "Существует ряд форматов, поддерживаемых в Spark, которые гораздо лучше подходят для обработки. Один из таких форматов - Parquet. Подробнее можно почитать про него на официальном сайте - https://parquet.apache.org/"
   ]
  },
  {
   "cell_type": "code",
   "execution_count": null,
   "metadata": {
    "cell_status": {
     "execute_time": {
      "duration": 15399.7099609375,
      "end_time": 1612622710576.838
     }
    }
   },
   "outputs": [],
   "source": [
    "%%time\n",
    "\n",
    "apartment.count()"
   ]
  },
  {
   "cell_type": "markdown",
   "metadata": {},
   "source": [
    "Посчитаем например среднее квадрата значения в колонке price"
   ]
  },
  {
   "cell_type": "code",
   "execution_count": null,
   "metadata": {
    "cell_status": {
     "execute_time": {
      "duration": 784.216064453125,
      "end_time": 1612622999852.714
     }
    }
   },
   "outputs": [],
   "source": [
    "%%time\n",
    "\n",
    "apartment.rdd.map(lambda x: float(x.price if x.price not in (\"none\", None) else \"0\")).map(lambda x: x**2).mean()"
   ]
  },
  {
   "cell_type": "markdown",
   "metadata": {},
   "source": [
    "~10 секунд. Пробуем сконвертировать в паркет."
   ]
  },
  {
   "cell_type": "code",
   "execution_count": null,
   "metadata": {},
   "outputs": [],
   "source": [
    "! hdfs dfs -rm -r /user/airbnb/parquet\n",
    "! hdfs dfs -mkdir -p /user/airbnb/parquet"
   ]
  },
  {
   "cell_type": "code",
   "execution_count": null,
   "metadata": {
    "cell_status": {
     "execute_time": {
      "duration": 11652.8720703125,
      "end_time": 1612622226965.048
     }
    }
   },
   "outputs": [],
   "source": []
  },
  {
   "cell_type": "code",
   "execution_count": null,
   "metadata": {
    "cell_status": {
     "execute_time": {
      "duration": 55765.173095703125,
      "end_time": 1612622292588.701
     }
    }
   },
   "outputs": [],
   "source": [
    "apartment.write.parquet(\"/user/airbnb/parquet/apartment.parquet\")"
   ]
  },
  {
   "cell_type": "code",
   "execution_count": null,
   "metadata": {
    "cell_status": {
     "execute_time": {
      "duration": 793.828125,
      "end_time": 1612622399025.472
     }
    }
   },
   "outputs": [],
   "source": [
    "apartment_parquet = se.read.parquet(\"/user/airbnb/parquet/apartment.parquet\")"
   ]
  },
  {
   "cell_type": "code",
   "execution_count": null,
   "metadata": {
    "cell_status": {
     "execute_time": {
      "duration": 63.423828125,
      "end_time": 1612622418570.857
     }
    }
   },
   "outputs": [],
   "source": [
    "apartment_parquet.printSchema()"
   ]
  },
  {
   "cell_type": "markdown",
   "metadata": {},
   "source": [
    "Попробуем вопрорить запрос выше."
   ]
  },
  {
   "cell_type": "code",
   "execution_count": null,
   "metadata": {
    "cell_status": {
     "execute_time": {
      "duration": 229112.09594726562,
      "end_time": 1612623617973.797
     }
    }
   },
   "outputs": [],
   "source": [
    "%%time\n",
    "\n",
    "apartment_parquet.rdd.map(lambda x: float(x.price if x.price not in (\"none\", None) else \"0\")).map(lambda x: x**2).mean()"
   ]
  },
  {
   "cell_type": "markdown",
   "metadata": {},
   "source": [
    "~3 секунды. Не фантастика, часть оверхеда уже сняли. Переконвертируем сразу все в этот формат и дальше будем работать уже с ним."
   ]
  },
  {
   "cell_type": "code",
   "execution_count": null,
   "metadata": {},
   "outputs": [],
   "source": [
    "! hdfs dfs -rm -r /user/airbnb/parquet/"
   ]
  },
  {
   "cell_type": "code",
   "execution_count": null,
   "metadata": {
    "cell_status": {
     "execute_time": {
      "duration": 83836.29809570312,
      "end_time": 1612624485260.891
     }
    }
   },
   "outputs": [],
   "source": [
    "accommodation.write.parquet(\"/user/airbnb/parquet/accommodation.parquet\")\n",
    "apartment.write.parquet(\"/user/airbnb/parquet/apartment.parquet\")\n",
    "hosts.write.parquet(\"/user/airbnb/parquet/hosts.parquet\")\n",
    "reviews.write.parquet(\"/user/airbnb/parquet/reviews.parquet\")"
   ]
  },
  {
   "cell_type": "code",
   "execution_count": null,
   "metadata": {
    "cell_status": {
     "execute_time": {
      "duration": 6781.552001953125,
      "end_time": 1612624540492.954
     }
    }
   },
   "outputs": [],
   "source": []
  },
  {
   "cell_type": "code",
   "execution_count": 5,
   "metadata": {
    "cell_status": {
     "execute_time": {
      "duration": 3409.5888671875,
      "end_time": 1612690848118.815
     }
    }
   },
   "outputs": [],
   "source": [
    "accommodation = se.read.parquet('/user/airbnb/parquet/accommodation.parquet')\n",
    "apartment = se.read.parquet('/user/airbnb/parquet/apartment.parquet')\n",
    "hosts = se.read.parquet('/user/airbnb/parquet/hosts.parquet')\n",
    "reviews = se.read.parquet('/user/airbnb/parquet/reviews.parquet')"
   ]
  },
  {
   "cell_type": "code",
   "execution_count": 6,
   "metadata": {
    "cell_status": {
     "execute_time": {
      "duration": 863.72802734375,
      "end_time": 1612690849025.109
     }
    }
   },
   "outputs": [],
   "source": [
    "accommodation.registerTempTable(\"accommodation\")\n",
    "apartment.registerTempTable(\"apartment\")\n",
    "hosts.registerTempTable(\"hosts\")\n",
    "reviews.registerTempTable(\"reviews\")"
   ]
  },
  {
   "cell_type": "markdown",
   "metadata": {},
   "source": [
    "#### Поисследуем таблички"
   ]
  },
  {
   "cell_type": "code",
   "execution_count": null,
   "metadata": {
    "cell_status": {
     "execute_time": {
      "duration": 7444.22412109375,
      "end_time": 1612690856513.373
     }
    }
   },
   "outputs": [],
   "source": [
    "se.sql(\"\"\"\n",
    "    SELECT * \n",
    "    FROM accommodation\n",
    "    LIMIT 10\n",
    "\"\"\").toPandas()"
   ]
  },
  {
   "cell_type": "code",
   "execution_count": null,
   "metadata": {
    "cell_status": {
     "execute_time": {
      "duration": 2506.56103515625,
      "end_time": 1612690859102.258
     }
    }
   },
   "outputs": [],
   "source": [
    "se.sql(\"\"\"\n",
    "    SELECT *\n",
    "    FROM apartment\n",
    "    LIMIT 10\n",
    "\"\"\").toPandas()"
   ]
  },
  {
   "cell_type": "code",
   "execution_count": null,
   "metadata": {
    "cell_status": {
     "execute_time": {
      "duration": 3451.705078125,
      "end_time": 1612690862598.357
     }
    }
   },
   "outputs": [],
   "source": [
    "se.sql(\"\"\"\n",
    "    SELECT *\n",
    "    FROM hosts\n",
    "    LIMIT 10\n",
    "\"\"\").toPandas()"
   ]
  },
  {
   "cell_type": "code",
   "execution_count": null,
   "metadata": {
    "cell_status": {
     "execute_time": {
      "duration": 1418.81201171875,
      "end_time": 1612690864068.618
     }
    }
   },
   "outputs": [],
   "source": [
    "se.sql(\"\"\"\n",
    "    SELECT *\n",
    "    FROM reviews\n",
    "    LIMIT 10\n",
    "\"\"\").toPandas()"
   ]
  },
  {
   "cell_type": "markdown",
   "metadata": {},
   "source": [
    "В SQL есть готовые функции для манипуляции с данными. Весь список можно найти здесь - https://spark.apache.org/docs/2.3.0/api/sql/index.html . Конкретно сейчас воспользуемся split, которая превращает строку в массив строк, разбивая ее по указанному символу."
   ]
  },
  {
   "cell_type": "code",
   "execution_count": null,
   "metadata": {
    "cell_status": {
     "execute_time": {
      "duration": 2467.666015625,
      "end_time": 1612690866614.112
     }
    }
   },
   "outputs": [],
   "source": [
    "se.sql(\"\"\"\n",
    "    SELECT apartment_id, split(amenities, ',') as amenities\n",
    "    FROM accommodation\n",
    "    LIMIT 10\n",
    "\"\"\").toPandas()"
   ]
  },
  {
   "cell_type": "markdown",
   "metadata": {},
   "source": [
    "`explode` распупочивает список в отдельные записи в таблице"
   ]
  },
  {
   "cell_type": "code",
   "execution_count": null,
   "metadata": {},
   "outputs": [],
   "source": [
    "se.sql(\"\"\"\n",
    "    SELECT apartment_id, explode(split(amenities, ',')) as amenities\n",
    "    FROM accommodation\n",
    "    LIMIT 10\n",
    "\"\"\").toPandas()"
   ]
  },
  {
   "cell_type": "code",
   "execution_count": null,
   "metadata": {
    "cell_status": {
     "execute_time": {
      "duration": 1449.159912109375,
      "end_time": 1612690868124.079
     }
    }
   },
   "outputs": [],
   "source": []
  },
  {
   "cell_type": "code",
   "execution_count": null,
   "metadata": {
    "cell_status": {
     "execute_time": {
      "duration": 2395.340087890625,
      "end_time": 1612690870547.434
     }
    }
   },
   "outputs": [],
   "source": [
    "se.sql(\"\"\"\n",
    "    SELECT *\n",
    "    FROM apartment\n",
    "    LIMIT 10\n",
    "\"\"\").toPandas()"
   ]
  },
  {
   "cell_type": "markdown",
   "metadata": {},
   "source": [
    "Чтобы не плодить лишних таблиц, можно делать подзапросы. Распупочим удобства и сразу джойним их с информацией про квартиры."
   ]
  },
  {
   "cell_type": "code",
   "execution_count": null,
   "metadata": {
    "cell_status": {
     "execute_time": {
      "duration": 7367.639892578125,
      "end_time": 1612690877936.314
     }
    }
   },
   "outputs": [],
   "source": [
    "se.sql(\"\"\"\n",
    "    WITH accommodation_full AS (\n",
    "        SELECT apartment_id, explode(split(amenities, ',')) as amenities\n",
    "        FROM accommodation\n",
    "    )\n",
    "    SELECT *\n",
    "    FROM accommodation_full af\n",
    "        join apartment a on a.id = af.apartment_id\n",
    "    LIMIT 10\n",
    "\"\"\").toPandas()"
   ]
  },
  {
   "cell_type": "code",
   "execution_count": null,
   "metadata": {},
   "outputs": [],
   "source": [
    "se.sql(\"\"\"\n",
    "    WITH accommodation_full AS (\n",
    "        SELECT apartment_id, explode(split(amenities, ',')) as amenities\n",
    "        FROM accommodation\n",
    "    )\n",
    "    SELECT *\n",
    "    FROM accommodation_full af\n",
    "        join apartment a on a.id = af.apartment_id\n",
    "\"\"\").registerTempTable(\"app_n_accom\")"
   ]
  },
  {
   "cell_type": "code",
   "execution_count": null,
   "metadata": {},
   "outputs": [],
   "source": [
    "se.sql(\"\"\"\n",
    "    SELECT apartment_id, name\n",
    "    FROM app_n_accom\n",
    "    WHERE amenities = \"Hair dryer\"\n",
    "    LIMIT 10\n",
    "\"\"\").toPandas()"
   ]
  },
  {
   "cell_type": "markdown",
   "metadata": {},
   "source": [
    "Чтож, давайте немного позанимается машинным обучением. Задача будет простая и понятная - предсказываем цену для квартиры.\n",
    "\n",
    "Давайте придумывать признаки. Попробуей вычленить что-то интересное из каждой таблички"
   ]
  },
  {
   "cell_type": "code",
   "execution_count": null,
   "metadata": {},
   "outputs": [],
   "source": [
    "se.sql(\"\"\"\n",
    "    SELECT *\n",
    "    FROM hosts\n",
    "    LIMIT 5\n",
    "\"\"\").toPandas()"
   ]
  },
  {
   "cell_type": "code",
   "execution_count": null,
   "metadata": {},
   "outputs": [],
   "source": [
    "se.sql(\"\"\"\n",
    "SELECT (cast(now() as long) - cast(cast(host_since as timestamp) as long)) / (60 * 60 * 24) as f_host_for\n",
    "FROM hosts\n",
    "LIMIT 10\n",
    "\"\"\").toPandas()"
   ]
  },
  {
   "cell_type": "code",
   "execution_count": null,
   "metadata": {},
   "outputs": [],
   "source": [
    "se.sql(\"\"\"\n",
    "SELECT cast(host_response_rate as int) as f_host_response_rate, cast(host_acceptance_rate as int) as f_host_acceptance_rate, cast(host_total_listings_count as int) as f_host_total_listings_count\n",
    "FROM hosts\n",
    "LIMIT 10\n",
    "\"\"\").toPandas()"
   ]
  },
  {
   "cell_type": "code",
   "execution_count": null,
   "metadata": {},
   "outputs": [],
   "source": [
    "se.sql(\"\"\"\n",
    "SELECT size(split(host_verifications, ',')) as f_num_of_ver\n",
    "FROM hosts\n",
    "LIMIT 10\n",
    "\"\"\").toPandas()"
   ]
  },
  {
   "cell_type": "code",
   "execution_count": null,
   "metadata": {},
   "outputs": [],
   "source": []
  },
  {
   "cell_type": "markdown",
   "metadata": {},
   "source": [
    "#### Used defined functions\n",
    "\n",
    "Все числа было бы неплохо привести к нормальному виду. \n",
    "Делать это чисто из SQL достаточно непросто, поэтому можно попробовать заиспользовать питоновский код прямо в SQL"
   ]
  },
  {
   "cell_type": "code",
   "execution_count": 7,
   "metadata": {},
   "outputs": [],
   "source": [
    "def to_number(raw_value):\n",
    "    try:\n",
    "        return float(raw_value)\n",
    "    except:\n",
    "        return 0.0"
   ]
  },
  {
   "cell_type": "code",
   "execution_count": null,
   "metadata": {
    "cell_status": {
     "execute_time": {
      "duration": 64.057861328125,
      "end_time": 1612691107823.615
     }
    }
   },
   "outputs": [],
   "source": []
  },
  {
   "cell_type": "code",
   "execution_count": 8,
   "metadata": {
    "cell_status": {
     "execute_time": {
      "duration": 293.635986328125,
      "end_time": 1612691108138.937
     }
    }
   },
   "outputs": [
    {
     "data": {
      "text/plain": [
       "<function __main__.to_number(raw_value)>"
      ]
     },
     "execution_count": 8,
     "metadata": {},
     "output_type": "execute_result"
    }
   ],
   "source": [
    "se.udf.register(\"to_number\", to_number, \"float\")"
   ]
  },
  {
   "cell_type": "markdown",
   "metadata": {},
   "source": [
    "Соберем в одну табличку с признаками"
   ]
  },
  {
   "cell_type": "code",
   "execution_count": 9,
   "metadata": {},
   "outputs": [],
   "source": [
    "se.sql(\"\"\"\n",
    "SELECT host_id, \n",
    "       (cast(now() as long) - cast(cast(host_since as timestamp) as long)) / (60 * 60 * 24) as f_host_for,\n",
    "       to_number(cast(host_response_rate as int)) as f_host_response_rate, \n",
    "       to_number(cast(host_acceptance_rate as int)) as f_host_acceptance_rate, \n",
    "       to_number(cast(host_total_listings_count as int)) as f_host_total_listings_count,\n",
    "       to_number(size(split(host_verifications, ','))) as f_num_of_ver\n",
    "FROM hosts\n",
    "\"\"\").registerTempTable(\"hosts_features\")"
   ]
  },
  {
   "cell_type": "code",
   "execution_count": 10,
   "metadata": {},
   "outputs": [
    {
     "data": {
      "text/html": [
       "<div>\n",
       "<style scoped>\n",
       "    .dataframe tbody tr th:only-of-type {\n",
       "        vertical-align: middle;\n",
       "    }\n",
       "\n",
       "    .dataframe tbody tr th {\n",
       "        vertical-align: top;\n",
       "    }\n",
       "\n",
       "    .dataframe thead th {\n",
       "        text-align: right;\n",
       "    }\n",
       "</style>\n",
       "<table border=\"1\" class=\"dataframe\">\n",
       "  <thead>\n",
       "    <tr style=\"text-align: right;\">\n",
       "      <th></th>\n",
       "      <th>host_id</th>\n",
       "      <th>f_host_for</th>\n",
       "      <th>f_host_response_rate</th>\n",
       "      <th>f_host_acceptance_rate</th>\n",
       "      <th>f_host_total_listings_count</th>\n",
       "      <th>f_num_of_ver</th>\n",
       "    </tr>\n",
       "  </thead>\n",
       "  <tbody>\n",
       "    <tr>\n",
       "      <th>0</th>\n",
       "      <td>39150424</td>\n",
       "      <td>2399.459826</td>\n",
       "      <td>100.0</td>\n",
       "      <td>0.0</td>\n",
       "      <td>2.0</td>\n",
       "      <td>7.0</td>\n",
       "    </tr>\n",
       "    <tr>\n",
       "      <th>1</th>\n",
       "      <td>75748444</td>\n",
       "      <td>2080.459826</td>\n",
       "      <td>0.0</td>\n",
       "      <td>0.0</td>\n",
       "      <td>1.0</td>\n",
       "      <td>6.0</td>\n",
       "    </tr>\n",
       "    <tr>\n",
       "      <th>2</th>\n",
       "      <td>11008595</td>\n",
       "      <td>2962.459826</td>\n",
       "      <td>100.0</td>\n",
       "      <td>0.0</td>\n",
       "      <td>2.0</td>\n",
       "      <td>6.0</td>\n",
       "    </tr>\n",
       "    <tr>\n",
       "      <th>3</th>\n",
       "      <td>9273916</td>\n",
       "      <td>3051.459826</td>\n",
       "      <td>0.0</td>\n",
       "      <td>0.0</td>\n",
       "      <td>1.0</td>\n",
       "      <td>4.0</td>\n",
       "    </tr>\n",
       "    <tr>\n",
       "      <th>4</th>\n",
       "      <td>45996316</td>\n",
       "      <td>2321.459826</td>\n",
       "      <td>0.0</td>\n",
       "      <td>0.0</td>\n",
       "      <td>1.0</td>\n",
       "      <td>4.0</td>\n",
       "    </tr>\n",
       "  </tbody>\n",
       "</table>\n",
       "</div>"
      ],
      "text/plain": [
       "    host_id   f_host_for  f_host_response_rate  f_host_acceptance_rate  \\\n",
       "0  39150424  2399.459826                 100.0                     0.0   \n",
       "1  75748444  2080.459826                   0.0                     0.0   \n",
       "2  11008595  2962.459826                 100.0                     0.0   \n",
       "3   9273916  3051.459826                   0.0                     0.0   \n",
       "4  45996316  2321.459826                   0.0                     0.0   \n",
       "\n",
       "   f_host_total_listings_count  f_num_of_ver  \n",
       "0                          2.0           7.0  \n",
       "1                          1.0           6.0  \n",
       "2                          2.0           6.0  \n",
       "3                          1.0           4.0  \n",
       "4                          1.0           4.0  "
      ]
     },
     "execution_count": 10,
     "metadata": {},
     "output_type": "execute_result"
    }
   ],
   "source": [
    "se.sql(\"\"\"\n",
    "SELECT *\n",
    "FROM hosts_features\n",
    "LIMIT 5\n",
    "\"\"\").toPandas()"
   ]
  },
  {
   "cell_type": "code",
   "execution_count": null,
   "metadata": {},
   "outputs": [],
   "source": []
  },
  {
   "cell_type": "code",
   "execution_count": 11,
   "metadata": {},
   "outputs": [
    {
     "data": {
      "text/html": [
       "<div>\n",
       "<style scoped>\n",
       "    .dataframe tbody tr th:only-of-type {\n",
       "        vertical-align: middle;\n",
       "    }\n",
       "\n",
       "    .dataframe tbody tr th {\n",
       "        vertical-align: top;\n",
       "    }\n",
       "\n",
       "    .dataframe thead th {\n",
       "        text-align: right;\n",
       "    }\n",
       "</style>\n",
       "<table border=\"1\" class=\"dataframe\">\n",
       "  <thead>\n",
       "    <tr style=\"text-align: right;\">\n",
       "      <th></th>\n",
       "      <th>apartment_id</th>\n",
       "      <th>number_of_reviews</th>\n",
       "      <th>review_scores_rating</th>\n",
       "      <th>review_scores_accuracy</th>\n",
       "      <th>review_scores_cleanliness</th>\n",
       "      <th>review_scores_checkin</th>\n",
       "      <th>review_scores_communication</th>\n",
       "      <th>review_scores_location</th>\n",
       "      <th>review_scores_value</th>\n",
       "      <th>reviews_per_month</th>\n",
       "    </tr>\n",
       "  </thead>\n",
       "  <tbody>\n",
       "    <tr>\n",
       "      <th>0</th>\n",
       "      <td>7677581</td>\n",
       "      <td>9</td>\n",
       "      <td>96.0</td>\n",
       "      <td>10.0</td>\n",
       "      <td>10.0</td>\n",
       "      <td>10.0</td>\n",
       "      <td>10.0</td>\n",
       "      <td>10.0</td>\n",
       "      <td>9.0</td>\n",
       "      <td>0.42</td>\n",
       "    </tr>\n",
       "    <tr>\n",
       "      <th>1</th>\n",
       "      <td>5831024</td>\n",
       "      <td>28</td>\n",
       "      <td>95.0</td>\n",
       "      <td>10.0</td>\n",
       "      <td>10.0</td>\n",
       "      <td>10.0</td>\n",
       "      <td>10.0</td>\n",
       "      <td>10.0</td>\n",
       "      <td>9.0</td>\n",
       "      <td>1.14</td>\n",
       "    </tr>\n",
       "    <tr>\n",
       "      <th>2</th>\n",
       "      <td>7292084</td>\n",
       "      <td>1</td>\n",
       "      <td>80.0</td>\n",
       "      <td>10.0</td>\n",
       "      <td>8.0</td>\n",
       "      <td>10.0</td>\n",
       "      <td>10.0</td>\n",
       "      <td>8.0</td>\n",
       "      <td>8.0</td>\n",
       "      <td>0.13</td>\n",
       "    </tr>\n",
       "    <tr>\n",
       "      <th>3</th>\n",
       "      <td>9674633</td>\n",
       "      <td>0</td>\n",
       "      <td>NaN</td>\n",
       "      <td>NaN</td>\n",
       "      <td>NaN</td>\n",
       "      <td>NaN</td>\n",
       "      <td>NaN</td>\n",
       "      <td>NaN</td>\n",
       "      <td>NaN</td>\n",
       "      <td>NaN</td>\n",
       "    </tr>\n",
       "    <tr>\n",
       "      <th>4</th>\n",
       "      <td>8495779</td>\n",
       "      <td>31</td>\n",
       "      <td>92.0</td>\n",
       "      <td>9.0</td>\n",
       "      <td>8.0</td>\n",
       "      <td>10.0</td>\n",
       "      <td>10.0</td>\n",
       "      <td>10.0</td>\n",
       "      <td>9.0</td>\n",
       "      <td>1.60</td>\n",
       "    </tr>\n",
       "    <tr>\n",
       "      <th>5</th>\n",
       "      <td>17923575</td>\n",
       "      <td>5</td>\n",
       "      <td>92.0</td>\n",
       "      <td>9.0</td>\n",
       "      <td>9.0</td>\n",
       "      <td>9.0</td>\n",
       "      <td>10.0</td>\n",
       "      <td>10.0</td>\n",
       "      <td>9.0</td>\n",
       "      <td>4.17</td>\n",
       "    </tr>\n",
       "    <tr>\n",
       "      <th>6</th>\n",
       "      <td>18507229</td>\n",
       "      <td>0</td>\n",
       "      <td>NaN</td>\n",
       "      <td>NaN</td>\n",
       "      <td>NaN</td>\n",
       "      <td>NaN</td>\n",
       "      <td>NaN</td>\n",
       "      <td>NaN</td>\n",
       "      <td>NaN</td>\n",
       "      <td>NaN</td>\n",
       "    </tr>\n",
       "    <tr>\n",
       "      <th>7</th>\n",
       "      <td>3429176</td>\n",
       "      <td>99</td>\n",
       "      <td>96.0</td>\n",
       "      <td>10.0</td>\n",
       "      <td>10.0</td>\n",
       "      <td>10.0</td>\n",
       "      <td>10.0</td>\n",
       "      <td>9.0</td>\n",
       "      <td>9.0</td>\n",
       "      <td>2.88</td>\n",
       "    </tr>\n",
       "    <tr>\n",
       "      <th>8</th>\n",
       "      <td>5389886</td>\n",
       "      <td>2</td>\n",
       "      <td>100.0</td>\n",
       "      <td>9.0</td>\n",
       "      <td>9.0</td>\n",
       "      <td>10.0</td>\n",
       "      <td>10.0</td>\n",
       "      <td>10.0</td>\n",
       "      <td>8.0</td>\n",
       "      <td>0.10</td>\n",
       "    </tr>\n",
       "    <tr>\n",
       "      <th>9</th>\n",
       "      <td>13994116</td>\n",
       "      <td>1</td>\n",
       "      <td>100.0</td>\n",
       "      <td>10.0</td>\n",
       "      <td>10.0</td>\n",
       "      <td>10.0</td>\n",
       "      <td>10.0</td>\n",
       "      <td>10.0</td>\n",
       "      <td>10.0</td>\n",
       "      <td>0.11</td>\n",
       "    </tr>\n",
       "  </tbody>\n",
       "</table>\n",
       "</div>"
      ],
      "text/plain": [
       "  apartment_id  number_of_reviews  review_scores_rating  \\\n",
       "0      7677581                  9                  96.0   \n",
       "1      5831024                 28                  95.0   \n",
       "2      7292084                  1                  80.0   \n",
       "3      9674633                  0                   NaN   \n",
       "4      8495779                 31                  92.0   \n",
       "5     17923575                  5                  92.0   \n",
       "6     18507229                  0                   NaN   \n",
       "7      3429176                 99                  96.0   \n",
       "8      5389886                  2                 100.0   \n",
       "9     13994116                  1                 100.0   \n",
       "\n",
       "   review_scores_accuracy  review_scores_cleanliness  review_scores_checkin  \\\n",
       "0                    10.0                       10.0                   10.0   \n",
       "1                    10.0                       10.0                   10.0   \n",
       "2                    10.0                        8.0                   10.0   \n",
       "3                     NaN                        NaN                    NaN   \n",
       "4                     9.0                        8.0                   10.0   \n",
       "5                     9.0                        9.0                    9.0   \n",
       "6                     NaN                        NaN                    NaN   \n",
       "7                    10.0                       10.0                   10.0   \n",
       "8                     9.0                        9.0                   10.0   \n",
       "9                    10.0                       10.0                   10.0   \n",
       "\n",
       "   review_scores_communication  review_scores_location  review_scores_value  \\\n",
       "0                         10.0                    10.0                  9.0   \n",
       "1                         10.0                    10.0                  9.0   \n",
       "2                         10.0                     8.0                  8.0   \n",
       "3                          NaN                     NaN                  NaN   \n",
       "4                         10.0                    10.0                  9.0   \n",
       "5                         10.0                    10.0                  9.0   \n",
       "6                          NaN                     NaN                  NaN   \n",
       "7                         10.0                     9.0                  9.0   \n",
       "8                         10.0                    10.0                  8.0   \n",
       "9                         10.0                    10.0                 10.0   \n",
       "\n",
       "   reviews_per_month  \n",
       "0               0.42  \n",
       "1               1.14  \n",
       "2               0.13  \n",
       "3                NaN  \n",
       "4               1.60  \n",
       "5               4.17  \n",
       "6                NaN  \n",
       "7               2.88  \n",
       "8               0.10  \n",
       "9               0.11  "
      ]
     },
     "execution_count": 11,
     "metadata": {},
     "output_type": "execute_result"
    }
   ],
   "source": [
    "se.sql(\"\"\"\n",
    "SELECT *\n",
    "FROM reviews\n",
    "LIMIT 10\n",
    "\"\"\").toPandas()"
   ]
  },
  {
   "cell_type": "code",
   "execution_count": 12,
   "metadata": {},
   "outputs": [
    {
     "name": "stdout",
     "output_type": "stream",
     "text": [
      "root\n",
      " |-- apartment_id: string (nullable = true)\n",
      " |-- number_of_reviews: integer (nullable = true)\n",
      " |-- review_scores_rating: integer (nullable = true)\n",
      " |-- review_scores_accuracy: integer (nullable = true)\n",
      " |-- review_scores_cleanliness: integer (nullable = true)\n",
      " |-- review_scores_checkin: integer (nullable = true)\n",
      " |-- review_scores_communication: integer (nullable = true)\n",
      " |-- review_scores_location: integer (nullable = true)\n",
      " |-- review_scores_value: integer (nullable = true)\n",
      " |-- reviews_per_month: double (nullable = true)\n",
      "\n"
     ]
    }
   ],
   "source": [
    "reviews.printSchema()"
   ]
  },
  {
   "cell_type": "markdown",
   "metadata": {},
   "source": [
    "Пошаманим с запросом через вставку в SQL"
   ]
  },
  {
   "cell_type": "code",
   "execution_count": 13,
   "metadata": {},
   "outputs": [],
   "source": [
    "query = \", \".join([\n",
    "    \"to_number({c}) as f_{c}\".format(c=c)\n",
    "    for c in reviews.columns\n",
    "    if c != \"apartment_id\"\n",
    "])"
   ]
  },
  {
   "cell_type": "code",
   "execution_count": 14,
   "metadata": {},
   "outputs": [
    {
     "data": {
      "text/plain": [
       "'to_number(number_of_reviews) as f_number_of_reviews, to_number(review_scores_rating) as f_review_scores_rating, to_number(review_scores_accuracy) as f_review_scores_accuracy, to_number(review_scores_cleanliness) as f_review_scores_cleanliness, to_number(review_scores_checkin) as f_review_scores_checkin, to_number(review_scores_communication) as f_review_scores_communication, to_number(review_scores_location) as f_review_scores_location, to_number(review_scores_value) as f_review_scores_value, to_number(reviews_per_month) as f_reviews_per_month'"
      ]
     },
     "execution_count": 14,
     "metadata": {},
     "output_type": "execute_result"
    }
   ],
   "source": [
    "query"
   ]
  },
  {
   "cell_type": "code",
   "execution_count": 15,
   "metadata": {},
   "outputs": [],
   "source": [
    "se.sql(\"\"\"\n",
    "SELECT apartment_id, {}\n",
    "FROM reviews\n",
    "\"\"\".format(query)).registerTempTable(\"reviews_features\")"
   ]
  },
  {
   "cell_type": "code",
   "execution_count": 16,
   "metadata": {},
   "outputs": [
    {
     "data": {
      "text/html": [
       "<div>\n",
       "<style scoped>\n",
       "    .dataframe tbody tr th:only-of-type {\n",
       "        vertical-align: middle;\n",
       "    }\n",
       "\n",
       "    .dataframe tbody tr th {\n",
       "        vertical-align: top;\n",
       "    }\n",
       "\n",
       "    .dataframe thead th {\n",
       "        text-align: right;\n",
       "    }\n",
       "</style>\n",
       "<table border=\"1\" class=\"dataframe\">\n",
       "  <thead>\n",
       "    <tr style=\"text-align: right;\">\n",
       "      <th></th>\n",
       "      <th>apartment_id</th>\n",
       "      <th>f_number_of_reviews</th>\n",
       "      <th>f_review_scores_rating</th>\n",
       "      <th>f_review_scores_accuracy</th>\n",
       "      <th>f_review_scores_cleanliness</th>\n",
       "      <th>f_review_scores_checkin</th>\n",
       "      <th>f_review_scores_communication</th>\n",
       "      <th>f_review_scores_location</th>\n",
       "      <th>f_review_scores_value</th>\n",
       "      <th>f_reviews_per_month</th>\n",
       "    </tr>\n",
       "  </thead>\n",
       "  <tbody>\n",
       "    <tr>\n",
       "      <th>0</th>\n",
       "      <td>7677581</td>\n",
       "      <td>9.0</td>\n",
       "      <td>96.0</td>\n",
       "      <td>10.0</td>\n",
       "      <td>10.0</td>\n",
       "      <td>10.0</td>\n",
       "      <td>10.0</td>\n",
       "      <td>10.0</td>\n",
       "      <td>9.0</td>\n",
       "      <td>0.42</td>\n",
       "    </tr>\n",
       "    <tr>\n",
       "      <th>1</th>\n",
       "      <td>5831024</td>\n",
       "      <td>28.0</td>\n",
       "      <td>95.0</td>\n",
       "      <td>10.0</td>\n",
       "      <td>10.0</td>\n",
       "      <td>10.0</td>\n",
       "      <td>10.0</td>\n",
       "      <td>10.0</td>\n",
       "      <td>9.0</td>\n",
       "      <td>1.14</td>\n",
       "    </tr>\n",
       "    <tr>\n",
       "      <th>2</th>\n",
       "      <td>7292084</td>\n",
       "      <td>1.0</td>\n",
       "      <td>80.0</td>\n",
       "      <td>10.0</td>\n",
       "      <td>8.0</td>\n",
       "      <td>10.0</td>\n",
       "      <td>10.0</td>\n",
       "      <td>8.0</td>\n",
       "      <td>8.0</td>\n",
       "      <td>0.13</td>\n",
       "    </tr>\n",
       "    <tr>\n",
       "      <th>3</th>\n",
       "      <td>9674633</td>\n",
       "      <td>0.0</td>\n",
       "      <td>0.0</td>\n",
       "      <td>0.0</td>\n",
       "      <td>0.0</td>\n",
       "      <td>0.0</td>\n",
       "      <td>0.0</td>\n",
       "      <td>0.0</td>\n",
       "      <td>0.0</td>\n",
       "      <td>0.00</td>\n",
       "    </tr>\n",
       "    <tr>\n",
       "      <th>4</th>\n",
       "      <td>8495779</td>\n",
       "      <td>31.0</td>\n",
       "      <td>92.0</td>\n",
       "      <td>9.0</td>\n",
       "      <td>8.0</td>\n",
       "      <td>10.0</td>\n",
       "      <td>10.0</td>\n",
       "      <td>10.0</td>\n",
       "      <td>9.0</td>\n",
       "      <td>1.60</td>\n",
       "    </tr>\n",
       "  </tbody>\n",
       "</table>\n",
       "</div>"
      ],
      "text/plain": [
       "  apartment_id  f_number_of_reviews  f_review_scores_rating  \\\n",
       "0      7677581                  9.0                    96.0   \n",
       "1      5831024                 28.0                    95.0   \n",
       "2      7292084                  1.0                    80.0   \n",
       "3      9674633                  0.0                     0.0   \n",
       "4      8495779                 31.0                    92.0   \n",
       "\n",
       "   f_review_scores_accuracy  f_review_scores_cleanliness  \\\n",
       "0                      10.0                         10.0   \n",
       "1                      10.0                         10.0   \n",
       "2                      10.0                          8.0   \n",
       "3                       0.0                          0.0   \n",
       "4                       9.0                          8.0   \n",
       "\n",
       "   f_review_scores_checkin  f_review_scores_communication  \\\n",
       "0                     10.0                           10.0   \n",
       "1                     10.0                           10.0   \n",
       "2                     10.0                           10.0   \n",
       "3                      0.0                            0.0   \n",
       "4                     10.0                           10.0   \n",
       "\n",
       "   f_review_scores_location  f_review_scores_value  f_reviews_per_month  \n",
       "0                      10.0                    9.0                 0.42  \n",
       "1                      10.0                    9.0                 1.14  \n",
       "2                       8.0                    8.0                 0.13  \n",
       "3                       0.0                    0.0                 0.00  \n",
       "4                      10.0                    9.0                 1.60  "
      ]
     },
     "execution_count": 16,
     "metadata": {},
     "output_type": "execute_result"
    }
   ],
   "source": [
    "se.sql(\"\"\"\n",
    "SELECT *\n",
    "FROM reviews_features\n",
    "LIMIT 5\n",
    "\"\"\").toPandas()"
   ]
  },
  {
   "cell_type": "code",
   "execution_count": null,
   "metadata": {},
   "outputs": [],
   "source": []
  },
  {
   "cell_type": "code",
   "execution_count": 17,
   "metadata": {},
   "outputs": [
    {
     "data": {
      "text/html": [
       "<div>\n",
       "<style scoped>\n",
       "    .dataframe tbody tr th:only-of-type {\n",
       "        vertical-align: middle;\n",
       "    }\n",
       "\n",
       "    .dataframe tbody tr th {\n",
       "        vertical-align: top;\n",
       "    }\n",
       "\n",
       "    .dataframe thead th {\n",
       "        text-align: right;\n",
       "    }\n",
       "</style>\n",
       "<table border=\"1\" class=\"dataframe\">\n",
       "  <thead>\n",
       "    <tr style=\"text-align: right;\">\n",
       "      <th></th>\n",
       "      <th>apartment_id</th>\n",
       "      <th>property_type</th>\n",
       "      <th>room_type</th>\n",
       "      <th>accommodates</th>\n",
       "      <th>bathrooms</th>\n",
       "      <th>bedrooms</th>\n",
       "      <th>beds</th>\n",
       "      <th>bed_type</th>\n",
       "      <th>amenities</th>\n",
       "      <th>guests_included</th>\n",
       "      <th>cleaning_fee</th>\n",
       "      <th>square_feet</th>\n",
       "      <th>extra_people</th>\n",
       "    </tr>\n",
       "  </thead>\n",
       "  <tbody>\n",
       "    <tr>\n",
       "      <th>0</th>\n",
       "      <td>17560520</td>\n",
       "      <td>Apartment</td>\n",
       "      <td>Entire home/apt</td>\n",
       "      <td>3</td>\n",
       "      <td>1.0</td>\n",
       "      <td>0</td>\n",
       "      <td>2</td>\n",
       "      <td>Real Bed</td>\n",
       "      <td>TV,Internet,Wireless Internet,Air conditioning...</td>\n",
       "      <td>1</td>\n",
       "      <td>65.0</td>\n",
       "      <td>NaN</td>\n",
       "      <td>0</td>\n",
       "    </tr>\n",
       "    <tr>\n",
       "      <th>1</th>\n",
       "      <td>13168651</td>\n",
       "      <td>Townhouse</td>\n",
       "      <td>Entire home/apt</td>\n",
       "      <td>6</td>\n",
       "      <td>2.5</td>\n",
       "      <td>2</td>\n",
       "      <td>3</td>\n",
       "      <td>Real Bed</td>\n",
       "      <td>TV,Wireless Internet,Air conditioning,Kitchen,...</td>\n",
       "      <td>1</td>\n",
       "      <td>NaN</td>\n",
       "      <td>NaN</td>\n",
       "      <td>0</td>\n",
       "    </tr>\n",
       "    <tr>\n",
       "      <th>2</th>\n",
       "      <td>5495668</td>\n",
       "      <td>House</td>\n",
       "      <td>Entire home/apt</td>\n",
       "      <td>10</td>\n",
       "      <td>3.0</td>\n",
       "      <td>4</td>\n",
       "      <td>6</td>\n",
       "      <td>Real Bed</td>\n",
       "      <td>TV,Cable TV,Internet,Wireless Internet,Air con...</td>\n",
       "      <td>1</td>\n",
       "      <td>200.0</td>\n",
       "      <td>NaN</td>\n",
       "      <td>0</td>\n",
       "    </tr>\n",
       "    <tr>\n",
       "      <th>3</th>\n",
       "      <td>5593531</td>\n",
       "      <td>Apartment</td>\n",
       "      <td>Entire home/apt</td>\n",
       "      <td>6</td>\n",
       "      <td>2.0</td>\n",
       "      <td>3</td>\n",
       "      <td>3</td>\n",
       "      <td>Real Bed</td>\n",
       "      <td>TV,Cable TV,Internet,Wireless Internet,Air con...</td>\n",
       "      <td>1</td>\n",
       "      <td>85.0</td>\n",
       "      <td>NaN</td>\n",
       "      <td>0</td>\n",
       "    </tr>\n",
       "    <tr>\n",
       "      <th>4</th>\n",
       "      <td>347342</td>\n",
       "      <td>House</td>\n",
       "      <td>Entire home/apt</td>\n",
       "      <td>8</td>\n",
       "      <td>2.0</td>\n",
       "      <td>3</td>\n",
       "      <td>3</td>\n",
       "      <td>Real Bed</td>\n",
       "      <td>TV,Cable TV,Internet,Wireless Internet,Air con...</td>\n",
       "      <td>6</td>\n",
       "      <td>100.0</td>\n",
       "      <td>NaN</td>\n",
       "      <td>25</td>\n",
       "    </tr>\n",
       "    <tr>\n",
       "      <th>5</th>\n",
       "      <td>1854638</td>\n",
       "      <td>Apartment</td>\n",
       "      <td>Entire home/apt</td>\n",
       "      <td>2</td>\n",
       "      <td>1.0</td>\n",
       "      <td>1</td>\n",
       "      <td>1</td>\n",
       "      <td>Real Bed</td>\n",
       "      <td>TV,Cable TV,Internet,Wireless Internet,Air con...</td>\n",
       "      <td>1</td>\n",
       "      <td>NaN</td>\n",
       "      <td>NaN</td>\n",
       "      <td>0</td>\n",
       "    </tr>\n",
       "    <tr>\n",
       "      <th>6</th>\n",
       "      <td>7915978</td>\n",
       "      <td>Condominium</td>\n",
       "      <td>Entire home/apt</td>\n",
       "      <td>6</td>\n",
       "      <td>2.0</td>\n",
       "      <td>3</td>\n",
       "      <td>5</td>\n",
       "      <td>Real Bed</td>\n",
       "      <td>TV,Cable TV,Internet,Wireless Internet,Air con...</td>\n",
       "      <td>1</td>\n",
       "      <td>150.0</td>\n",
       "      <td>NaN</td>\n",
       "      <td>0</td>\n",
       "    </tr>\n",
       "    <tr>\n",
       "      <th>7</th>\n",
       "      <td>729648</td>\n",
       "      <td>Apartment</td>\n",
       "      <td>Entire home/apt</td>\n",
       "      <td>4</td>\n",
       "      <td>2.0</td>\n",
       "      <td>2</td>\n",
       "      <td>2</td>\n",
       "      <td>Real Bed</td>\n",
       "      <td>TV,Internet,Wireless Internet,Air conditioning...</td>\n",
       "      <td>4</td>\n",
       "      <td>75.0</td>\n",
       "      <td>NaN</td>\n",
       "      <td>50</td>\n",
       "    </tr>\n",
       "    <tr>\n",
       "      <th>8</th>\n",
       "      <td>4996627</td>\n",
       "      <td>House</td>\n",
       "      <td>Entire home/apt</td>\n",
       "      <td>4</td>\n",
       "      <td>1.0</td>\n",
       "      <td>2</td>\n",
       "      <td>3</td>\n",
       "      <td>Real Bed</td>\n",
       "      <td>TV,Cable TV,Internet,Wireless Internet,Air con...</td>\n",
       "      <td>1</td>\n",
       "      <td>100.0</td>\n",
       "      <td>NaN</td>\n",
       "      <td>0</td>\n",
       "    </tr>\n",
       "    <tr>\n",
       "      <th>9</th>\n",
       "      <td>10993131</td>\n",
       "      <td>Apartment</td>\n",
       "      <td>Entire home/apt</td>\n",
       "      <td>2</td>\n",
       "      <td>1.0</td>\n",
       "      <td>1</td>\n",
       "      <td>1</td>\n",
       "      <td>Real Bed</td>\n",
       "      <td>TV,Internet,Wireless Internet,Air conditioning...</td>\n",
       "      <td>2</td>\n",
       "      <td>55.0</td>\n",
       "      <td>NaN</td>\n",
       "      <td>100</td>\n",
       "    </tr>\n",
       "  </tbody>\n",
       "</table>\n",
       "</div>"
      ],
      "text/plain": [
       "  apartment_id property_type        room_type  accommodates  bathrooms  \\\n",
       "0     17560520     Apartment  Entire home/apt             3        1.0   \n",
       "1     13168651     Townhouse  Entire home/apt             6        2.5   \n",
       "2      5495668         House  Entire home/apt            10        3.0   \n",
       "3      5593531     Apartment  Entire home/apt             6        2.0   \n",
       "4       347342         House  Entire home/apt             8        2.0   \n",
       "5      1854638     Apartment  Entire home/apt             2        1.0   \n",
       "6      7915978   Condominium  Entire home/apt             6        2.0   \n",
       "7       729648     Apartment  Entire home/apt             4        2.0   \n",
       "8      4996627         House  Entire home/apt             4        1.0   \n",
       "9     10993131     Apartment  Entire home/apt             2        1.0   \n",
       "\n",
       "   bedrooms  beds  bed_type  \\\n",
       "0         0     2  Real Bed   \n",
       "1         2     3  Real Bed   \n",
       "2         4     6  Real Bed   \n",
       "3         3     3  Real Bed   \n",
       "4         3     3  Real Bed   \n",
       "5         1     1  Real Bed   \n",
       "6         3     5  Real Bed   \n",
       "7         2     2  Real Bed   \n",
       "8         2     3  Real Bed   \n",
       "9         1     1  Real Bed   \n",
       "\n",
       "                                           amenities  guests_included  \\\n",
       "0  TV,Internet,Wireless Internet,Air conditioning...                1   \n",
       "1  TV,Wireless Internet,Air conditioning,Kitchen,...                1   \n",
       "2  TV,Cable TV,Internet,Wireless Internet,Air con...                1   \n",
       "3  TV,Cable TV,Internet,Wireless Internet,Air con...                1   \n",
       "4  TV,Cable TV,Internet,Wireless Internet,Air con...                6   \n",
       "5  TV,Cable TV,Internet,Wireless Internet,Air con...                1   \n",
       "6  TV,Cable TV,Internet,Wireless Internet,Air con...                1   \n",
       "7  TV,Internet,Wireless Internet,Air conditioning...                4   \n",
       "8  TV,Cable TV,Internet,Wireless Internet,Air con...                1   \n",
       "9  TV,Internet,Wireless Internet,Air conditioning...                2   \n",
       "\n",
       "   cleaning_fee  square_feet  extra_people  \n",
       "0          65.0          NaN             0  \n",
       "1           NaN          NaN             0  \n",
       "2         200.0          NaN             0  \n",
       "3          85.0          NaN             0  \n",
       "4         100.0          NaN            25  \n",
       "5           NaN          NaN             0  \n",
       "6         150.0          NaN             0  \n",
       "7          75.0          NaN            50  \n",
       "8         100.0          NaN             0  \n",
       "9          55.0          NaN           100  "
      ]
     },
     "execution_count": 17,
     "metadata": {},
     "output_type": "execute_result"
    }
   ],
   "source": [
    "se.sql(\"\"\"\n",
    "    SELECT * \n",
    "    FROM accommodation\n",
    "    LIMIT 10\n",
    "\"\"\").toPandas()"
   ]
  },
  {
   "cell_type": "markdown",
   "metadata": {},
   "source": [
    "В accommodation есть много хороших категориальных признаков\n",
    "Закодируем их чуть позже, сейчас просто оценим масштаб"
   ]
  },
  {
   "cell_type": "code",
   "execution_count": 18,
   "metadata": {},
   "outputs": [
    {
     "data": {
      "text/html": [
       "<div>\n",
       "<style scoped>\n",
       "    .dataframe tbody tr th:only-of-type {\n",
       "        vertical-align: middle;\n",
       "    }\n",
       "\n",
       "    .dataframe tbody tr th {\n",
       "        vertical-align: top;\n",
       "    }\n",
       "\n",
       "    .dataframe thead th {\n",
       "        text-align: right;\n",
       "    }\n",
       "</style>\n",
       "<table border=\"1\" class=\"dataframe\">\n",
       "  <thead>\n",
       "    <tr style=\"text-align: right;\">\n",
       "      <th></th>\n",
       "      <th>property_type</th>\n",
       "    </tr>\n",
       "  </thead>\n",
       "  <tbody>\n",
       "    <tr>\n",
       "      <th>0</th>\n",
       "      <td>Heritage hotel (India)</td>\n",
       "    </tr>\n",
       "    <tr>\n",
       "      <th>1</th>\n",
       "      <td>Apartment</td>\n",
       "    </tr>\n",
       "    <tr>\n",
       "      <th>2</th>\n",
       "      <td>Townhouse</td>\n",
       "    </tr>\n",
       "    <tr>\n",
       "      <th>3</th>\n",
       "      <td>Bed &amp; Breakfast</td>\n",
       "    </tr>\n",
       "    <tr>\n",
       "      <th>4</th>\n",
       "      <td>Earth House</td>\n",
       "    </tr>\n",
       "    <tr>\n",
       "      <th>5</th>\n",
       "      <td>Pension (Korea)</td>\n",
       "    </tr>\n",
       "    <tr>\n",
       "      <th>6</th>\n",
       "      <td>Guest suite</td>\n",
       "    </tr>\n",
       "    <tr>\n",
       "      <th>7</th>\n",
       "      <td>Timeshare</td>\n",
       "    </tr>\n",
       "    <tr>\n",
       "      <th>8</th>\n",
       "      <td>Hut</td>\n",
       "    </tr>\n",
       "    <tr>\n",
       "      <th>9</th>\n",
       "      <td>None</td>\n",
       "    </tr>\n",
       "    <tr>\n",
       "      <th>10</th>\n",
       "      <td>Camper/RV</td>\n",
       "    </tr>\n",
       "    <tr>\n",
       "      <th>11</th>\n",
       "      <td>Boutique hotel</td>\n",
       "    </tr>\n",
       "    <tr>\n",
       "      <th>12</th>\n",
       "      <td>Castle</td>\n",
       "    </tr>\n",
       "    <tr>\n",
       "      <th>13</th>\n",
       "      <td>Loft</td>\n",
       "    </tr>\n",
       "    <tr>\n",
       "      <th>14</th>\n",
       "      <td>Guesthouse</td>\n",
       "    </tr>\n",
       "    <tr>\n",
       "      <th>15</th>\n",
       "      <td>Hostel</td>\n",
       "    </tr>\n",
       "    <tr>\n",
       "      <th>16</th>\n",
       "      <td>Lighthouse</td>\n",
       "    </tr>\n",
       "    <tr>\n",
       "      <th>17</th>\n",
       "      <td>Cave</td>\n",
       "    </tr>\n",
       "    <tr>\n",
       "      <th>18</th>\n",
       "      <td>Villa</td>\n",
       "    </tr>\n",
       "    <tr>\n",
       "      <th>19</th>\n",
       "      <td>Ryokan (Japan)</td>\n",
       "    </tr>\n",
       "    <tr>\n",
       "      <th>20</th>\n",
       "      <td>Car</td>\n",
       "    </tr>\n",
       "    <tr>\n",
       "      <th>21</th>\n",
       "      <td>Entire Floor</td>\n",
       "    </tr>\n",
       "    <tr>\n",
       "      <th>22</th>\n",
       "      <td>Other</td>\n",
       "    </tr>\n",
       "    <tr>\n",
       "      <th>23</th>\n",
       "      <td>Serviced apartment</td>\n",
       "    </tr>\n",
       "    <tr>\n",
       "      <th>24</th>\n",
       "      <td>Treehouse</td>\n",
       "    </tr>\n",
       "    <tr>\n",
       "      <th>25</th>\n",
       "      <td>In-law</td>\n",
       "    </tr>\n",
       "    <tr>\n",
       "      <th>26</th>\n",
       "      <td>Nature lodge</td>\n",
       "    </tr>\n",
       "    <tr>\n",
       "      <th>27</th>\n",
       "      <td>Dorm</td>\n",
       "    </tr>\n",
       "    <tr>\n",
       "      <th>28</th>\n",
       "      <td>Igloo</td>\n",
       "    </tr>\n",
       "    <tr>\n",
       "      <th>29</th>\n",
       "      <td>Condominium</td>\n",
       "    </tr>\n",
       "    <tr>\n",
       "      <th>30</th>\n",
       "      <td>House</td>\n",
       "    </tr>\n",
       "    <tr>\n",
       "      <th>31</th>\n",
       "      <td>Chalet</td>\n",
       "    </tr>\n",
       "    <tr>\n",
       "      <th>32</th>\n",
       "      <td>Yurt</td>\n",
       "    </tr>\n",
       "    <tr>\n",
       "      <th>33</th>\n",
       "      <td>Van</td>\n",
       "    </tr>\n",
       "    <tr>\n",
       "      <th>34</th>\n",
       "      <td>Tipi</td>\n",
       "    </tr>\n",
       "    <tr>\n",
       "      <th>35</th>\n",
       "      <td>Parking Space</td>\n",
       "    </tr>\n",
       "    <tr>\n",
       "      <th>36</th>\n",
       "      <td>Island</td>\n",
       "    </tr>\n",
       "    <tr>\n",
       "      <th>37</th>\n",
       "      <td>Tent</td>\n",
       "    </tr>\n",
       "    <tr>\n",
       "      <th>38</th>\n",
       "      <td>Train</td>\n",
       "    </tr>\n",
       "    <tr>\n",
       "      <th>39</th>\n",
       "      <td>Boat</td>\n",
       "    </tr>\n",
       "    <tr>\n",
       "      <th>40</th>\n",
       "      <td>Vacation home</td>\n",
       "    </tr>\n",
       "    <tr>\n",
       "      <th>41</th>\n",
       "      <td>2017-04-02</td>\n",
       "    </tr>\n",
       "    <tr>\n",
       "      <th>42</th>\n",
       "      <td>Casa particular</td>\n",
       "    </tr>\n",
       "    <tr>\n",
       "      <th>43</th>\n",
       "      <td>Bungalow</td>\n",
       "    </tr>\n",
       "    <tr>\n",
       "      <th>44</th>\n",
       "      <td>Plane</td>\n",
       "    </tr>\n",
       "    <tr>\n",
       "      <th>45</th>\n",
       "      <td>Cabin</td>\n",
       "    </tr>\n",
       "  </tbody>\n",
       "</table>\n",
       "</div>"
      ],
      "text/plain": [
       "             property_type\n",
       "0   Heritage hotel (India)\n",
       "1                Apartment\n",
       "2                Townhouse\n",
       "3          Bed & Breakfast\n",
       "4              Earth House\n",
       "5          Pension (Korea)\n",
       "6              Guest suite\n",
       "7                Timeshare\n",
       "8                      Hut\n",
       "9                     None\n",
       "10               Camper/RV\n",
       "11          Boutique hotel\n",
       "12                  Castle\n",
       "13                    Loft\n",
       "14              Guesthouse\n",
       "15                  Hostel\n",
       "16              Lighthouse\n",
       "17                    Cave\n",
       "18                   Villa\n",
       "19          Ryokan (Japan)\n",
       "20                     Car\n",
       "21            Entire Floor\n",
       "22                   Other\n",
       "23      Serviced apartment\n",
       "24               Treehouse\n",
       "25                  In-law\n",
       "26            Nature lodge\n",
       "27                    Dorm\n",
       "28                   Igloo\n",
       "29             Condominium\n",
       "30                   House\n",
       "31                  Chalet\n",
       "32                    Yurt\n",
       "33                     Van\n",
       "34                    Tipi\n",
       "35           Parking Space\n",
       "36                  Island\n",
       "37                    Tent\n",
       "38                   Train\n",
       "39                    Boat\n",
       "40           Vacation home\n",
       "41              2017-04-02\n",
       "42         Casa particular\n",
       "43                Bungalow\n",
       "44                   Plane\n",
       "45                   Cabin"
      ]
     },
     "execution_count": 18,
     "metadata": {},
     "output_type": "execute_result"
    }
   ],
   "source": [
    "se.sql(\"\"\"\n",
    "SELECT distinct(property_type)\n",
    "FROM accommodation\n",
    "\"\"\").toPandas()"
   ]
  },
  {
   "cell_type": "code",
   "execution_count": 19,
   "metadata": {},
   "outputs": [
    {
     "data": {
      "text/html": [
       "<div>\n",
       "<style scoped>\n",
       "    .dataframe tbody tr th:only-of-type {\n",
       "        vertical-align: middle;\n",
       "    }\n",
       "\n",
       "    .dataframe tbody tr th {\n",
       "        vertical-align: top;\n",
       "    }\n",
       "\n",
       "    .dataframe thead th {\n",
       "        text-align: right;\n",
       "    }\n",
       "</style>\n",
       "<table border=\"1\" class=\"dataframe\">\n",
       "  <thead>\n",
       "    <tr style=\"text-align: right;\">\n",
       "      <th></th>\n",
       "      <th>room_type</th>\n",
       "    </tr>\n",
       "  </thead>\n",
       "  <tbody>\n",
       "    <tr>\n",
       "      <th>0</th>\n",
       "      <td>Shared room</td>\n",
       "    </tr>\n",
       "    <tr>\n",
       "      <th>1</th>\n",
       "      <td>None</td>\n",
       "    </tr>\n",
       "    <tr>\n",
       "      <th>2</th>\n",
       "      <td>Entire home/apt</td>\n",
       "    </tr>\n",
       "    <tr>\n",
       "      <th>3</th>\n",
       "      <td>9</td>\n",
       "    </tr>\n",
       "    <tr>\n",
       "      <th>4</th>\n",
       "      <td>Private room</td>\n",
       "    </tr>\n",
       "  </tbody>\n",
       "</table>\n",
       "</div>"
      ],
      "text/plain": [
       "         room_type\n",
       "0      Shared room\n",
       "1             None\n",
       "2  Entire home/apt\n",
       "3                9\n",
       "4     Private room"
      ]
     },
     "execution_count": 19,
     "metadata": {},
     "output_type": "execute_result"
    }
   ],
   "source": [
    "se.sql(\"\"\"\n",
    "SELECT distinct(room_type)\n",
    "FROM accommodation\n",
    "\"\"\").toPandas()"
   ]
  },
  {
   "cell_type": "code",
   "execution_count": 20,
   "metadata": {},
   "outputs": [
    {
     "data": {
      "text/html": [
       "<div>\n",
       "<style scoped>\n",
       "    .dataframe tbody tr th:only-of-type {\n",
       "        vertical-align: middle;\n",
       "    }\n",
       "\n",
       "    .dataframe tbody tr th {\n",
       "        vertical-align: top;\n",
       "    }\n",
       "\n",
       "    .dataframe thead th {\n",
       "        text-align: right;\n",
       "    }\n",
       "</style>\n",
       "<table border=\"1\" class=\"dataframe\">\n",
       "  <thead>\n",
       "    <tr style=\"text-align: right;\">\n",
       "      <th></th>\n",
       "      <th>bed_type</th>\n",
       "    </tr>\n",
       "  </thead>\n",
       "  <tbody>\n",
       "    <tr>\n",
       "      <th>0</th>\n",
       "      <td>None</td>\n",
       "    </tr>\n",
       "    <tr>\n",
       "      <th>1</th>\n",
       "      <td>Airbed</td>\n",
       "    </tr>\n",
       "    <tr>\n",
       "      <th>2</th>\n",
       "      <td>Futon</td>\n",
       "    </tr>\n",
       "    <tr>\n",
       "      <th>3</th>\n",
       "      <td>Pull-out Sofa</td>\n",
       "    </tr>\n",
       "    <tr>\n",
       "      <th>4</th>\n",
       "      <td>Couch</td>\n",
       "    </tr>\n",
       "    <tr>\n",
       "      <th>5</th>\n",
       "      <td>9</td>\n",
       "    </tr>\n",
       "    <tr>\n",
       "      <th>6</th>\n",
       "      <td>Real Bed</td>\n",
       "    </tr>\n",
       "  </tbody>\n",
       "</table>\n",
       "</div>"
      ],
      "text/plain": [
       "        bed_type\n",
       "0           None\n",
       "1         Airbed\n",
       "2          Futon\n",
       "3  Pull-out Sofa\n",
       "4          Couch\n",
       "5              9\n",
       "6       Real Bed"
      ]
     },
     "execution_count": 20,
     "metadata": {},
     "output_type": "execute_result"
    }
   ],
   "source": [
    "se.sql(\"\"\"\n",
    "SELECT distinct(bed_type)\n",
    "FROM accommodation\n",
    "\"\"\").toPandas()"
   ]
  },
  {
   "cell_type": "code",
   "execution_count": null,
   "metadata": {},
   "outputs": [],
   "source": []
  },
  {
   "cell_type": "code",
   "execution_count": 21,
   "metadata": {
    "cell_status": {
     "execute_time": {
      "duration": 3452.982177734375,
      "end_time": 1612691029064.352
     }
    }
   },
   "outputs": [
    {
     "data": {
      "text/html": [
       "<div>\n",
       "<style scoped>\n",
       "    .dataframe tbody tr th:only-of-type {\n",
       "        vertical-align: middle;\n",
       "    }\n",
       "\n",
       "    .dataframe tbody tr th {\n",
       "        vertical-align: top;\n",
       "    }\n",
       "\n",
       "    .dataframe thead th {\n",
       "        text-align: right;\n",
       "    }\n",
       "</style>\n",
       "<table border=\"1\" class=\"dataframe\">\n",
       "  <thead>\n",
       "    <tr style=\"text-align: right;\">\n",
       "      <th></th>\n",
       "      <th>col</th>\n",
       "    </tr>\n",
       "  </thead>\n",
       "  <tbody>\n",
       "    <tr>\n",
       "      <th>0</th>\n",
       "      <td>Lock on Bedroom Door</td>\n",
       "    </tr>\n",
       "    <tr>\n",
       "      <th>1</th>\n",
       "      <td>Indoor fireplace</td>\n",
       "    </tr>\n",
       "    <tr>\n",
       "      <th>2</th>\n",
       "      <td>Wheelchair accessible</td>\n",
       "    </tr>\n",
       "    <tr>\n",
       "      <th>3</th>\n",
       "      <td>Private bathroom</td>\n",
       "    </tr>\n",
       "    <tr>\n",
       "      <th>4</th>\n",
       "      <td>Private living room</td>\n",
       "    </tr>\n",
       "    <tr>\n",
       "      <th>...</th>\n",
       "      <td>...</td>\n",
       "    </tr>\n",
       "    <tr>\n",
       "      <th>131</th>\n",
       "      <td>Baby bath</td>\n",
       "    </tr>\n",
       "    <tr>\n",
       "      <th>132</th>\n",
       "      <td>Elevator in building</td>\n",
       "    </tr>\n",
       "    <tr>\n",
       "      <th>133</th>\n",
       "      <td>Free parking on premises</td>\n",
       "    </tr>\n",
       "    <tr>\n",
       "      <th>134</th>\n",
       "      <td>24-hour check-in</td>\n",
       "    </tr>\n",
       "    <tr>\n",
       "      <th>135</th>\n",
       "      <td>Buzzer/Wireless Intercom</td>\n",
       "    </tr>\n",
       "  </tbody>\n",
       "</table>\n",
       "<p>136 rows × 1 columns</p>\n",
       "</div>"
      ],
      "text/plain": [
       "                          col\n",
       "0        Lock on Bedroom Door\n",
       "1            Indoor fireplace\n",
       "2       Wheelchair accessible\n",
       "3            Private bathroom\n",
       "4         Private living room\n",
       "..                        ...\n",
       "131                 Baby bath\n",
       "132      Elevator in building\n",
       "133  Free parking on premises\n",
       "134          24-hour check-in\n",
       "135  Buzzer/Wireless Intercom\n",
       "\n",
       "[136 rows x 1 columns]"
      ]
     },
     "execution_count": 21,
     "metadata": {},
     "output_type": "execute_result"
    }
   ],
   "source": [
    "se.sql(\"\"\"\n",
    "    SELECT distinct(explode(split(amenities, ',')))\n",
    "    FROM accommodation\n",
    "\"\"\").toPandas()"
   ]
  },
  {
   "cell_type": "code",
   "execution_count": null,
   "metadata": {
    "cell_status": {
     "execute_time": {
      "duration": 3517.9638671875,
      "end_time": 1612691032639.448
     }
    }
   },
   "outputs": [],
   "source": []
  },
  {
   "cell_type": "markdown",
   "metadata": {},
   "source": [
    "#### Программно создаваемые запросы через DataFrame API"
   ]
  },
  {
   "cell_type": "markdown",
   "metadata": {},
   "source": [
    "Чтобы более гибко контролировать запросы, можно использовать не тестовый способ запуска SQL, а программный через DataFrame API.\n",
    "\n",
    "Подробнее про то, как составлять такие запросы и какие готовые фукнции уже существуют - на официальном сайте https://spark.apache.org/docs/2.1.0/api/python/pyspark.sql.html"
   ]
  },
  {
   "cell_type": "code",
   "execution_count": 22,
   "metadata": {
    "cell_status": {
     "execute_time": {
      "duration": 302.39599609375,
      "end_time": 1612691033820.678
     }
    }
   },
   "outputs": [],
   "source": [
    "from pyspark.sql import functions as F"
   ]
  },
  {
   "cell_type": "code",
   "execution_count": 23,
   "metadata": {},
   "outputs": [
    {
     "name": "stdout",
     "output_type": "stream",
     "text": [
      "root\n",
      " |-- id: string (nullable = true)\n",
      " |-- name: string (nullable = true)\n",
      " |-- summary: string (nullable = true)\n",
      " |-- description: string (nullable = true)\n",
      " |-- experiences_offered: string (nullable = true)\n",
      " |-- notes: string (nullable = true)\n",
      " |-- price: string (nullable = true)\n",
      " |-- host_id: string (nullable = true)\n",
      "\n"
     ]
    }
   ],
   "source": [
    "apartment.printSchema()"
   ]
  },
  {
   "cell_type": "code",
   "execution_count": 24,
   "metadata": {
    "cell_status": {
     "execute_time": {
      "duration": 819.202880859375,
      "end_time": 1612691034789.945
     }
    }
   },
   "outputs": [
    {
     "data": {
      "text/html": [
       "<div>\n",
       "<style scoped>\n",
       "    .dataframe tbody tr th:only-of-type {\n",
       "        vertical-align: middle;\n",
       "    }\n",
       "\n",
       "    .dataframe tbody tr th {\n",
       "        vertical-align: top;\n",
       "    }\n",
       "\n",
       "    .dataframe thead th {\n",
       "        text-align: right;\n",
       "    }\n",
       "</style>\n",
       "<table border=\"1\" class=\"dataframe\">\n",
       "  <thead>\n",
       "    <tr style=\"text-align: right;\">\n",
       "      <th></th>\n",
       "      <th>id</th>\n",
       "      <th>name</th>\n",
       "      <th>price</th>\n",
       "    </tr>\n",
       "  </thead>\n",
       "  <tbody>\n",
       "    <tr>\n",
       "      <th>0</th>\n",
       "      <td>8195459</td>\n",
       "      <td>Queensize Bedroom Ensuite Bathroom</td>\n",
       "      <td>60</td>\n",
       "    </tr>\n",
       "    <tr>\n",
       "      <th>1</th>\n",
       "      <td>13101666</td>\n",
       "      <td>A charming little end Unit</td>\n",
       "      <td>119</td>\n",
       "    </tr>\n",
       "    <tr>\n",
       "      <th>2</th>\n",
       "      <td>16834619</td>\n",
       "      <td>Live by the beach 2!</td>\n",
       "      <td>69</td>\n",
       "    </tr>\n",
       "    <tr>\n",
       "      <th>3</th>\n",
       "      <td>10179588</td>\n",
       "      <td>Great location, min from the beach</td>\n",
       "      <td>50</td>\n",
       "    </tr>\n",
       "    <tr>\n",
       "      <th>4</th>\n",
       "      <td>17404601</td>\n",
       "      <td>Cosy Bright Room</td>\n",
       "      <td>45</td>\n",
       "    </tr>\n",
       "    <tr>\n",
       "      <th>5</th>\n",
       "      <td>15469718</td>\n",
       "      <td>Beach lifestyle/ Private Suite, Easy City access.</td>\n",
       "      <td>60</td>\n",
       "    </tr>\n",
       "    <tr>\n",
       "      <th>6</th>\n",
       "      <td>9944064</td>\n",
       "      <td>Light, Bright and Fresh Home</td>\n",
       "      <td>149</td>\n",
       "    </tr>\n",
       "    <tr>\n",
       "      <th>7</th>\n",
       "      <td>13776164</td>\n",
       "      <td>Light and Charming QU sized room.</td>\n",
       "      <td>45</td>\n",
       "    </tr>\n",
       "    <tr>\n",
       "      <th>8</th>\n",
       "      <td>10440278</td>\n",
       "      <td>Bonbeach Water Fun - *RIVERFRONT + BEACH*</td>\n",
       "      <td>60</td>\n",
       "    </tr>\n",
       "    <tr>\n",
       "      <th>9</th>\n",
       "      <td>16802564</td>\n",
       "      <td>休闲度假的好去处！！</td>\n",
       "      <td>55</td>\n",
       "    </tr>\n",
       "  </tbody>\n",
       "</table>\n",
       "</div>"
      ],
      "text/plain": [
       "         id                                               name price\n",
       "0   8195459                 Queensize Bedroom Ensuite Bathroom    60\n",
       "1  13101666                         A charming little end Unit   119\n",
       "2  16834619                               Live by the beach 2!    69\n",
       "3  10179588                 Great location, min from the beach    50\n",
       "4  17404601                                   Cosy Bright Room    45\n",
       "5  15469718  Beach lifestyle/ Private Suite, Easy City access.    60\n",
       "6   9944064                       Light, Bright and Fresh Home   149\n",
       "7  13776164                  Light and Charming QU sized room.    45\n",
       "8  10440278          Bonbeach Water Fun - *RIVERFRONT + BEACH*    60\n",
       "9  16802564                                         休闲度假的好去处！！    55"
      ]
     },
     "execution_count": 24,
     "metadata": {},
     "output_type": "execute_result"
    }
   ],
   "source": [
    "apartment.select(['id', 'name', 'price']).limit(10).toPandas()"
   ]
  },
  {
   "cell_type": "code",
   "execution_count": 25,
   "metadata": {
    "cell_status": {
     "execute_time": {
      "duration": 1373.92919921875,
      "end_time": 1612691036196.562
     }
    }
   },
   "outputs": [
    {
     "data": {
      "text/html": [
       "<div>\n",
       "<style scoped>\n",
       "    .dataframe tbody tr th:only-of-type {\n",
       "        vertical-align: middle;\n",
       "    }\n",
       "\n",
       "    .dataframe tbody tr th {\n",
       "        vertical-align: top;\n",
       "    }\n",
       "\n",
       "    .dataframe thead th {\n",
       "        text-align: right;\n",
       "    }\n",
       "</style>\n",
       "<table border=\"1\" class=\"dataframe\">\n",
       "  <thead>\n",
       "    <tr style=\"text-align: right;\">\n",
       "      <th></th>\n",
       "      <th>id</th>\n",
       "      <th>name</th>\n",
       "      <th>price</th>\n",
       "    </tr>\n",
       "  </thead>\n",
       "  <tbody>\n",
       "    <tr>\n",
       "      <th>0</th>\n",
       "      <td>14916824</td>\n",
       "      <td>Chambre privée centre-ville/Private room downtown</td>\n",
       "      <td>25</td>\n",
       "    </tr>\n",
       "  </tbody>\n",
       "</table>\n",
       "</div>"
      ],
      "text/plain": [
       "         id                                               name price\n",
       "0  14916824  Chambre privée centre-ville/Private room downtown    25"
      ]
     },
     "execution_count": 25,
     "metadata": {},
     "output_type": "execute_result"
    }
   ],
   "source": [
    "apartment.select(['id', 'name', 'price']).where(F.col('id') == '14916824').limit(10).toPandas()"
   ]
  },
  {
   "cell_type": "code",
   "execution_count": 26,
   "metadata": {
    "cell_status": {
     "execute_time": {
      "duration": 5381.049072265625,
      "end_time": 1612691044470.604
     }
    }
   },
   "outputs": [],
   "source": [
    "amenities_c = se.sql(\"\"\"\n",
    "    SELECT distinct(explode(split(lower(amenities), ',')))\n",
    "    FROM accommodation\n",
    "\"\"\").rdd.map(lambda x: x.col).collect()"
   ]
  },
  {
   "cell_type": "code",
   "execution_count": 27,
   "metadata": {
    "cell_status": {
     "execute_time": {
      "duration": 96.97802734375,
      "end_time": 1612691044642.138
     }
    }
   },
   "outputs": [
    {
     "data": {
      "text/plain": [
       "['refrigerator',\n",
       " 'step-free access',\n",
       " 'stove',\n",
       " 'wide hallway clearance',\n",
       " 'path to entrance lit at night',\n",
       " 'ev charger',\n",
       " 'wide doorway',\n",
       " 'grab-rails for shower and toilet',\n",
       " 'pets allowed',\n",
       " 'cooking basics',\n",
       " 'heating',\n",
       " 'lake access',\n",
       " 'patio or balcony',\n",
       " 'wide clearance to shower and toilet',\n",
       " 'washer / dryer',\n",
       " 'doorman',\n",
       " 'private living room',\n",
       " 'game console',\n",
       " 'long term stays allowed',\n",
       " 'buzzer/wireless intercom',\n",
       " 'coffee maker',\n",
       " 'pocket wifi',\n",
       " 'oven',\n",
       " 'tub with shower bench',\n",
       " 'host greets you',\n",
       " 'tv',\n",
       " 'pets live on this property',\n",
       " 'garden or backyard',\n",
       " 'crib',\n",
       " 'carbon monoxide detector',\n",
       " 'laptop friendly workspace',\n",
       " 'hair dryer',\n",
       " 'dishes and silverware',\n",
       " 'wireless internet',\n",
       " 'hangers',\n",
       " 'pool',\n",
       " 'kitchen',\n",
       " 'safety card',\n",
       " 'extra pillows and blankets',\n",
       " 'fire extinguisher',\n",
       " 'table corner guards',\n",
       " 'family/kid friendly',\n",
       " 'paid parking off premises',\n",
       " 'wide clearance to bed',\n",
       " 'translation missing: en.hosting_amenity_50',\n",
       " 'indoor fireplace',\n",
       " 'washer',\n",
       " 'lockbox',\n",
       " 'gym',\n",
       " 'other',\n",
       " 'cable tv',\n",
       " 'keypad',\n",
       " 'waterfront',\n",
       " 'bed linens',\n",
       " 'accessible-height toilet',\n",
       " 'hot tub',\n",
       " 'dog(s)',\n",
       " 'elevator in building',\n",
       " 'wheelchair accessible',\n",
       " 'other pet(s)',\n",
       " 'cat(s)',\n",
       " 'iron',\n",
       " 'fireplace guards',\n",
       " 'changing table',\n",
       " 'suitable for events',\n",
       " 'first aid kit',\n",
       " 'ethernet connection',\n",
       " 'self check-in',\n",
       " 'flat smooth pathway to front door',\n",
       " 'internet',\n",
       " 'window guards',\n",
       " 'lock on bedroom door',\n",
       " 'breakfast',\n",
       " 'children’s books and toys',\n",
       " 'children’s dinnerware',\n",
       " 'firm matress',\n",
       " 'baby bath',\n",
       " 'doorman entry',\n",
       " 'microwave',\n",
       " 'dryer',\n",
       " 'free parking on street',\n",
       " '9',\n",
       " 'private bathroom',\n",
       " 'smartlock',\n",
       " 'shampoo',\n",
       " 'roll-in shower with shower bench or chair',\n",
       " 'hot water',\n",
       " 'high chair',\n",
       " 'firm mattress',\n",
       " 'free parking on premises',\n",
       " 'smoking allowed',\n",
       " 'single level home',\n",
       " 'room-darkening shades',\n",
       " 'private entrance',\n",
       " 'outlet covers',\n",
       " 'cleaning before checkout',\n",
       " 'disabled parking spot',\n",
       " 'baby monitor',\n",
       " 'bathtub',\n",
       " 'air conditioning',\n",
       " 'smoke detector',\n",
       " 'translation missing: en.hosting_amenity_49',\n",
       " 'luggage dropoff allowed',\n",
       " 'stair gates',\n",
       " 'bbq grill',\n",
       " 'dishwasher',\n",
       " 'smart lock',\n",
       " 'pack ’n play/travel crib',\n",
       " 'babysitter recommendations',\n",
       " 'essentials',\n",
       " 'beach essentials',\n",
       " 'beachfront',\n",
       " 'accessible-height bed',\n",
       " '24-hour check-in']"
      ]
     },
     "execution_count": 27,
     "metadata": {},
     "output_type": "execute_result"
    }
   ],
   "source": [
    "amenities_c"
   ]
  },
  {
   "cell_type": "markdown",
   "metadata": {},
   "source": [
    "`F.when` проверяет условие и если оно верно то выставляет указанное значение, если не верно, то значение указанное в `otherwise`. "
   ]
  },
  {
   "cell_type": "code",
   "execution_count": 28,
   "metadata": {},
   "outputs": [],
   "source": [
    "import string\n",
    "\n",
    "allowed = set(string.ascii_letters + string.digits + \" ,\")\n",
    "\n",
    "def slugify(text):\n",
    "    if not text:\n",
    "        return \"\"\n",
    "    text = \"\".join([ch for ch in text.lower() if ch in allowed])\n",
    "    return text.replace(' ', '_')"
   ]
  },
  {
   "cell_type": "code",
   "execution_count": 29,
   "metadata": {},
   "outputs": [],
   "source": [
    "f_slugify = se.udf.register(\"slugify\", slugify, \"string\")"
   ]
  },
  {
   "cell_type": "code",
   "execution_count": null,
   "metadata": {},
   "outputs": [],
   "source": []
  },
  {
   "cell_type": "code",
   "execution_count": 30,
   "metadata": {
    "cell_status": {
     "execute_time": {
      "duration": 813.85791015625,
      "end_time": 1612691045482.958
     }
    }
   },
   "outputs": [],
   "source": [
    "exprs = [\n",
    "    F.when(\n",
    "        F.array_contains(F.split(f_slugify('amenities'), ','), amenity),\n",
    "        1\n",
    "    )\n",
    "    .otherwise(0).alias(\"f_amenity_\" + slugify(amenity)) \n",
    "    for amenity in amenities_c\n",
    "]"
   ]
  },
  {
   "cell_type": "code",
   "execution_count": 31,
   "metadata": {
    "cell_status": {
     "execute_time": {
      "duration": 2343.0908203125,
      "end_time": 1612691047851.885
     }
    }
   },
   "outputs": [
    {
     "data": {
      "text/html": [
       "<div>\n",
       "<style scoped>\n",
       "    .dataframe tbody tr th:only-of-type {\n",
       "        vertical-align: middle;\n",
       "    }\n",
       "\n",
       "    .dataframe tbody tr th {\n",
       "        vertical-align: top;\n",
       "    }\n",
       "\n",
       "    .dataframe thead th {\n",
       "        text-align: right;\n",
       "    }\n",
       "</style>\n",
       "<table border=\"1\" class=\"dataframe\">\n",
       "  <thead>\n",
       "    <tr style=\"text-align: right;\">\n",
       "      <th></th>\n",
       "      <th>apartment_id</th>\n",
       "      <th>f_amenity_refrigerator</th>\n",
       "      <th>f_amenity_stepfree_access</th>\n",
       "      <th>f_amenity_stove</th>\n",
       "      <th>f_amenity_wide_hallway_clearance</th>\n",
       "      <th>f_amenity_path_to_entrance_lit_at_night</th>\n",
       "      <th>f_amenity_ev_charger</th>\n",
       "      <th>f_amenity_wide_doorway</th>\n",
       "      <th>f_amenity_grabrails_for_shower_and_toilet</th>\n",
       "      <th>f_amenity_pets_allowed</th>\n",
       "      <th>...</th>\n",
       "      <th>f_amenity_bbq_grill</th>\n",
       "      <th>f_amenity_dishwasher</th>\n",
       "      <th>f_amenity_smart_lock</th>\n",
       "      <th>f_amenity_pack_n_playtravel_crib</th>\n",
       "      <th>f_amenity_babysitter_recommendations</th>\n",
       "      <th>f_amenity_essentials</th>\n",
       "      <th>f_amenity_beach_essentials</th>\n",
       "      <th>f_amenity_beachfront</th>\n",
       "      <th>f_amenity_accessibleheight_bed</th>\n",
       "      <th>f_amenity_24hour_checkin</th>\n",
       "    </tr>\n",
       "  </thead>\n",
       "  <tbody>\n",
       "    <tr>\n",
       "      <th>0</th>\n",
       "      <td>17560520</td>\n",
       "      <td>0</td>\n",
       "      <td>0</td>\n",
       "      <td>0</td>\n",
       "      <td>0</td>\n",
       "      <td>0</td>\n",
       "      <td>0</td>\n",
       "      <td>0</td>\n",
       "      <td>0</td>\n",
       "      <td>0</td>\n",
       "      <td>...</td>\n",
       "      <td>0</td>\n",
       "      <td>0</td>\n",
       "      <td>0</td>\n",
       "      <td>0</td>\n",
       "      <td>0</td>\n",
       "      <td>1</td>\n",
       "      <td>0</td>\n",
       "      <td>0</td>\n",
       "      <td>0</td>\n",
       "      <td>0</td>\n",
       "    </tr>\n",
       "    <tr>\n",
       "      <th>1</th>\n",
       "      <td>13168651</td>\n",
       "      <td>0</td>\n",
       "      <td>0</td>\n",
       "      <td>0</td>\n",
       "      <td>0</td>\n",
       "      <td>0</td>\n",
       "      <td>0</td>\n",
       "      <td>0</td>\n",
       "      <td>0</td>\n",
       "      <td>0</td>\n",
       "      <td>...</td>\n",
       "      <td>0</td>\n",
       "      <td>0</td>\n",
       "      <td>0</td>\n",
       "      <td>0</td>\n",
       "      <td>0</td>\n",
       "      <td>1</td>\n",
       "      <td>0</td>\n",
       "      <td>0</td>\n",
       "      <td>0</td>\n",
       "      <td>0</td>\n",
       "    </tr>\n",
       "    <tr>\n",
       "      <th>2</th>\n",
       "      <td>5495668</td>\n",
       "      <td>0</td>\n",
       "      <td>0</td>\n",
       "      <td>0</td>\n",
       "      <td>0</td>\n",
       "      <td>0</td>\n",
       "      <td>0</td>\n",
       "      <td>0</td>\n",
       "      <td>0</td>\n",
       "      <td>0</td>\n",
       "      <td>...</td>\n",
       "      <td>0</td>\n",
       "      <td>0</td>\n",
       "      <td>0</td>\n",
       "      <td>0</td>\n",
       "      <td>0</td>\n",
       "      <td>1</td>\n",
       "      <td>0</td>\n",
       "      <td>0</td>\n",
       "      <td>0</td>\n",
       "      <td>0</td>\n",
       "    </tr>\n",
       "    <tr>\n",
       "      <th>3</th>\n",
       "      <td>5593531</td>\n",
       "      <td>0</td>\n",
       "      <td>0</td>\n",
       "      <td>0</td>\n",
       "      <td>0</td>\n",
       "      <td>0</td>\n",
       "      <td>0</td>\n",
       "      <td>0</td>\n",
       "      <td>0</td>\n",
       "      <td>0</td>\n",
       "      <td>...</td>\n",
       "      <td>0</td>\n",
       "      <td>0</td>\n",
       "      <td>0</td>\n",
       "      <td>0</td>\n",
       "      <td>0</td>\n",
       "      <td>1</td>\n",
       "      <td>0</td>\n",
       "      <td>0</td>\n",
       "      <td>0</td>\n",
       "      <td>0</td>\n",
       "    </tr>\n",
       "    <tr>\n",
       "      <th>4</th>\n",
       "      <td>347342</td>\n",
       "      <td>0</td>\n",
       "      <td>0</td>\n",
       "      <td>0</td>\n",
       "      <td>0</td>\n",
       "      <td>0</td>\n",
       "      <td>0</td>\n",
       "      <td>0</td>\n",
       "      <td>0</td>\n",
       "      <td>0</td>\n",
       "      <td>...</td>\n",
       "      <td>0</td>\n",
       "      <td>0</td>\n",
       "      <td>0</td>\n",
       "      <td>0</td>\n",
       "      <td>0</td>\n",
       "      <td>1</td>\n",
       "      <td>0</td>\n",
       "      <td>0</td>\n",
       "      <td>0</td>\n",
       "      <td>0</td>\n",
       "    </tr>\n",
       "  </tbody>\n",
       "</table>\n",
       "<p>5 rows × 115 columns</p>\n",
       "</div>"
      ],
      "text/plain": [
       "  apartment_id  f_amenity_refrigerator  f_amenity_stepfree_access  \\\n",
       "0     17560520                       0                          0   \n",
       "1     13168651                       0                          0   \n",
       "2      5495668                       0                          0   \n",
       "3      5593531                       0                          0   \n",
       "4       347342                       0                          0   \n",
       "\n",
       "   f_amenity_stove  f_amenity_wide_hallway_clearance  \\\n",
       "0                0                                 0   \n",
       "1                0                                 0   \n",
       "2                0                                 0   \n",
       "3                0                                 0   \n",
       "4                0                                 0   \n",
       "\n",
       "   f_amenity_path_to_entrance_lit_at_night  f_amenity_ev_charger  \\\n",
       "0                                        0                     0   \n",
       "1                                        0                     0   \n",
       "2                                        0                     0   \n",
       "3                                        0                     0   \n",
       "4                                        0                     0   \n",
       "\n",
       "   f_amenity_wide_doorway  f_amenity_grabrails_for_shower_and_toilet  \\\n",
       "0                       0                                          0   \n",
       "1                       0                                          0   \n",
       "2                       0                                          0   \n",
       "3                       0                                          0   \n",
       "4                       0                                          0   \n",
       "\n",
       "   f_amenity_pets_allowed  ...  f_amenity_bbq_grill  f_amenity_dishwasher  \\\n",
       "0                       0  ...                    0                     0   \n",
       "1                       0  ...                    0                     0   \n",
       "2                       0  ...                    0                     0   \n",
       "3                       0  ...                    0                     0   \n",
       "4                       0  ...                    0                     0   \n",
       "\n",
       "   f_amenity_smart_lock  f_amenity_pack_n_playtravel_crib  \\\n",
       "0                     0                                 0   \n",
       "1                     0                                 0   \n",
       "2                     0                                 0   \n",
       "3                     0                                 0   \n",
       "4                     0                                 0   \n",
       "\n",
       "   f_amenity_babysitter_recommendations  f_amenity_essentials  \\\n",
       "0                                     0                     1   \n",
       "1                                     0                     1   \n",
       "2                                     0                     1   \n",
       "3                                     0                     1   \n",
       "4                                     0                     1   \n",
       "\n",
       "   f_amenity_beach_essentials  f_amenity_beachfront  \\\n",
       "0                           0                     0   \n",
       "1                           0                     0   \n",
       "2                           0                     0   \n",
       "3                           0                     0   \n",
       "4                           0                     0   \n",
       "\n",
       "   f_amenity_accessibleheight_bed  f_amenity_24hour_checkin  \n",
       "0                               0                         0  \n",
       "1                               0                         0  \n",
       "2                               0                         0  \n",
       "3                               0                         0  \n",
       "4                               0                         0  \n",
       "\n",
       "[5 rows x 115 columns]"
      ]
     },
     "execution_count": 31,
     "metadata": {},
     "output_type": "execute_result"
    }
   ],
   "source": [
    "accommodation.select('apartment_id', *exprs).limit(5).toPandas()"
   ]
  },
  {
   "cell_type": "code",
   "execution_count": 32,
   "metadata": {
    "cell_status": {
     "execute_time": {
      "duration": 821.739990234375,
      "end_time": 1612691048694.165
     }
    }
   },
   "outputs": [
    {
     "data": {
      "text/plain": [
       "[Row(apartment_id='17560520', f_amenity_refrigerator=0, f_amenity_stepfree_access=0, f_amenity_stove=0, f_amenity_wide_hallway_clearance=0, f_amenity_path_to_entrance_lit_at_night=0, f_amenity_ev_charger=0, f_amenity_wide_doorway=0, f_amenity_grabrails_for_shower_and_toilet=0, f_amenity_pets_allowed=0, f_amenity_cooking_basics=0, f_amenity_heating=1, f_amenity_lake_access=0, f_amenity_patio_or_balcony=0, f_amenity_wide_clearance_to_shower_and_toilet=0, f_amenity_washer__dryer=0, f_amenity_doorman=0, f_amenity_private_living_room=0, f_amenity_game_console=0, f_amenity_long_term_stays_allowed=0, f_amenity_buzzerwireless_intercom=0, f_amenity_coffee_maker=0, f_amenity_pocket_wifi=0, f_amenity_oven=0, f_amenity_tub_with_shower_bench=0, f_amenity_host_greets_you=0, f_amenity_tv=1, f_amenity_pets_live_on_this_property=0, f_amenity_garden_or_backyard=0, f_amenity_crib=0, f_amenity_carbon_monoxide_detector=0, f_amenity_laptop_friendly_workspace=0, f_amenity_hair_dryer=0, f_amenity_dishes_and_silverware=0, f_amenity_wireless_internet=0, f_amenity_hangers=1, f_amenity_pool=0, f_amenity_kitchen=1, f_amenity_safety_card=0, f_amenity_extra_pillows_and_blankets=0, f_amenity_fire_extinguisher=0, f_amenity_table_corner_guards=0, f_amenity_familykid_friendly=0, f_amenity_paid_parking_off_premises=0, f_amenity_wide_clearance_to_bed=0, f_amenity_translation_missing_enhostingamenity50=0, f_amenity_indoor_fireplace=0, f_amenity_washer=1, f_amenity_lockbox=1, f_amenity_gym=0, f_amenity_other=0, f_amenity_cable_tv=0, f_amenity_keypad=0, f_amenity_waterfront=0, f_amenity_bed_linens=0, f_amenity_accessibleheight_toilet=0, f_amenity_hot_tub=0, f_amenity_dogs=0, f_amenity_elevator_in_building=0, f_amenity_wheelchair_accessible=0, f_amenity_other_pets=0, f_amenity_cats=0, f_amenity_iron=1, f_amenity_fireplace_guards=0, f_amenity_changing_table=0, f_amenity_suitable_for_events=0, f_amenity_first_aid_kit=0, f_amenity_ethernet_connection=0, f_amenity_self_checkin=0, f_amenity_flat_smooth_pathway_to_front_door=0, f_amenity_internet=1, f_amenity_window_guards=0, f_amenity_lock_on_bedroom_door=0, f_amenity_breakfast=1, f_amenity_childrens_books_and_toys=0, f_amenity_childrens_dinnerware=0, f_amenity_firm_matress=0, f_amenity_baby_bath=0, f_amenity_doorman_entry=0, f_amenity_microwave=0, f_amenity_dryer=1, f_amenity_free_parking_on_street=0, f_amenity_9=0, f_amenity_private_bathroom=0, f_amenity_smartlock=0, f_amenity_shampoo=1, f_amenity_rollin_shower_with_shower_bench_or_chair=0, f_amenity_hot_water=0, f_amenity_high_chair=0, f_amenity_firm_mattress=0, f_amenity_free_parking_on_premises=0, f_amenity_smoking_allowed=0, f_amenity_single_level_home=0, f_amenity_roomdarkening_shades=0, f_amenity_private_entrance=0, f_amenity_outlet_covers=0, f_amenity_cleaning_before_checkout=0, f_amenity_disabled_parking_spot=0, f_amenity_baby_monitor=0, f_amenity_bathtub=0, f_amenity_air_conditioning=0, f_amenity_smoke_detector=0, f_amenity_translation_missing_enhostingamenity49=0, f_amenity_luggage_dropoff_allowed=0, f_amenity_stair_gates=0, f_amenity_bbq_grill=0, f_amenity_dishwasher=0, f_amenity_smart_lock=0, f_amenity_pack_n_playtravel_crib=0, f_amenity_babysitter_recommendations=0, f_amenity_essentials=1, f_amenity_beach_essentials=0, f_amenity_beachfront=0, f_amenity_accessibleheight_bed=0, f_amenity_24hour_checkin=0)]"
      ]
     },
     "execution_count": 32,
     "metadata": {},
     "output_type": "execute_result"
    }
   ],
   "source": [
    "accommodation.select('apartment_id', *exprs).limit(1).collect()"
   ]
  },
  {
   "cell_type": "code",
   "execution_count": 33,
   "metadata": {
    "cell_status": {
     "execute_time": {
      "duration": 320.10302734375,
      "end_time": 1612691049040.238
     }
    }
   },
   "outputs": [],
   "source": [
    "accommodation.select('apartment_id', *exprs).registerTempTable(\"amenity_features\")"
   ]
  },
  {
   "cell_type": "code",
   "execution_count": null,
   "metadata": {},
   "outputs": [],
   "source": []
  },
  {
   "cell_type": "code",
   "execution_count": 34,
   "metadata": {
    "cell_status": {
     "execute_time": {
      "duration": 3360.3330078125,
      "end_time": 1612691052423.531
     }
    }
   },
   "outputs": [],
   "source": [
    "bed_types = accommodation.select('bed_type').distinct().rdd.map(lambda x: x.bed_type).collect()"
   ]
  },
  {
   "cell_type": "code",
   "execution_count": 35,
   "metadata": {
    "cell_status": {
     "execute_time": {
      "duration": 60.072021484375,
      "end_time": 1612691052503.54
     }
    }
   },
   "outputs": [],
   "source": [
    "bed_types = [x for x in bed_types if x is not None]"
   ]
  },
  {
   "cell_type": "code",
   "execution_count": 36,
   "metadata": {},
   "outputs": [],
   "source": [
    "exprs = [\n",
    "    F.when(\n",
    "        F.col('bed_type') == btype,\n",
    "        1\n",
    "    )\n",
    "    .otherwise(0).alias(\"f_bad_type_\" + slugify(btype))\n",
    "    for btype in bed_types\n",
    "]"
   ]
  },
  {
   "cell_type": "code",
   "execution_count": 37,
   "metadata": {},
   "outputs": [
    {
     "data": {
      "text/html": [
       "<div>\n",
       "<style scoped>\n",
       "    .dataframe tbody tr th:only-of-type {\n",
       "        vertical-align: middle;\n",
       "    }\n",
       "\n",
       "    .dataframe tbody tr th {\n",
       "        vertical-align: top;\n",
       "    }\n",
       "\n",
       "    .dataframe thead th {\n",
       "        text-align: right;\n",
       "    }\n",
       "</style>\n",
       "<table border=\"1\" class=\"dataframe\">\n",
       "  <thead>\n",
       "    <tr style=\"text-align: right;\">\n",
       "      <th></th>\n",
       "      <th>apartment_id</th>\n",
       "      <th>f_bad_type_airbed</th>\n",
       "      <th>f_bad_type_futon</th>\n",
       "      <th>f_bad_type_pullout_sofa</th>\n",
       "      <th>f_bad_type_couch</th>\n",
       "      <th>f_bad_type_9</th>\n",
       "      <th>f_bad_type_real_bed</th>\n",
       "    </tr>\n",
       "  </thead>\n",
       "  <tbody>\n",
       "    <tr>\n",
       "      <th>0</th>\n",
       "      <td>17560520</td>\n",
       "      <td>0</td>\n",
       "      <td>0</td>\n",
       "      <td>0</td>\n",
       "      <td>0</td>\n",
       "      <td>0</td>\n",
       "      <td>1</td>\n",
       "    </tr>\n",
       "    <tr>\n",
       "      <th>1</th>\n",
       "      <td>13168651</td>\n",
       "      <td>0</td>\n",
       "      <td>0</td>\n",
       "      <td>0</td>\n",
       "      <td>0</td>\n",
       "      <td>0</td>\n",
       "      <td>1</td>\n",
       "    </tr>\n",
       "    <tr>\n",
       "      <th>2</th>\n",
       "      <td>5495668</td>\n",
       "      <td>0</td>\n",
       "      <td>0</td>\n",
       "      <td>0</td>\n",
       "      <td>0</td>\n",
       "      <td>0</td>\n",
       "      <td>1</td>\n",
       "    </tr>\n",
       "    <tr>\n",
       "      <th>3</th>\n",
       "      <td>5593531</td>\n",
       "      <td>0</td>\n",
       "      <td>0</td>\n",
       "      <td>0</td>\n",
       "      <td>0</td>\n",
       "      <td>0</td>\n",
       "      <td>1</td>\n",
       "    </tr>\n",
       "    <tr>\n",
       "      <th>4</th>\n",
       "      <td>347342</td>\n",
       "      <td>0</td>\n",
       "      <td>0</td>\n",
       "      <td>0</td>\n",
       "      <td>0</td>\n",
       "      <td>0</td>\n",
       "      <td>1</td>\n",
       "    </tr>\n",
       "  </tbody>\n",
       "</table>\n",
       "</div>"
      ],
      "text/plain": [
       "  apartment_id  f_bad_type_airbed  f_bad_type_futon  f_bad_type_pullout_sofa  \\\n",
       "0     17560520                  0                 0                        0   \n",
       "1     13168651                  0                 0                        0   \n",
       "2      5495668                  0                 0                        0   \n",
       "3      5593531                  0                 0                        0   \n",
       "4       347342                  0                 0                        0   \n",
       "\n",
       "   f_bad_type_couch  f_bad_type_9  f_bad_type_real_bed  \n",
       "0                 0             0                    1  \n",
       "1                 0             0                    1  \n",
       "2                 0             0                    1  \n",
       "3                 0             0                    1  \n",
       "4                 0             0                    1  "
      ]
     },
     "execution_count": 37,
     "metadata": {},
     "output_type": "execute_result"
    }
   ],
   "source": [
    "accommodation.select('apartment_id', *exprs).limit(5).toPandas()"
   ]
  },
  {
   "cell_type": "code",
   "execution_count": 38,
   "metadata": {},
   "outputs": [],
   "source": [
    "accommodation.select('apartment_id', *exprs).registerTempTable(\"bed_type_features\")"
   ]
  },
  {
   "cell_type": "code",
   "execution_count": null,
   "metadata": {},
   "outputs": [],
   "source": []
  },
  {
   "cell_type": "code",
   "execution_count": 39,
   "metadata": {},
   "outputs": [],
   "source": [
    "room_types = accommodation.select('room_type').distinct().rdd.map(lambda x: x.room_type).collect()\n",
    "room_types = [x for x in room_types if x is not None]\n",
    "exprs = [\n",
    "    F.when(\n",
    "        F.col('bed_type') == btype,\n",
    "        1\n",
    "    )\n",
    "    .otherwise(0).alias(\"f_room_type_\" + slugify(btype))\n",
    "    for btype in room_types\n",
    "]\n",
    "accommodation.select('apartment_id', *exprs).registerTempTable(\"room_types_features\")"
   ]
  },
  {
   "cell_type": "code",
   "execution_count": 40,
   "metadata": {},
   "outputs": [],
   "source": [
    "property_types = accommodation.select('property_type').distinct().rdd.map(lambda x: x.property_type).collect()\n",
    "property_types = [x for x in property_types if x is not None]\n",
    "exprs = [\n",
    "    F.when(\n",
    "        F.col('property_type') == btype,\n",
    "        1\n",
    "    )\n",
    "    .otherwise(0).alias(\"f_property_type_\" + slugify(btype))\n",
    "    for btype in property_types\n",
    "]\n",
    "accommodation.select('apartment_id', *exprs).registerTempTable(\"property_types_features\")"
   ]
  },
  {
   "cell_type": "code",
   "execution_count": 41,
   "metadata": {},
   "outputs": [],
   "source": [
    "se.sql(\"\"\"\n",
    "SELECT apartment_id,\n",
    "       to_number(accommodates) as f_accommodates,\n",
    "       to_number(bathrooms) as f_bathrooms,\n",
    "       to_number(bedrooms) as f_bedrooms,\n",
    "       to_number(beds) as f_beds,\n",
    "       to_number(guests_included) as f_guests_included,\n",
    "       to_number(cleaning_fee) as f_cleaning_fee,\n",
    "       to_number(square_feet) as f_square_feet,\n",
    "       to_number(extra_people) as f_extra_people\n",
    "FROM accommodation\n",
    "\"\"\").registerTempTable(\"accommodation_features\")"
   ]
  },
  {
   "cell_type": "code",
   "execution_count": 42,
   "metadata": {},
   "outputs": [
    {
     "data": {
      "text/html": [
       "<div>\n",
       "<style scoped>\n",
       "    .dataframe tbody tr th:only-of-type {\n",
       "        vertical-align: middle;\n",
       "    }\n",
       "\n",
       "    .dataframe tbody tr th {\n",
       "        vertical-align: top;\n",
       "    }\n",
       "\n",
       "    .dataframe thead th {\n",
       "        text-align: right;\n",
       "    }\n",
       "</style>\n",
       "<table border=\"1\" class=\"dataframe\">\n",
       "  <thead>\n",
       "    <tr style=\"text-align: right;\">\n",
       "      <th></th>\n",
       "      <th>apartment_id</th>\n",
       "      <th>f_accommodates</th>\n",
       "      <th>f_bathrooms</th>\n",
       "      <th>f_bedrooms</th>\n",
       "      <th>f_beds</th>\n",
       "      <th>f_guests_included</th>\n",
       "      <th>f_cleaning_fee</th>\n",
       "      <th>f_square_feet</th>\n",
       "      <th>f_extra_people</th>\n",
       "    </tr>\n",
       "  </thead>\n",
       "  <tbody>\n",
       "    <tr>\n",
       "      <th>0</th>\n",
       "      <td>17560520</td>\n",
       "      <td>3.0</td>\n",
       "      <td>1.0</td>\n",
       "      <td>0.0</td>\n",
       "      <td>2.0</td>\n",
       "      <td>1.0</td>\n",
       "      <td>65.0</td>\n",
       "      <td>0.0</td>\n",
       "      <td>0.0</td>\n",
       "    </tr>\n",
       "    <tr>\n",
       "      <th>1</th>\n",
       "      <td>13168651</td>\n",
       "      <td>6.0</td>\n",
       "      <td>2.5</td>\n",
       "      <td>2.0</td>\n",
       "      <td>3.0</td>\n",
       "      <td>1.0</td>\n",
       "      <td>0.0</td>\n",
       "      <td>0.0</td>\n",
       "      <td>0.0</td>\n",
       "    </tr>\n",
       "    <tr>\n",
       "      <th>2</th>\n",
       "      <td>5495668</td>\n",
       "      <td>10.0</td>\n",
       "      <td>3.0</td>\n",
       "      <td>4.0</td>\n",
       "      <td>6.0</td>\n",
       "      <td>1.0</td>\n",
       "      <td>200.0</td>\n",
       "      <td>0.0</td>\n",
       "      <td>0.0</td>\n",
       "    </tr>\n",
       "    <tr>\n",
       "      <th>3</th>\n",
       "      <td>5593531</td>\n",
       "      <td>6.0</td>\n",
       "      <td>2.0</td>\n",
       "      <td>3.0</td>\n",
       "      <td>3.0</td>\n",
       "      <td>1.0</td>\n",
       "      <td>85.0</td>\n",
       "      <td>0.0</td>\n",
       "      <td>0.0</td>\n",
       "    </tr>\n",
       "    <tr>\n",
       "      <th>4</th>\n",
       "      <td>347342</td>\n",
       "      <td>8.0</td>\n",
       "      <td>2.0</td>\n",
       "      <td>3.0</td>\n",
       "      <td>3.0</td>\n",
       "      <td>6.0</td>\n",
       "      <td>100.0</td>\n",
       "      <td>0.0</td>\n",
       "      <td>25.0</td>\n",
       "    </tr>\n",
       "  </tbody>\n",
       "</table>\n",
       "</div>"
      ],
      "text/plain": [
       "  apartment_id  f_accommodates  f_bathrooms  f_bedrooms  f_beds  \\\n",
       "0     17560520             3.0          1.0         0.0     2.0   \n",
       "1     13168651             6.0          2.5         2.0     3.0   \n",
       "2      5495668            10.0          3.0         4.0     6.0   \n",
       "3      5593531             6.0          2.0         3.0     3.0   \n",
       "4       347342             8.0          2.0         3.0     3.0   \n",
       "\n",
       "   f_guests_included  f_cleaning_fee  f_square_feet  f_extra_people  \n",
       "0                1.0            65.0            0.0             0.0  \n",
       "1                1.0             0.0            0.0             0.0  \n",
       "2                1.0           200.0            0.0             0.0  \n",
       "3                1.0            85.0            0.0             0.0  \n",
       "4                6.0           100.0            0.0            25.0  "
      ]
     },
     "execution_count": 42,
     "metadata": {},
     "output_type": "execute_result"
    }
   ],
   "source": [
    "se.sql(\"\"\"\n",
    "SELECT *\n",
    "FROM accommodation_features\n",
    "LIMIT 5\n",
    "\"\"\").toPandas()"
   ]
  },
  {
   "cell_type": "code",
   "execution_count": null,
   "metadata": {},
   "outputs": [],
   "source": []
  },
  {
   "cell_type": "code",
   "execution_count": 43,
   "metadata": {
    "cell_status": {
     "execute_time": {
      "duration": 308.131103515625,
      "end_time": 1612691111151.692
     }
    }
   },
   "outputs": [],
   "source": [
    "bias = apartment.select('id', F.when(F.col('id') == F.col('id'), 1).alias('f_bias'))"
   ]
  },
  {
   "cell_type": "code",
   "execution_count": 44,
   "metadata": {
    "cell_status": {
     "execute_time": {
      "duration": 806.0498046875,
      "end_time": 1612691111989.942
     }
    }
   },
   "outputs": [
    {
     "data": {
      "text/html": [
       "<div>\n",
       "<style scoped>\n",
       "    .dataframe tbody tr th:only-of-type {\n",
       "        vertical-align: middle;\n",
       "    }\n",
       "\n",
       "    .dataframe tbody tr th {\n",
       "        vertical-align: top;\n",
       "    }\n",
       "\n",
       "    .dataframe thead th {\n",
       "        text-align: right;\n",
       "    }\n",
       "</style>\n",
       "<table border=\"1\" class=\"dataframe\">\n",
       "  <thead>\n",
       "    <tr style=\"text-align: right;\">\n",
       "      <th></th>\n",
       "      <th>id</th>\n",
       "      <th>f_bias</th>\n",
       "    </tr>\n",
       "  </thead>\n",
       "  <tbody>\n",
       "    <tr>\n",
       "      <th>0</th>\n",
       "      <td>17619081</td>\n",
       "      <td>1</td>\n",
       "    </tr>\n",
       "    <tr>\n",
       "      <th>1</th>\n",
       "      <td>13356620</td>\n",
       "      <td>1</td>\n",
       "    </tr>\n",
       "    <tr>\n",
       "      <th>2</th>\n",
       "      <td>18993602</td>\n",
       "      <td>1</td>\n",
       "    </tr>\n",
       "    <tr>\n",
       "      <th>3</th>\n",
       "      <td>4313438</td>\n",
       "      <td>1</td>\n",
       "    </tr>\n",
       "    <tr>\n",
       "      <th>4</th>\n",
       "      <td>9029859</td>\n",
       "      <td>1</td>\n",
       "    </tr>\n",
       "    <tr>\n",
       "      <th>5</th>\n",
       "      <td>13028880</td>\n",
       "      <td>1</td>\n",
       "    </tr>\n",
       "    <tr>\n",
       "      <th>6</th>\n",
       "      <td>17876318</td>\n",
       "      <td>1</td>\n",
       "    </tr>\n",
       "    <tr>\n",
       "      <th>7</th>\n",
       "      <td>17151628</td>\n",
       "      <td>1</td>\n",
       "    </tr>\n",
       "    <tr>\n",
       "      <th>8</th>\n",
       "      <td>17154878</td>\n",
       "      <td>1</td>\n",
       "    </tr>\n",
       "    <tr>\n",
       "      <th>9</th>\n",
       "      <td>15462554</td>\n",
       "      <td>1</td>\n",
       "    </tr>\n",
       "  </tbody>\n",
       "</table>\n",
       "</div>"
      ],
      "text/plain": [
       "         id  f_bias\n",
       "0  17619081       1\n",
       "1  13356620       1\n",
       "2  18993602       1\n",
       "3   4313438       1\n",
       "4   9029859       1\n",
       "5  13028880       1\n",
       "6  17876318       1\n",
       "7  17151628       1\n",
       "8  17154878       1\n",
       "9  15462554       1"
      ]
     },
     "execution_count": 44,
     "metadata": {},
     "output_type": "execute_result"
    }
   ],
   "source": [
    "bias.limit(10).toPandas()"
   ]
  },
  {
   "cell_type": "code",
   "execution_count": 45,
   "metadata": {
    "cell_status": {
     "execute_time": {
      "duration": 104.968994140625,
      "end_time": 1612691113307.217
     }
    }
   },
   "outputs": [],
   "source": [
    "bias.registerTempTable(\"bias\")"
   ]
  },
  {
   "cell_type": "code",
   "execution_count": null,
   "metadata": {},
   "outputs": [],
   "source": []
  },
  {
   "cell_type": "markdown",
   "metadata": {
    "cell_status": {
     "execute_time": {
      "duration": 49.2080078125,
      "end_time": 1612639041773.927
     }
    }
   },
   "source": [
    "Чтож, для нашего примера должно быть достаточно. Соберем итоговый датасет."
   ]
  },
  {
   "cell_type": "code",
   "execution_count": 46,
   "metadata": {},
   "outputs": [],
   "source": [
    "datadet_df = se.sql(\"\"\"\n",
    "SELECT to_number(price) as target, *\n",
    "FROM\n",
    "    apartment a\n",
    "    join hosts_features hf on hf.host_id = a.host_id\n",
    "    join reviews_features rf on rf.apartment_id = a.id\n",
    "    join amenity_features af on af.apartment_id = a.id\n",
    "    join bed_type_features btf on btf.apartment_id = a.id\n",
    "    join room_types_features rtf on rtf.apartment_id = a.id\n",
    "    join property_types_features ptf on ptf.apartment_id = a.id\n",
    "    join accommodation_features accf on accf.apartment_id = a.id\n",
    "    join bias b on b.id = a.id\n",
    "WHERE \n",
    "    to_number(price) > 0\n",
    "\"\"\")"
   ]
  },
  {
   "cell_type": "code",
   "execution_count": 47,
   "metadata": {},
   "outputs": [
    {
     "data": {
      "text/html": [
       "<div>\n",
       "<style scoped>\n",
       "    .dataframe tbody tr th:only-of-type {\n",
       "        vertical-align: middle;\n",
       "    }\n",
       "\n",
       "    .dataframe tbody tr th {\n",
       "        vertical-align: top;\n",
       "    }\n",
       "\n",
       "    .dataframe thead th {\n",
       "        text-align: right;\n",
       "    }\n",
       "</style>\n",
       "<table border=\"1\" class=\"dataframe\">\n",
       "  <thead>\n",
       "    <tr style=\"text-align: right;\">\n",
       "      <th></th>\n",
       "      <th>target</th>\n",
       "      <th>id</th>\n",
       "      <th>name</th>\n",
       "      <th>summary</th>\n",
       "      <th>description</th>\n",
       "      <th>experiences_offered</th>\n",
       "      <th>notes</th>\n",
       "      <th>price</th>\n",
       "      <th>host_id</th>\n",
       "      <th>host_id</th>\n",
       "      <th>...</th>\n",
       "      <th>f_accommodates</th>\n",
       "      <th>f_bathrooms</th>\n",
       "      <th>f_bedrooms</th>\n",
       "      <th>f_beds</th>\n",
       "      <th>f_guests_included</th>\n",
       "      <th>f_cleaning_fee</th>\n",
       "      <th>f_square_feet</th>\n",
       "      <th>f_extra_people</th>\n",
       "      <th>id</th>\n",
       "      <th>f_bias</th>\n",
       "    </tr>\n",
       "  </thead>\n",
       "  <tbody>\n",
       "    <tr>\n",
       "      <th>0</th>\n",
       "      <td>120.0</td>\n",
       "      <td>10013419</td>\n",
       "      <td>Joli appartement parisien</td>\n",
       "      <td>Ce joli appartement au style très parisien se ...</td>\n",
       "      <td>Ce joli appartement au style très parisien se ...</td>\n",
       "      <td>none</td>\n",
       "      <td>None</td>\n",
       "      <td>120</td>\n",
       "      <td>45810016</td>\n",
       "      <td>45810016</td>\n",
       "      <td>...</td>\n",
       "      <td>2.0</td>\n",
       "      <td>1.0</td>\n",
       "      <td>1.0</td>\n",
       "      <td>1.0</td>\n",
       "      <td>1.0</td>\n",
       "      <td>0.0</td>\n",
       "      <td>0.0</td>\n",
       "      <td>0.0</td>\n",
       "      <td>10013419</td>\n",
       "      <td>1</td>\n",
       "    </tr>\n",
       "    <tr>\n",
       "      <th>1</th>\n",
       "      <td>105.0</td>\n",
       "      <td>10014332</td>\n",
       "      <td>Furnished Studio Apartment</td>\n",
       "      <td>This fully furnished studio apartment in downt...</td>\n",
       "      <td>This fully furnished studio apartment in downt...</td>\n",
       "      <td>none</td>\n",
       "      <td>None</td>\n",
       "      <td>105</td>\n",
       "      <td>49875622</td>\n",
       "      <td>49875622</td>\n",
       "      <td>...</td>\n",
       "      <td>3.0</td>\n",
       "      <td>1.0</td>\n",
       "      <td>0.0</td>\n",
       "      <td>1.0</td>\n",
       "      <td>1.0</td>\n",
       "      <td>0.0</td>\n",
       "      <td>0.0</td>\n",
       "      <td>0.0</td>\n",
       "      <td>10014332</td>\n",
       "      <td>1</td>\n",
       "    </tr>\n",
       "    <tr>\n",
       "      <th>2</th>\n",
       "      <td>105.0</td>\n",
       "      <td>10014332</td>\n",
       "      <td>Furnished Studio Apartment</td>\n",
       "      <td>This fully furnished studio apartment in downt...</td>\n",
       "      <td>This fully furnished studio apartment in downt...</td>\n",
       "      <td>none</td>\n",
       "      <td>None</td>\n",
       "      <td>105</td>\n",
       "      <td>49875622</td>\n",
       "      <td>49875622</td>\n",
       "      <td>...</td>\n",
       "      <td>3.0</td>\n",
       "      <td>1.0</td>\n",
       "      <td>0.0</td>\n",
       "      <td>1.0</td>\n",
       "      <td>1.0</td>\n",
       "      <td>0.0</td>\n",
       "      <td>0.0</td>\n",
       "      <td>0.0</td>\n",
       "      <td>10014332</td>\n",
       "      <td>1</td>\n",
       "    </tr>\n",
       "    <tr>\n",
       "      <th>3</th>\n",
       "      <td>105.0</td>\n",
       "      <td>10014332</td>\n",
       "      <td>Furnished Studio Apartment</td>\n",
       "      <td>This fully furnished studio apartment in downt...</td>\n",
       "      <td>This fully furnished studio apartment in downt...</td>\n",
       "      <td>none</td>\n",
       "      <td>None</td>\n",
       "      <td>105</td>\n",
       "      <td>49875622</td>\n",
       "      <td>49875622</td>\n",
       "      <td>...</td>\n",
       "      <td>3.0</td>\n",
       "      <td>1.0</td>\n",
       "      <td>0.0</td>\n",
       "      <td>1.0</td>\n",
       "      <td>1.0</td>\n",
       "      <td>0.0</td>\n",
       "      <td>0.0</td>\n",
       "      <td>0.0</td>\n",
       "      <td>10014332</td>\n",
       "      <td>1</td>\n",
       "    </tr>\n",
       "    <tr>\n",
       "      <th>4</th>\n",
       "      <td>105.0</td>\n",
       "      <td>10014332</td>\n",
       "      <td>Furnished Studio Apartment</td>\n",
       "      <td>This fully furnished studio apartment in downt...</td>\n",
       "      <td>This fully furnished studio apartment in downt...</td>\n",
       "      <td>none</td>\n",
       "      <td>None</td>\n",
       "      <td>105</td>\n",
       "      <td>49875622</td>\n",
       "      <td>49875622</td>\n",
       "      <td>...</td>\n",
       "      <td>3.0</td>\n",
       "      <td>1.0</td>\n",
       "      <td>0.0</td>\n",
       "      <td>1.0</td>\n",
       "      <td>1.0</td>\n",
       "      <td>0.0</td>\n",
       "      <td>0.0</td>\n",
       "      <td>0.0</td>\n",
       "      <td>10014332</td>\n",
       "      <td>1</td>\n",
       "    </tr>\n",
       "  </tbody>\n",
       "</table>\n",
       "<p>5 rows × 209 columns</p>\n",
       "</div>"
      ],
      "text/plain": [
       "   target        id                        name  \\\n",
       "0   120.0  10013419   Joli appartement parisien   \n",
       "1   105.0  10014332  Furnished Studio Apartment   \n",
       "2   105.0  10014332  Furnished Studio Apartment   \n",
       "3   105.0  10014332  Furnished Studio Apartment   \n",
       "4   105.0  10014332  Furnished Studio Apartment   \n",
       "\n",
       "                                             summary  \\\n",
       "0  Ce joli appartement au style très parisien se ...   \n",
       "1  This fully furnished studio apartment in downt...   \n",
       "2  This fully furnished studio apartment in downt...   \n",
       "3  This fully furnished studio apartment in downt...   \n",
       "4  This fully furnished studio apartment in downt...   \n",
       "\n",
       "                                         description experiences_offered  \\\n",
       "0  Ce joli appartement au style très parisien se ...                none   \n",
       "1  This fully furnished studio apartment in downt...                none   \n",
       "2  This fully furnished studio apartment in downt...                none   \n",
       "3  This fully furnished studio apartment in downt...                none   \n",
       "4  This fully furnished studio apartment in downt...                none   \n",
       "\n",
       "  notes price   host_id   host_id  ...  f_accommodates  f_bathrooms  \\\n",
       "0  None   120  45810016  45810016  ...             2.0          1.0   \n",
       "1  None   105  49875622  49875622  ...             3.0          1.0   \n",
       "2  None   105  49875622  49875622  ...             3.0          1.0   \n",
       "3  None   105  49875622  49875622  ...             3.0          1.0   \n",
       "4  None   105  49875622  49875622  ...             3.0          1.0   \n",
       "\n",
       "   f_bedrooms  f_beds  f_guests_included f_cleaning_fee  f_square_feet  \\\n",
       "0         1.0     1.0                1.0            0.0            0.0   \n",
       "1         0.0     1.0                1.0            0.0            0.0   \n",
       "2         0.0     1.0                1.0            0.0            0.0   \n",
       "3         0.0     1.0                1.0            0.0            0.0   \n",
       "4         0.0     1.0                1.0            0.0            0.0   \n",
       "\n",
       "   f_extra_people        id  f_bias  \n",
       "0             0.0  10013419       1  \n",
       "1             0.0  10014332       1  \n",
       "2             0.0  10014332       1  \n",
       "3             0.0  10014332       1  \n",
       "4             0.0  10014332       1  \n",
       "\n",
       "[5 rows x 209 columns]"
      ]
     },
     "execution_count": 47,
     "metadata": {},
     "output_type": "execute_result"
    }
   ],
   "source": [
    "datadet_df.limit(5).toPandas()"
   ]
  },
  {
   "cell_type": "code",
   "execution_count": 48,
   "metadata": {},
   "outputs": [],
   "source": [
    "cols = datadet_df.columns\n",
    "non_features_c = [\n",
    "    c for c in cols\n",
    "    if not (c == 'target' or c.startswith('f_'))\n",
    "]"
   ]
  },
  {
   "cell_type": "code",
   "execution_count": 49,
   "metadata": {},
   "outputs": [
    {
     "data": {
      "text/plain": [
       "['id',\n",
       " 'name',\n",
       " 'summary',\n",
       " 'description',\n",
       " 'experiences_offered',\n",
       " 'notes',\n",
       " 'price',\n",
       " 'host_id',\n",
       " 'host_id',\n",
       " 'apartment_id',\n",
       " 'apartment_id',\n",
       " 'apartment_id',\n",
       " 'apartment_id',\n",
       " 'apartment_id',\n",
       " 'apartment_id',\n",
       " 'id']"
      ]
     },
     "execution_count": 49,
     "metadata": {},
     "output_type": "execute_result"
    }
   ],
   "source": [
    "non_features_c"
   ]
  },
  {
   "cell_type": "code",
   "execution_count": 50,
   "metadata": {},
   "outputs": [],
   "source": [
    "datadet_df.drop(*non_features_c).write.parquet(\"/user/airbnb/parquet/dataset.parquet\")"
   ]
  },
  {
   "cell_type": "code",
   "execution_count": 53,
   "metadata": {
    "cell_status": {
     "execute_time": {
      "duration": 7727.168212890625,
      "end_time": 1612641614760.194
     }
    }
   },
   "outputs": [
    {
     "name": "stdout",
     "output_type": "stream",
     "text": [
      "Found 5 items\r\n",
      "drwxr-xr-x   - ubuntu hadoop          0 2022-02-13 10:05 /user/airbnb/parquet/accommodation.parquet\r\n",
      "drwxr-xr-x   - ubuntu hadoop          0 2022-02-13 10:05 /user/airbnb/parquet/apartment.parquet\r\n",
      "drwxr-xr-x   - ubuntu hadoop          0 2022-02-13 11:13 /user/airbnb/parquet/dataset.parquet\r\n",
      "drwxr-xr-x   - ubuntu hadoop          0 2022-02-13 10:05 /user/airbnb/parquet/hosts.parquet\r\n",
      "drwxr-xr-x   - ubuntu hadoop          0 2022-02-13 10:05 /user/airbnb/parquet/reviews.parquet\r\n"
     ]
    }
   ],
   "source": [
    "! hdfs dfs -ls /user/airbnb/parquet"
   ]
  },
  {
   "cell_type": "code",
   "execution_count": null,
   "metadata": {},
   "outputs": [],
   "source": []
  },
  {
   "cell_type": "code",
   "execution_count": 55,
   "metadata": {
    "cell_status": {
     "execute_time": {
      "duration": 775.469970703125,
      "end_time": 1612694109848.082
     }
    }
   },
   "outputs": [],
   "source": [
    "dataset_fd = se.read.parquet('/user/airbnb/parquet/dataset.parquet')"
   ]
  },
  {
   "cell_type": "code",
   "execution_count": null,
   "metadata": {},
   "outputs": [],
   "source": []
  },
  {
   "cell_type": "code",
   "execution_count": 81,
   "metadata": {},
   "outputs": [
    {
     "data": {
      "text/html": [
       "<div>\n",
       "<style scoped>\n",
       "    .dataframe tbody tr th:only-of-type {\n",
       "        vertical-align: middle;\n",
       "    }\n",
       "\n",
       "    .dataframe tbody tr th {\n",
       "        vertical-align: top;\n",
       "    }\n",
       "\n",
       "    .dataframe thead th {\n",
       "        text-align: right;\n",
       "    }\n",
       "</style>\n",
       "<table border=\"1\" class=\"dataframe\">\n",
       "  <thead>\n",
       "    <tr style=\"text-align: right;\">\n",
       "      <th></th>\n",
       "      <th>f_host_for_mean</th>\n",
       "      <th>f_host_for_dev</th>\n",
       "    </tr>\n",
       "  </thead>\n",
       "  <tbody>\n",
       "    <tr>\n",
       "      <th>0</th>\n",
       "      <td>2751.014271</td>\n",
       "      <td>589.692084</td>\n",
       "    </tr>\n",
       "  </tbody>\n",
       "</table>\n",
       "</div>"
      ],
      "text/plain": [
       "   f_host_for_mean  f_host_for_dev\n",
       "0      2751.014271      589.692084"
      ]
     },
     "execution_count": 81,
     "metadata": {},
     "output_type": "execute_result"
    }
   ],
   "source": [
    "dataset_fd.select(F.mean('f_host_for').alias('f_host_for_mean'), F.stddev('f_host_for').alias('f_host_for_dev')).limit(5).toPandas()"
   ]
  },
  {
   "cell_type": "code",
   "execution_count": 82,
   "metadata": {},
   "outputs": [],
   "source": [
    "f_cols = [f for f in dataset_fd.columns if f.startswith('f')]"
   ]
  },
  {
   "cell_type": "code",
   "execution_count": 83,
   "metadata": {},
   "outputs": [],
   "source": [
    "exps_mean = [\n",
    "    F.mean(c).alias('{}_mean'.format(c))\n",
    "    for c in f_cols\n",
    "]\n",
    "\n",
    "exps_dev = [\n",
    "    F.stddev(c).alias('{}_dev'.format(c))\n",
    "    for c in f_cols\n",
    "]\n",
    "\n",
    "norm_f = dataset_fd.select(*exps_mean, *exps_dev).rdd.take(1)"
   ]
  },
  {
   "cell_type": "code",
   "execution_count": null,
   "metadata": {},
   "outputs": [],
   "source": []
  },
  {
   "cell_type": "code",
   "execution_count": 86,
   "metadata": {},
   "outputs": [],
   "source": [
    "norm_dict = norm_f[0].asDict()"
   ]
  },
  {
   "cell_type": "code",
   "execution_count": 90,
   "metadata": {},
   "outputs": [],
   "source": [
    "exps = [\n",
    "    (\n",
    "        (F.col(c) - norm_dict[\"{}_mean\".format(c)]) / (1 + norm_dict[\"{}_dev\".format(c)])\n",
    "    ).alias(c)\n",
    "    for c in f_cols\n",
    "]"
   ]
  },
  {
   "cell_type": "code",
   "execution_count": 91,
   "metadata": {},
   "outputs": [
    {
     "data": {
      "text/html": [
       "<div>\n",
       "<style scoped>\n",
       "    .dataframe tbody tr th:only-of-type {\n",
       "        vertical-align: middle;\n",
       "    }\n",
       "\n",
       "    .dataframe tbody tr th {\n",
       "        vertical-align: top;\n",
       "    }\n",
       "\n",
       "    .dataframe thead th {\n",
       "        text-align: right;\n",
       "    }\n",
       "</style>\n",
       "<table border=\"1\" class=\"dataframe\">\n",
       "  <thead>\n",
       "    <tr style=\"text-align: right;\">\n",
       "      <th></th>\n",
       "      <th>target</th>\n",
       "      <th>f_host_for</th>\n",
       "      <th>f_host_response_rate</th>\n",
       "      <th>f_host_acceptance_rate</th>\n",
       "      <th>f_host_total_listings_count</th>\n",
       "      <th>f_num_of_ver</th>\n",
       "      <th>f_number_of_reviews</th>\n",
       "      <th>f_review_scores_rating</th>\n",
       "      <th>f_review_scores_accuracy</th>\n",
       "      <th>f_review_scores_cleanliness</th>\n",
       "      <th>...</th>\n",
       "      <th>f_property_type_cabin</th>\n",
       "      <th>f_accommodates</th>\n",
       "      <th>f_bathrooms</th>\n",
       "      <th>f_bedrooms</th>\n",
       "      <th>f_beds</th>\n",
       "      <th>f_guests_included</th>\n",
       "      <th>f_cleaning_fee</th>\n",
       "      <th>f_square_feet</th>\n",
       "      <th>f_extra_people</th>\n",
       "      <th>f_bias</th>\n",
       "    </tr>\n",
       "  </thead>\n",
       "  <tbody>\n",
       "    <tr>\n",
       "      <th>0</th>\n",
       "      <td>450.0</td>\n",
       "      <td>0.745652</td>\n",
       "      <td>0.443778</td>\n",
       "      <td>0.0</td>\n",
       "      <td>-0.417513</td>\n",
       "      <td>0.848230</td>\n",
       "      <td>0.016432</td>\n",
       "      <td>0.760037</td>\n",
       "      <td>0.675447</td>\n",
       "      <td>0.509344</td>\n",
       "      <td>...</td>\n",
       "      <td>-0.000815</td>\n",
       "      <td>-0.549206</td>\n",
       "      <td>-0.232150</td>\n",
       "      <td>-0.263258</td>\n",
       "      <td>-0.462410</td>\n",
       "      <td>-0.230703</td>\n",
       "      <td>-0.723646</td>\n",
       "      <td>-0.044524</td>\n",
       "      <td>-0.358428</td>\n",
       "      <td>0.0</td>\n",
       "    </tr>\n",
       "    <tr>\n",
       "      <th>1</th>\n",
       "      <td>450.0</td>\n",
       "      <td>0.745652</td>\n",
       "      <td>0.443778</td>\n",
       "      <td>0.0</td>\n",
       "      <td>-0.417513</td>\n",
       "      <td>0.848230</td>\n",
       "      <td>0.016432</td>\n",
       "      <td>0.760037</td>\n",
       "      <td>0.675447</td>\n",
       "      <td>0.509344</td>\n",
       "      <td>...</td>\n",
       "      <td>-0.000815</td>\n",
       "      <td>-0.549206</td>\n",
       "      <td>-0.232150</td>\n",
       "      <td>-0.263258</td>\n",
       "      <td>-0.462410</td>\n",
       "      <td>-0.230703</td>\n",
       "      <td>-0.723646</td>\n",
       "      <td>-0.044524</td>\n",
       "      <td>-0.358428</td>\n",
       "      <td>0.0</td>\n",
       "    </tr>\n",
       "    <tr>\n",
       "      <th>2</th>\n",
       "      <td>65.0</td>\n",
       "      <td>-0.381839</td>\n",
       "      <td>-2.746187</td>\n",
       "      <td>0.0</td>\n",
       "      <td>-0.422898</td>\n",
       "      <td>-1.447601</td>\n",
       "      <td>-0.459598</td>\n",
       "      <td>-1.415443</td>\n",
       "      <td>-1.175346</td>\n",
       "      <td>-1.170018</td>\n",
       "      <td>...</td>\n",
       "      <td>-0.000815</td>\n",
       "      <td>-0.549206</td>\n",
       "      <td>-0.232150</td>\n",
       "      <td>-0.263258</td>\n",
       "      <td>-0.462410</td>\n",
       "      <td>-0.230703</td>\n",
       "      <td>-0.723646</td>\n",
       "      <td>-0.044524</td>\n",
       "      <td>-0.358428</td>\n",
       "      <td>0.0</td>\n",
       "    </tr>\n",
       "    <tr>\n",
       "      <th>3</th>\n",
       "      <td>300.0</td>\n",
       "      <td>0.225922</td>\n",
       "      <td>-2.746187</td>\n",
       "      <td>0.0</td>\n",
       "      <td>-0.422898</td>\n",
       "      <td>-0.529268</td>\n",
       "      <td>-0.459598</td>\n",
       "      <td>-1.415443</td>\n",
       "      <td>-1.175346</td>\n",
       "      <td>-1.170018</td>\n",
       "      <td>...</td>\n",
       "      <td>-0.000815</td>\n",
       "      <td>0.040298</td>\n",
       "      <td>0.333231</td>\n",
       "      <td>0.702031</td>\n",
       "      <td>0.616622</td>\n",
       "      <td>-0.230703</td>\n",
       "      <td>-0.723646</td>\n",
       "      <td>-0.044524</td>\n",
       "      <td>-0.358428</td>\n",
       "      <td>0.0</td>\n",
       "    </tr>\n",
       "    <tr>\n",
       "      <th>4</th>\n",
       "      <td>199.0</td>\n",
       "      <td>-0.403847</td>\n",
       "      <td>0.379979</td>\n",
       "      <td>0.0</td>\n",
       "      <td>4.176020</td>\n",
       "      <td>0.389064</td>\n",
       "      <td>-0.459598</td>\n",
       "      <td>-1.415443</td>\n",
       "      <td>-1.175346</td>\n",
       "      <td>-1.170018</td>\n",
       "      <td>...</td>\n",
       "      <td>-0.000815</td>\n",
       "      <td>0.335051</td>\n",
       "      <td>0.333231</td>\n",
       "      <td>0.219387</td>\n",
       "      <td>-0.102732</td>\n",
       "      <td>-0.230703</td>\n",
       "      <td>0.654134</td>\n",
       "      <td>-0.044524</td>\n",
       "      <td>-0.358428</td>\n",
       "      <td>0.0</td>\n",
       "    </tr>\n",
       "  </tbody>\n",
       "</table>\n",
       "<p>5 rows × 193 columns</p>\n",
       "</div>"
      ],
      "text/plain": [
       "   target  f_host_for  f_host_response_rate  f_host_acceptance_rate  \\\n",
       "0   450.0    0.745652              0.443778                     0.0   \n",
       "1   450.0    0.745652              0.443778                     0.0   \n",
       "2    65.0   -0.381839             -2.746187                     0.0   \n",
       "3   300.0    0.225922             -2.746187                     0.0   \n",
       "4   199.0   -0.403847              0.379979                     0.0   \n",
       "\n",
       "   f_host_total_listings_count  f_num_of_ver  f_number_of_reviews  \\\n",
       "0                    -0.417513      0.848230             0.016432   \n",
       "1                    -0.417513      0.848230             0.016432   \n",
       "2                    -0.422898     -1.447601            -0.459598   \n",
       "3                    -0.422898     -0.529268            -0.459598   \n",
       "4                     4.176020      0.389064            -0.459598   \n",
       "\n",
       "   f_review_scores_rating  f_review_scores_accuracy  \\\n",
       "0                0.760037                  0.675447   \n",
       "1                0.760037                  0.675447   \n",
       "2               -1.415443                 -1.175346   \n",
       "3               -1.415443                 -1.175346   \n",
       "4               -1.415443                 -1.175346   \n",
       "\n",
       "   f_review_scores_cleanliness  ...  f_property_type_cabin  f_accommodates  \\\n",
       "0                     0.509344  ...              -0.000815       -0.549206   \n",
       "1                     0.509344  ...              -0.000815       -0.549206   \n",
       "2                    -1.170018  ...              -0.000815       -0.549206   \n",
       "3                    -1.170018  ...              -0.000815        0.040298   \n",
       "4                    -1.170018  ...              -0.000815        0.335051   \n",
       "\n",
       "   f_bathrooms  f_bedrooms    f_beds  f_guests_included  f_cleaning_fee  \\\n",
       "0    -0.232150   -0.263258 -0.462410          -0.230703       -0.723646   \n",
       "1    -0.232150   -0.263258 -0.462410          -0.230703       -0.723646   \n",
       "2    -0.232150   -0.263258 -0.462410          -0.230703       -0.723646   \n",
       "3     0.333231    0.702031  0.616622          -0.230703       -0.723646   \n",
       "4     0.333231    0.219387 -0.102732          -0.230703        0.654134   \n",
       "\n",
       "   f_square_feet  f_extra_people  f_bias  \n",
       "0      -0.044524       -0.358428     0.0  \n",
       "1      -0.044524       -0.358428     0.0  \n",
       "2      -0.044524       -0.358428     0.0  \n",
       "3      -0.044524       -0.358428     0.0  \n",
       "4      -0.044524       -0.358428     0.0  \n",
       "\n",
       "[5 rows x 193 columns]"
      ]
     },
     "execution_count": 91,
     "metadata": {},
     "output_type": "execute_result"
    }
   ],
   "source": [
    "dataset_fd.select(\"target\", *exps).limit(5).toPandas()"
   ]
  },
  {
   "cell_type": "code",
   "execution_count": null,
   "metadata": {},
   "outputs": [],
   "source": []
  },
  {
   "cell_type": "code",
   "execution_count": 92,
   "metadata": {
    "cell_status": {
     "execute_time": {
      "duration": 404.23095703125,
      "end_time": 1612694148776.941
     }
    }
   },
   "outputs": [],
   "source": [
    "train_df, test_df = dataset_fd.select(\"target\", *exps).randomSplit([0.8, 0.2], 432)"
   ]
  },
  {
   "cell_type": "code",
   "execution_count": 93,
   "metadata": {
    "cell_status": {
     "execute_time": {
      "duration": 271.197998046875,
      "end_time": 1612694182561.261
     }
    }
   },
   "outputs": [],
   "source": [
    "train = train_df.rdd.cache()\n",
    "test = test_df.rdd.cache()"
   ]
  },
  {
   "cell_type": "code",
   "execution_count": null,
   "metadata": {},
   "outputs": [],
   "source": []
  },
  {
   "cell_type": "code",
   "execution_count": 94,
   "metadata": {
    "cell_status": {
     "execute_time": {
      "duration": 17407.39208984375,
      "end_time": 1612694242015.293
     }
    }
   },
   "outputs": [],
   "source": [
    "example = train.first()"
   ]
  },
  {
   "cell_type": "code",
   "execution_count": 95,
   "metadata": {
    "cell_status": {
     "execute_time": {
      "duration": 54.669921875,
      "end_time": 1612694248868.834
     }
    }
   },
   "outputs": [
    {
     "data": {
      "text/plain": [
       "Row(target=1.0, f_host_for=-1.5381100549600453, f_host_response_rate=0.44377826248804075, f_host_acceptance_rate=0.0, f_host_total_listings_count=-0.4228981418743758, f_num_of_ver=1.766562862017864, f_number_of_reviews=-0.4595978544535533, f_review_scores_rating=-1.4154427083019658, f_review_scores_accuracy=-1.1753455217702893, f_review_scores_cleanliness=-1.1700183840705847, f_review_scores_checkin=-1.181573715066312, f_review_scores_communication=-1.1844742381115585, f_review_scores_location=-1.1823447248750683, f_review_scores_value=-1.1650967767715705, f_reviews_per_month=-0.3676457661940611, f_amenity_refrigerator=-0.004012392049239458, f_amenity_stepfree_access=0.0, f_amenity_stove=-0.0038147745972070754, f_amenity_wide_hallway_clearance=0.0, f_amenity_path_to_entrance_lit_at_night=0.0, f_amenity_ev_charger=0.0, f_amenity_wide_doorway=0.0, f_amenity_grabrails_for_shower_and_toilet=0.0, f_amenity_pets_allowed=0.0, f_amenity_cooking_basics=0.0, f_amenity_heating=0.11048469539420204, f_amenity_lake_access=0.0, f_amenity_patio_or_balcony=0.0, f_amenity_wide_clearance_to_shower_and_toilet=0.0, f_amenity_washer__dryer=0.0, f_amenity_doorman=-0.06545844332427836, f_amenity_private_living_room=0.0, f_amenity_game_console=0.0, f_amenity_long_term_stays_allowed=0.0, f_amenity_buzzerwireless_intercom=0.0, f_amenity_coffee_maker=0.0, f_amenity_pocket_wifi=0.0, f_amenity_oven=-0.0036112044108357667, f_amenity_tub_with_shower_bench=0.0, f_amenity_host_greets_you=0.0, f_amenity_tv=0.16683843612158167, f_amenity_pets_live_on_this_property=0.0, f_amenity_garden_or_backyard=0.0, f_amenity_crib=-0.0033741106960220833, f_amenity_carbon_monoxide_detector=0.0, f_amenity_laptop_friendly_workspace=0.0, f_amenity_hair_dryer=0.0, f_amenity_dishes_and_silverware=0.0, f_amenity_wireless_internet=0.0, f_amenity_hangers=0.2779415166093968, f_amenity_pool=0.6499936827049593, f_amenity_kitchen=0.07148567404624735, f_amenity_safety_card=0.0, f_amenity_extra_pillows_and_blankets=0.0, f_amenity_fire_extinguisher=0.0, f_amenity_table_corner_guards=0.0, f_amenity_familykid_friendly=0.0, f_amenity_paid_parking_off_premises=0.0, f_amenity_wide_clearance_to_bed=0.0, f_amenity_translation_missing_enhostingamenity50=0.0, f_amenity_indoor_fireplace=0.0, f_amenity_washer=0.1645564056125465, f_amenity_lockbox=-0.02038064186914296, f_amenity_gym=0.6882790367219378, f_amenity_other=0.0, f_amenity_cable_tv=0.0, f_amenity_keypad=-0.015465183366015708, f_amenity_waterfront=-1.962913266705482e-05, f_amenity_bed_linens=0.0, f_amenity_accessibleheight_toilet=0.0, f_amenity_hot_tub=0.0, f_amenity_dogs=0.0, f_amenity_elevator_in_building=0.0, f_amenity_wheelchair_accessible=0.0, f_amenity_other_pets=0.0, f_amenity_cats=0.0, f_amenity_iron=0.3007099187503075, f_amenity_fireplace_guards=0.0, f_amenity_changing_table=0.0, f_amenity_suitable_for_events=0.0, f_amenity_first_aid_kit=0.0, f_amenity_ethernet_connection=0.0, f_amenity_self_checkin=0.0, f_amenity_flat_smooth_pathway_to_front_door=0.0, f_amenity_internet=-0.39793378582821803, f_amenity_window_guards=0.0, f_amenity_lock_on_bedroom_door=0.0, f_amenity_breakfast=-0.06906862425821977, f_amenity_childrens_books_and_toys=0.0, f_amenity_childrens_dinnerware=0.0, f_amenity_firm_matress=0.0, f_amenity_baby_bath=0.0, f_amenity_doorman_entry=0.0, f_amenity_microwave=-0.0025591103233695172, f_amenity_dryer=0.3424813826984745, f_amenity_free_parking_on_street=0.0, f_amenity_9=-8.564371026731629e-07, f_amenity_private_bathroom=0.0, f_amenity_smartlock=-0.004289701165014374, f_amenity_shampoo=0.28703300832058765, f_amenity_rollin_shower_with_shower_bench_or_chair=0.0, f_amenity_hot_water=0.0, f_amenity_high_chair=0.0, f_amenity_firm_mattress=0.0, f_amenity_free_parking_on_premises=0.0, f_amenity_smoking_allowed=0.0, f_amenity_single_level_home=0.0, f_amenity_roomdarkening_shades=0.0, f_amenity_private_entrance=0.0, f_amenity_outlet_covers=0.0, f_amenity_cleaning_before_checkout=0.0, f_amenity_disabled_parking_spot=0.0, f_amenity_baby_monitor=0.0, f_amenity_bathtub=-0.010422766939858028, f_amenity_air_conditioning=0.0, f_amenity_smoke_detector=0.0, f_amenity_translation_missing_enhostingamenity49=0.0, f_amenity_luggage_dropoff_allowed=0.0, f_amenity_stair_gates=0.0, f_amenity_bbq_grill=0.0, f_amenity_dishwasher=-0.0024517027113800526, f_amenity_smart_lock=0.0, f_amenity_pack_n_playtravel_crib=0.0, f_amenity_babysitter_recommendations=0.0, f_amenity_essentials=0.11991039116541798, f_amenity_beach_essentials=0.0, f_amenity_beachfront=-2.5675726672174857e-06, f_amenity_accessibleheight_bed=0.0, f_amenity_24hour_checkin=0.0, f_bad_type_airbed=-0.0016245603645573148, f_bad_type_futon=-0.0031851839687735673, f_bad_type_pullout_sofa=-0.010873470280212313, f_bad_type_couch=-0.0018259877154013305, f_bad_type_9=-8.564371026731629e-07, f_bad_type_real_bed=0.016740759828374786, f_room_type_shared_room=0.0, f_room_type_entire_homeapt=0.0, f_room_type_9=-8.564371026731629e-07, f_room_type_private_room=0.0, f_property_type_heritage_hotel_india=-8.564371026731629e-07, f_property_type_apartment=-0.4697464516655245, f_property_type_townhouse=-0.008925532572907539, f_property_type_bed__breakfast=-0.02197507464227192, f_property_type_earth_house=-3.833724768810733e-05, f_property_type_pension_korea=-1.7122181664942894e-06, f_property_type_guest_suite=-0.00018183610239692075, f_property_type_timeshare=-0.0003216424180051926, f_property_type_hut=-3.068979629390756e-05, f_property_type_camperrv=-0.00047141855993920376, f_property_type_boutique_hotel=-0.0032230061387090933, f_property_type_castle=-0.00012208479858453046, f_property_type_loft=-0.008065129293950696, f_property_type_guesthouse=-0.004070886965110652, f_property_type_hostel=-0.0039116878351019785, f_property_type_lighthouse=-1.6221903714519975e-05, f_property_type_cave=-2.1331999267109013e-05, f_property_type_villa=-0.019178718899098526, f_property_type_ryokan_japan=-3.4225824932326105e-06, f_property_type_car=-8.564371026731629e-07, f_property_type_entire_floor=-2.303439532065672e-05, f_property_type_other=-0.007688444664671775, f_property_type_serviced_apartment=-0.001454783998363592, f_property_type_treehouse=-5.95448611496259e-05, f_property_type_inlaw=-0.00010267914998528161, f_property_type_nature_lodge=-1.1106913055039275e-05, f_property_type_dorm=-0.009311238146816484, f_property_type_igloo=-1.7925775204025617e-05, f_property_type_condominium=0.8487849254718588, f_property_type_house=-0.1308755844810762, f_property_type_chalet=-0.003835886133721592, f_property_type_yurt=-2.5587145992367983e-05, f_property_type_van=0.0, f_property_type_tipi=-2.388542259864202e-05, f_property_type_parking_space=-3.4225824932326105e-06, f_property_type_island=-5.131742034105682e-06, f_property_type_tent=-0.00027151767684166657, f_property_type_train=-1.3665072949674435e-05, f_property_type_boat=-0.001070256162395168, f_property_type_vacation_home=-0.00014062282226566652, f_property_type_20170402=-8.564371026731629e-07, f_property_type_casa_particular=-7.693700485940736e-06, f_property_type_bungalow=-0.0016084144775433925, f_property_type_plane=-3.4225824932326105e-06, f_property_type_cabin=-0.0008147889518299918, f_accommodates=-0.5492064217473683, f_bathrooms=0.3332311573788268, f_bedrooms=-0.26325785696615056, f_beds=-0.46240985572485926, f_guests_included=-0.23070331136095684, f_cleaning_fee=-0.723646407183924, f_square_feet=-0.04452428616435774, f_extra_people=-0.3584283304364971, f_bias=0.0)"
      ]
     },
     "execution_count": 95,
     "metadata": {},
     "output_type": "execute_result"
    }
   ],
   "source": [
    "example"
   ]
  },
  {
   "cell_type": "code",
   "execution_count": 96,
   "metadata": {
    "cell_status": {
     "execute_time": {
      "duration": 49.568115234375,
      "end_time": 1612694285415.501
     }
    }
   },
   "outputs": [],
   "source": [
    "features_num = len(example.asDict()) - 1"
   ]
  },
  {
   "cell_type": "code",
   "execution_count": 97,
   "metadata": {
    "cell_status": {
     "execute_time": {
      "duration": 55.695068359375,
      "end_time": 1612694289980.049
     }
    }
   },
   "outputs": [
    {
     "data": {
      "text/plain": [
       "192"
      ]
     },
     "execution_count": 97,
     "metadata": {},
     "output_type": "execute_result"
    }
   ],
   "source": [
    "features_num"
   ]
  },
  {
   "cell_type": "code",
   "execution_count": null,
   "metadata": {},
   "outputs": [],
   "source": []
  },
  {
   "cell_type": "code",
   "execution_count": 98,
   "metadata": {},
   "outputs": [],
   "source": [
    "import numpy as np\n",
    "from functools import partial"
   ]
  },
  {
   "cell_type": "markdown",
   "metadata": {},
   "source": [
    "#### Broadcasts & Accumulators\n",
    "\n",
    "Обучать будем обычную линейную регрессию"
   ]
  },
  {
   "cell_type": "code",
   "execution_count": 99,
   "metadata": {
    "cell_status": {
     "execute_time": {
      "duration": 46.927978515625,
      "end_time": 1612695840957.165
     }
    }
   },
   "outputs": [],
   "source": [
    "def compute_gradient(weights_broadcast, loss, example):\n",
    "    # достаем целевую переменную и признаки из наблюдения\n",
    "    gradient = np.zeros(len(weights_broadcast.value))\n",
    "    data = example.asDict()\n",
    "    \n",
    "    y = data['target']\n",
    "    data.pop('target')\n",
    "\n",
    "    # признаки сортируем по названию для того, чтобы позиции точно не разъезались\n",
    "    x = np.array([v or 0 for k, v in sorted(data.items(), key=lambda x: x[0])])\n",
    "\n",
    "    # делаем предсказание с текущими весами\n",
    "    prediction = x.dot(weights_broadcast.value)\n",
    "\n",
    "    # считаем градиент на объекте\n",
    "    gradient = x * (prediction - y) * 2\n",
    "    \n",
    "    # считаем потери\n",
    "    loss.add((prediction - y) ** 2)\n",
    "    \n",
    "    return gradient"
   ]
  },
  {
   "cell_type": "code",
   "execution_count": 128,
   "metadata": {
    "cell_status": {
     "execute_time": {
      "duration": 490513.3039550781,
      "end_time": 1612698598719.001
     }
    }
   },
   "outputs": [
    {
     "name": "stdout",
     "output_type": "stream",
     "text": [
      "epoch: 0 loss: 45851.77650118528\n",
      "epoch: 1 loss: 41817.16639498316\n",
      "epoch: 2 loss: 40123.73287651765\n",
      "epoch: 3 loss: 39273.24952667046\n",
      "epoch: 4 loss: 38803.49591898277\n",
      "epoch: 5 loss: 38521.966452178225\n",
      "epoch: 6 loss: 38340.91310263563\n",
      "epoch: 7 loss: 38217.14452153731\n",
      "epoch: 8 loss: 38127.9960557812\n",
      "epoch: 9 loss: 38060.85707167186\n",
      "epoch: 10 loss: 38008.35555717565\n",
      "epoch: 11 loss: 37965.98468401477\n",
      "epoch: 12 loss: 37930.876256555704\n",
      "epoch: 13 loss: 37901.13955003687\n",
      "epoch: 14 loss: 37875.48482804894\n",
      "epoch: 15 loss: 37853.01489090475\n",
      "epoch: 16 loss: 37833.07274083691\n",
      "epoch: 17 loss: 37815.179198545615\n",
      "epoch: 18 loss: 37798.97366126823\n",
      "epoch: 19 loss: 37784.1795127419\n"
     ]
    }
   ],
   "source": [
    "\n",
    "# Параметры\n",
    "# learning_rate = 0.1\n",
    "epochs = 20\n",
    "l2_lambda = 0.01\n",
    "l1_lambda = 0.01\n",
    "\n",
    "np.random.seed(42201)\n",
    "\n",
    "# Изначальные веса инициализируем случайно\n",
    "weights = np.random.random(features_num)\n",
    "\n",
    "N = train.count()\n",
    "\n",
    "# Цикл по эпохам\n",
    "for i in range(epochs):\n",
    "    weights_broadcast = sc.broadcast(weights)  # Эту переменную будет бродкастить на всех воркеров\n",
    "    loss = sc.accumulator(0.0) # В эту переменную будет частичные лоссы на объектах\n",
    "    \n",
    "    # Считаем средний градиент\n",
    "    gradient = (\n",
    "        train\n",
    "        .map(partial(compute_gradient, weights_broadcast, loss))\n",
    "        .mean()\n",
    "    )\n",
    "    \n",
    "    gradient += 2 * l2_lambda * weights  # L2 регуляризация\n",
    "    gradient += l1_lambda * np.sign(weights) # L1 регуляризация\n",
    "    \n",
    "    learning_rate = 1 / (10 + i)\n",
    "    \n",
    "    weights -= learning_rate * gradient\n",
    "    weights_broadcast.destroy()\n",
    "    \n",
    "    print(\"epoch:\", i, \"loss:\", loss.value / N)"
   ]
  },
  {
   "cell_type": "code",
   "execution_count": 129,
   "metadata": {
    "cell_status": {
     "execute_time": {
      "duration": 66.5400390625,
      "end_time": 1612698819895.862
     }
    }
   },
   "outputs": [
    {
     "data": {
      "text/plain": [
       "array([ 3.26259699e+01,  8.69178753e-01,  5.00485024e-01,  1.55384138e-01,\n",
       "        9.49625098e-01,  3.35830936e-01,  9.56483471e-01,  5.52754474e-01,\n",
       "        2.15522977e-01, -5.83638084e-01,  4.31184228e-01,  2.82142498e-02,\n",
       "        2.17031368e-01,  7.92694344e-01, -2.57221019e+00,  9.58887210e-05,\n",
       "        3.90479400e-01,  3.37967895e-04,  6.83137627e-02,  9.66127438e-01,\n",
       "        8.77287107e-01,  9.13806583e-01,  3.37733782e-01,  8.38307405e-01,\n",
       "        2.60520312e-01,  4.77569254e-01,  9.02005582e-01,  6.94907100e-01,\n",
       "        5.81655106e-01,  1.28448554e-01,  3.72805761e+00,  4.61026522e-01,\n",
       "        1.00287166e+01,  1.44016559e-01,  2.06034115e+00,  5.67573588e-03,\n",
       "        1.73892231e-01,  6.74507631e-01,  6.18557371e-01,  7.96435853e-01,\n",
       "        2.53048317e-01,  7.43124966e-01,  6.60477549e-01,  3.87806443e-02,\n",
       "        2.71745536e-01,  7.05997979e-01,  1.07969078e-01,  7.38323900e-01,\n",
       "        8.49797789e-01,  1.77267877e-01,  3.27465765e+00,  5.70744496e-01,\n",
       "        2.30344198e-01, -1.77073045e+00,  3.50426490e-01,  2.11595521e-01,\n",
       "        6.47109715e-01,  9.61438934e-01,  9.09880139e-01,  3.51216070e+00,\n",
       "       -4.77162324e-01, -2.21001645e-01, -2.73613827e+00,  6.36224501e-01,\n",
       "        9.26153239e-01,  9.50245062e-01, -4.52840284e-01,  6.35815787e-02,\n",
       "        3.71310058e-01,  5.68687914e-01,  4.26223642e-01,  3.26638813e-01,\n",
       "        9.26805688e-01,  6.77371439e-02,  1.51455968e-01,  1.73693329e-01,\n",
       "        5.08548588e-01,  1.92721673e-01,  4.32410826e-01,  1.02503229e-01,\n",
       "        1.27743380e-01,  2.25436568e+00,  4.81554762e-03,  5.04086290e-01,\n",
       "        4.50862891e-01,  1.81388128e-01,  7.59696162e-01,  7.97983286e-01,\n",
       "        6.17125808e-01,  1.32281665e-01,  7.73122285e+00,  5.11168490e-01,\n",
       "        1.36759198e-01, -9.72121239e-03,  8.84144313e-01,  1.12831502e-01,\n",
       "        2.98770572e-01,  5.85409158e-01,  8.05675710e-01,  9.61915917e-01,\n",
       "        1.11276226e-01,  1.77072632e-02,  7.72563907e-01,  3.12438565e-01,\n",
       "        1.02023060e+01, -1.08282834e+00,  1.08144032e-02,  1.95979999e-01,\n",
       "        5.25280631e-02,  8.72100558e-01,  2.60831511e-01,  1.86118197e-01,\n",
       "        2.50298216e-01,  4.61872593e-01,  8.65973795e-01,  5.24845048e-01,\n",
       "        5.60644921e-01, -5.47291800e-02,  7.68736440e-01, -1.79300844e-01,\n",
       "        1.66498350e+00,  1.46246573e+01,  2.36930171e+01,  1.24135495e+01,\n",
       "        1.47463731e-01,  5.20314048e+01,  1.64363501e+01,  5.99774537e-01,\n",
       "        1.73741707e-01,  1.56755167e+00, -5.01127303e+00,  8.20592366e+00,\n",
       "       -2.23263500e+00, -4.23306587e+00,  3.43113998e-01,  4.67174197e-01,\n",
       "       -7.88171708e-01,  1.02840660e+00,  8.94046661e-01,  1.07906896e-01,\n",
       "        3.44338909e-02,  3.57120549e-01,  3.67141984e-01,  6.22753365e-01,\n",
       "        3.80107500e-01,  3.61782911e-02,  5.94458514e-01,  2.04435348e+00,\n",
       "       -1.24417039e+00,  8.68392241e-01,  3.71751689e-01,  4.53079974e-01,\n",
       "        1.52551639e-02,  4.91247923e-01, -3.22875560e-01,  2.42077704e+00,\n",
       "        3.33939226e-01,  3.66974752e-01,  3.28131360e-01,  4.69005343e-01,\n",
       "        8.10306126e-01,  9.79983315e-01,  6.76211573e-01,  7.95547026e-03,\n",
       "        9.47202455e-02,  3.57296218e-01,  5.20154331e-01,  8.47308540e-01,\n",
       "        5.10650700e-02,  3.62673488e-02,  3.37394616e-01,  5.62045916e-01,\n",
       "        5.67988049e-01,  7.20046992e-01,  2.62280002e-01,  6.71619275e-01,\n",
       "        4.94573987e-01, -2.23022025e-01,  3.02953763e-01, -5.26748102e-01,\n",
       "       -1.98835838e+00, -1.04010962e-01, -2.22806062e+00,  1.01166002e+00,\n",
       "       -1.42728171e-01, -1.91233537e+00, -5.18309943e+00,  2.23720820e-01,\n",
       "        8.09622839e-01,  6.14254726e-01,  2.06364870e-01,  3.89124061e-01])"
      ]
     },
     "execution_count": 129,
     "metadata": {},
     "output_type": "execute_result"
    }
   ],
   "source": [
    "weights"
   ]
  },
  {
   "cell_type": "code",
   "execution_count": null,
   "metadata": {},
   "outputs": [],
   "source": []
  },
  {
   "cell_type": "code",
   "execution_count": 130,
   "metadata": {
    "cell_status": {
     "execute_time": {
      "duration": 65.058837890625,
      "end_time": 1612699098451.285
     }
    }
   },
   "outputs": [],
   "source": [
    "def calc_ss_res(weights_broadcast, example):\n",
    "    # достаем целевую переменную и признаки из наблюдения\n",
    "    gradient = np.zeros(len(weights_broadcast.value))\n",
    "    data = example.asDict()\n",
    "    \n",
    "    y = data['target']\n",
    "    data.pop('target')\n",
    "\n",
    "    # признаки сортируем по названию для того, чтобы позиции точно не разъезались\n",
    "    x = np.array([v or 0 for k, v in sorted(data.items(), key=lambda x: x[0])])\n",
    "\n",
    "    # делаем предсказание с текущими весами\n",
    "    prediction = x.dot(weights_broadcast.value)\n",
    "    return (y - prediction) ** 2"
   ]
  },
  {
   "cell_type": "code",
   "execution_count": 131,
   "metadata": {
    "cell_status": {
     "execute_time": {
      "duration": 53589.76806640625,
      "end_time": 1612699228710.638
     }
    }
   },
   "outputs": [
    {
     "name": "stdout",
     "output_type": "stream",
     "text": [
      "-0.7401309353981409\n"
     ]
    }
   ],
   "source": [
    "weights_broadcast = sc.broadcast(weights)\n",
    "\n",
    "y_avg = train.map(lambda x: x.target).mean()\n",
    "ss_tot = train.map(lambda x: (x.target - y_avg) ** 2).sum()\n",
    "ss_res = train.map(partial(calc_ss_res, weights_broadcast)).sum()\n",
    "\n",
    "r2_score = 1 - ss_res / ss_tot\n",
    "print(r2_score)"
   ]
  },
  {
   "cell_type": "code",
   "execution_count": 132,
   "metadata": {},
   "outputs": [
    {
     "name": "stdout",
     "output_type": "stream",
     "text": [
      "-0.7330101852080344\n"
     ]
    }
   ],
   "source": [
    "weights_broadcast = sc.broadcast(weights)\n",
    "\n",
    "y_avg = test.map(lambda x: x.target).mean()\n",
    "ss_tot = test.map(lambda x: (x.target - y_avg) ** 2).sum()\n",
    "ss_res = test.map(partial(calc_ss_res, weights_broadcast)).sum()\n",
    "\n",
    "r2_score = 1 - ss_res / ss_tot\n",
    "print(r2_score)"
   ]
  },
  {
   "cell_type": "code",
   "execution_count": null,
   "metadata": {},
   "outputs": [],
   "source": []
  },
  {
   "cell_type": "markdown",
   "metadata": {},
   "source": [
    "Ну что можно сказать \n",
    "\n",
    "<img src=\"https://i.pinimg.com/originals/bb/0e/c3/bb0ec3d5987cff5c6bf8699b0d4e53b2.jpg\" width=\"300\">\n",
    "\n",
    "Похоже, что задача не решается простой линейкой и для реального качества требуется поквахтать\n",
    "\n",
    "Но что нужно отметить:\n",
    "\n",
    "* Лосс падает!\n",
    "* Решение довольно неплохо масштабируется - фактически мы можем обработать датасет произвольного размера\n",
    "* Мы попробовали кучу всякий крутых примочек, которые есть в Spark"
   ]
  },
  {
   "cell_type": "markdown",
   "metadata": {},
   "source": [
    "### Вы жжете бабло\n",
    "\n",
    "<img src=\"https://grizzle.com/wp-content/uploads/2020/01/money-cash-fire-1200x900.png\" width=\"300\">\n",
    "\n",
    "Напоминаю, выключайте ресурсы. Они жрут ваши деньги."
   ]
  },
  {
   "cell_type": "code",
   "execution_count": null,
   "metadata": {},
   "outputs": [],
   "source": []
  }
 ],
 "metadata": {
  "kernelspec": {
   "display_name": "Python 3",
   "language": "python",
   "name": "python3"
  },
  "language_info": {
   "codemirror_mode": {
    "name": "ipython",
    "version": 3
   },
   "file_extension": ".py",
   "mimetype": "text/x-python",
   "name": "python",
   "nbconvert_exporter": "python",
   "pygments_lexer": "ipython3",
   "version": "3.8.10"
  }
 },
 "nbformat": 4,
 "nbformat_minor": 2
}
