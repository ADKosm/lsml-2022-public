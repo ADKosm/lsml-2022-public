{
 "cells": [
  {
   "cell_type": "markdown",
   "metadata": {},
   "source": [
    "# Распределенное обучение классических моделей\n",
    "\n",
    "Поговорим про то, как решать задачу машинного обучения, когда самих наблюдений очень много и они все не помещаются на машину.\n",
    "\n",
    "Центральная идея во всех алгоритмах - параллельно на нескольких машинах посчитать частичные элементы, которые требуются для принятия решения, передать их на центральную машину и сделать шаг алгоритма.\n",
    "\n",
    "Для обучения линейных моделей на различных машинах будем считать градиент и на главной машине делать шаг градиентного спуска.\n",
    "\n",
    "Для деревьев решений на различных машинах будем считать распределение по корзинкам (по бинам) и на главной машине будет определять порог для определенного признака."
   ]
  },
  {
   "cell_type": "markdown",
   "metadata": {},
   "source": [
    "### Распределенное обучение VW\n",
    "\n",
    "Vowpal Wabbit также умеет работать распределенно, что делает его универсальным инструментом для обучения линейных моделей на больших данных. Для работы он использует дополнительный компонент - `spanning_tree` - это специальный процесс, который координирует работу различных воркеров между собой.\n",
    "\n",
    "Про него можно также думать, как про корневую вершину в алгоритме \"Tree Allreduce\", который используется для эффективной утилизации сети при обучении.\n",
    "\n",
    "Чтобы иметь возможность использовать `spanning_tree`, необходимо собрать VW руками.\n",
    "\n",
    "\n",
    "Собирем VW. Делать это нужно с суперпользоателя, поэтому удобнее всего запускать из терминала.\n",
    "\n",
    "```bash\n",
    "apt update && \\\n",
    "apt install git psmisc -y && \\\n",
    "apt install libboost-dev libboost-program-options-dev libboost-system-dev libboost-thread-dev libboost-math-dev libboost-test-dev zlib1g-dev cmake g++ -y \n",
    "\n",
    "\n",
    "wget https://github.com/google/flatbuffers/archive/v1.12.0.tar.gz && \\\n",
    "tar -xzf v1.12.0.tar.gz && \\\n",
    "cd flatbuffers-1.12.0 && \\\n",
    "mkdir build_dir && \\\n",
    "cd build_dir && \\\n",
    "cmake -G \"Unix Makefiles\" -DFLATBUFFERS_BUILD_TESTS=Off -DFLATBUFFERS_INSTALL=On -DCMAKE_BUILD_TYPE=Release DFLATBUFFERS_BUILD_FLATHASH=Off .. && \\\n",
    "make install -j$(nproc) && \\\n",
    "cd ../..\n",
    "\n",
    "git clone --recursive https://github.com/VowpalWabbit/vowpal_wabbit.git && \\\n",
    "cd vowpal_wabbit && \\\n",
    "sudo make && \\\n",
    "cd build && \\\n",
    "sudo make install -j$(nproc)\n",
    "```\n",
    "\n",
    "**Хозяйке на заметку** Чтобы получить рутовый доступ с кластера в Azure через Jupyter можно открыть терминал и по ssh подключиться к пользователю `azureuser`. Текущий пользователь `spark` к сожалению имеет очень мало прав.\n",
    "\n",
    "```bash\n",
    "ssh azureuser@localhost\n",
    "sudo su\n",
    "```"
   ]
  },
  {
   "cell_type": "code",
   "execution_count": 40,
   "metadata": {},
   "outputs": [
    {
     "name": "stdout",
     "output_type": "stream",
     "text": [
      "Overwriting install_vw.sh\n"
     ]
    }
   ],
   "source": [
    "%%writefile install_vw.sh\n",
    "\n",
    "sudo apt update -y\n",
    "sudo apt install git psmisc -y \n",
    "sudo apt install libboost-dev libboost-program-options-dev libboost-system-dev libboost-thread-dev libboost-math-dev libboost-test-dev zlib1g-dev cmake g++ -y \n",
    "\n",
    "wget https://github.com/google/flatbuffers/archive/v1.12.0.tar.gz && \\\n",
    "    tar -xzf v1.12.0.tar.gz && \\\n",
    "    cd flatbuffers-1.12.0 && \\\n",
    "    mkdir build_dir && \\\n",
    "    cd build_dir && \\\n",
    "    cmake -G \"Unix Makefiles\" -DFLATBUFFERS_BUILD_TESTS=Off -DFLATBUFFERS_INSTALL=On -DCMAKE_BUILD_TYPE=Release DFLATBUFFERS_BUILD_FLATHASH=Off .. && \\\n",
    "    make install -j$(nproc) && \\\n",
    "    cd ../..\n",
    "    \n",
    "git clone --recursive https://github.com/VowpalWabbit/vowpal_wabbit.git && \\\n",
    "    cd vowpal_wabbit && \\\n",
    "    git checkout d1ead9a0a9afd56d2ee11a72e0c1aaa7702ee281 && \\\n",
    "    sudo make && \\\n",
    "    cd build && \\\n",
    "    sudo make install -j$(nproc)"
   ]
  },
  {
   "cell_type": "code",
   "execution_count": null,
   "metadata": {},
   "outputs": [],
   "source": [
    "! bash install_vw.sh"
   ]
  },
  {
   "cell_type": "code",
   "execution_count": 26,
   "metadata": {},
   "outputs": [],
   "source": [
    "! sudo rm -r vowpal_wabbit/"
   ]
  },
  {
   "cell_type": "code",
   "execution_count": 1,
   "metadata": {},
   "outputs": [
    {
     "name": "stdout",
     "output_type": "stream",
     "text": [
      "/usr/local/bin/vw\r\n"
     ]
    }
   ],
   "source": [
    "! which vw"
   ]
  },
  {
   "cell_type": "code",
   "execution_count": 2,
   "metadata": {
    "cell_status": {
     "execute_time": {
      "duration": 186.580078125,
      "end_time": 1613981874641.176
     }
    }
   },
   "outputs": [
    {
     "name": "stdout",
     "output_type": "stream",
     "text": [
      "/usr/local/bin/spanning_tree\r\n"
     ]
    }
   ],
   "source": [
    "! which spanning_tree"
   ]
  },
  {
   "cell_type": "code",
   "execution_count": null,
   "metadata": {},
   "outputs": [],
   "source": []
  },
  {
   "cell_type": "code",
   "execution_count": 7,
   "metadata": {
    "cell_status": {
     "execute_time": {
      "duration": 3100.781982421875,
      "end_time": 1613982023114.511
     }
    }
   },
   "outputs": [
    {
     "name": "stdout",
     "output_type": "stream",
     "text": [
      "--2022-03-09 15:19:30--  https://archive.ics.uci.edu/ml/machine-learning-databases/00462/drugsCom_raw.zip\n",
      "Resolving archive.ics.uci.edu (archive.ics.uci.edu)... 128.195.10.252\n",
      "Connecting to archive.ics.uci.edu (archive.ics.uci.edu)|128.195.10.252|:443... connected.\n",
      "HTTP request sent, awaiting response... 200 OK\n",
      "Length: 42989872 (41M) [application/x-httpd-php]\n",
      "Saving to: ‘drugsCom_raw.zip’\n",
      "\n",
      "drugsCom_raw.zip    100%[===================>]  41.00M  64.0KB/s    in 14m 4s  \n",
      "\n",
      "2022-03-09 15:33:35 (49.7 KB/s) - ‘drugsCom_raw.zip’ saved [42989872/42989872]\n",
      "\n",
      "Archive:  drugsCom_raw.zip\n",
      "  inflating: drugsComTest_raw.tsv    \n",
      "  inflating: drugsComTrain_raw.tsv   \n"
     ]
    }
   ],
   "source": [
    "! wget https://archive.ics.uci.edu/ml/machine-learning-databases/00462/drugsCom_raw.zip\n",
    "! unzip drugsCom_raw.zip"
   ]
  },
  {
   "cell_type": "code",
   "execution_count": 3,
   "metadata": {},
   "outputs": [
    {
     "name": "stdout",
     "output_type": "stream",
     "text": [
      "Found 6 items\r\n",
      "drwxr-xr-x   - ubuntu hadoop          0 2022-02-14 13:31 /user/airbnb\r\n",
      "drwxr-xr-x   - ubuntu hadoop          0 2022-03-09 18:31 /user/drugs\r\n",
      "drwxr-xr-x   - hive   hadoop          0 2022-01-30 14:30 /user/hive\r\n",
      "drwxr-xr-x   - ubuntu hadoop          0 2022-02-07 13:32 /user/spark-example\r\n",
      "drwxr-xr-x   - ubuntu hadoop          0 2022-02-05 09:25 /user/tweets\r\n",
      "drwxr-xr-x   - ubuntu hadoop          0 2022-02-05 08:15 /user/ubuntu\r\n"
     ]
    }
   ],
   "source": [
    "! hdfs dfs -ls /user"
   ]
  },
  {
   "cell_type": "code",
   "execution_count": 12,
   "metadata": {
    "cell_status": {
     "execute_time": {
      "duration": 5219.3681640625,
      "end_time": 1613982512264.579
     }
    }
   },
   "outputs": [
    {
     "name": "stdout",
     "output_type": "stream",
     "text": [
      "Deleted /user/drugs/data\r\n"
     ]
    }
   ],
   "source": [
    "! hdfs dfs -rm -r /user/drugs/data || true\n",
    "! hdfs dfs -mkdir -p /user/drugs/data"
   ]
  },
  {
   "cell_type": "code",
   "execution_count": 4,
   "metadata": {},
   "outputs": [
    {
     "name": "stdout",
     "output_type": "stream",
     "text": [
      "Found 4 items\r\n",
      "drwxr-xr-x   - ubuntu hadoop          0 2022-03-09 16:14 /user/drugs/data\r\n",
      "drwxr-xr-x   - ubuntu hadoop          0 2022-03-09 18:31 /user/drugs/part1.vw\r\n",
      "drwxr-xr-x   - ubuntu hadoop          0 2022-03-09 18:31 /user/drugs/part2.vw\r\n",
      "drwxr-xr-x   - ubuntu hadoop          0 2022-03-09 18:31 /user/drugs/test.vw\r\n"
     ]
    }
   ],
   "source": [
    "! hdfs dfs -ls /user/drugs"
   ]
  },
  {
   "cell_type": "markdown",
   "metadata": {},
   "source": [
    "Выгрузим датасет с препаратами."
   ]
  },
  {
   "cell_type": "code",
   "execution_count": 13,
   "metadata": {
    "cell_status": {
     "execute_time": {
      "duration": 3977.365966796875,
      "end_time": 1613982557665.565
     }
    }
   },
   "outputs": [],
   "source": [
    "%%bash\n",
    "\n",
    "cat drugsComTrain_raw.tsv <(tail -n +2 drugsComTest_raw.tsv) | hdfs dfs -put - /user/drugs/data/drugs.tsv"
   ]
  },
  {
   "cell_type": "code",
   "execution_count": 14,
   "metadata": {
    "cell_status": {
     "execute_time": {
      "duration": 2452.219970703125,
      "end_time": 1613982582184.549
     }
    }
   },
   "outputs": [
    {
     "name": "stdout",
     "output_type": "stream",
     "text": [
      "Found 1 items\r\n",
      "-rw-r--r--   1 ubuntu hadoop    107.2 M 2022-03-09 16:14 /user/drugs/data/drugs.tsv\r\n"
     ]
    }
   ],
   "source": [
    "! hdfs dfs -ls  -h /user/drugs/data"
   ]
  },
  {
   "cell_type": "code",
   "execution_count": null,
   "metadata": {
    "cell_status": {
     "execute_time": {
      "duration": 38.340087890625,
      "end_time": 1613982201031.531
     }
    }
   },
   "outputs": [],
   "source": []
  },
  {
   "cell_type": "code",
   "execution_count": 5,
   "metadata": {},
   "outputs": [],
   "source": [
    "import findspark\n",
    "findspark.init()"
   ]
  },
  {
   "cell_type": "code",
   "execution_count": 6,
   "metadata": {},
   "outputs": [
    {
     "name": "stderr",
     "output_type": "stream",
     "text": [
      "SLF4J: Class path contains multiple SLF4J bindings.\n",
      "SLF4J: Found binding in [jar:file:/usr/lib/spark/jars/slf4j-log4j12-1.7.30.jar!/org/slf4j/impl/StaticLoggerBinder.class]\n",
      "SLF4J: Found binding in [jar:file:/usr/lib/hadoop/lib/slf4j-log4j12-1.7.25.jar!/org/slf4j/impl/StaticLoggerBinder.class]\n",
      "SLF4J: See http://www.slf4j.org/codes.html#multiple_bindings for an explanation.\n",
      "SLF4J: Actual binding is of type [org.slf4j.impl.Log4jLoggerFactory]\n",
      "Setting default log level to \"WARN\".\n",
      "To adjust logging level use sc.setLogLevel(newLevel). For SparkR, use setLogLevel(newLevel).\n",
      "2022-03-10 06:49:32,114 WARN util.Utils: spark.executor.instances less than spark.dynamicAllocation.minExecutors is invalid, ignoring its setting, please update your configs.\n",
      "2022-03-10 06:49:45,779 WARN util.Utils: spark.executor.instances less than spark.dynamicAllocation.minExecutors is invalid, ignoring its setting, please update your configs.\n",
      "2022-03-10 06:49:45,794 WARN cluster.YarnSchedulerBackend$YarnSchedulerEndpoint: Attempted to request executors before the AM has registered!\n"
     ]
    }
   ],
   "source": [
    "import pyspark\n",
    "sc = pyspark.SparkContext(appName=\"lsml-app-1\")"
   ]
  },
  {
   "cell_type": "code",
   "execution_count": 7,
   "metadata": {},
   "outputs": [],
   "source": [
    "from pyspark.sql import SparkSession, Row\n",
    "se = SparkSession(sc)"
   ]
  },
  {
   "cell_type": "code",
   "execution_count": 8,
   "metadata": {
    "cell_status": {
     "execute_time": {
      "duration": 33.364990234375,
      "end_time": 1613986893297.585
     }
    }
   },
   "outputs": [],
   "source": [
    "from pyspark.sql import functions as F\n",
    "from datetime import datetime\n",
    "import re"
   ]
  },
  {
   "cell_type": "code",
   "execution_count": 9,
   "metadata": {
    "cell_status": {
     "execute_time": {
      "duration": 17387.600830078125,
      "end_time": 1613984918317.608
     }
    }
   },
   "outputs": [
    {
     "name": "stderr",
     "output_type": "stream",
     "text": [
      "                                                                                \r"
     ]
    }
   ],
   "source": [
    "data = se.read.option(\"delimiter\", \"\\t\").csv('/user/drugs/data/*', header=True, inferSchema=True)"
   ]
  },
  {
   "cell_type": "code",
   "execution_count": 10,
   "metadata": {
    "cell_status": {
     "execute_time": {
      "duration": 762.689208984375,
      "end_time": 1613984919090.165
     }
    }
   },
   "outputs": [
    {
     "name": "stdout",
     "output_type": "stream",
     "text": [
      "+--------------------+--------------------+--------------------+--------------------+------+-----------------+-----------+\n",
      "|                 _c0|            drugName|           condition|              review|rating|             date|usefulCount|\n",
      "+--------------------+--------------------+--------------------+--------------------+------+-----------------+-----------+\n",
      "|              206461|           Valsartan|Left Ventricular ...|\"\"\"It has no side...|   9.0|     May 20, 2012|         27|\n",
      "|               95260|          Guanfacine|                ADHD|\"\"\"My son is half...|  null|             null|       null|\n",
      "|We have tried man...|                 8.0|      April 27, 2010|                 192|  null|             null|       null|\n",
      "|               92703|              Lybrel|       Birth Control|\"\"\"I used to take...|  null|             null|       null|\n",
      "|The positive side...|                 5.0|   December 14, 2009|                  17|  null|             null|       null|\n",
      "|              138000|          Ortho Evra|       Birth Control|\"\"\"This is my fir...|   8.0| November 3, 2015|         10|\n",
      "|               35696|Buprenorphine / n...|   Opiate Dependence|\"\"\"Suboxone has c...|   9.0|November 27, 2016|         37|\n",
      "|              155963|              Cialis|Benign Prostatic ...|\"\"\"2nd day on 5mg...|   2.0|November 28, 2015|         43|\n",
      "|              165907|      Levonorgestrel|Emergency Contrac...|\"\"\"He pulled out,...|   1.0|    March 7, 2017|          5|\n",
      "|              102654|        Aripiprazole|     Bipolar Disorde|\"\"\"Abilify change...|  10.0|   March 14, 2015|         32|\n",
      "|               74811|              Keppra|            Epilepsy|\"\"\" I Ve had  not...|   1.0|   August 9, 2016|         11|\n",
      "|               48928|Ethinyl estradiol...|       Birth Control|\"\"\"I had been on ...|   8.0| December 8, 2016|          1|\n",
      "|               29607|          Topiramate| Migraine Prevention|\"\"\"I have been on...|   9.0|  January 1, 2015|         19|\n",
      "|               75612|      L-methylfolate|          Depression|\"\"\"I have taken a...|  null|             null|       null|\n",
      "|I only take Cymba...|                null|                null|                null|  null|             null|       null|\n",
      "|When I began Depl...|                10.0|       March 9, 2017|                  54|  null|             null|       null|\n",
      "|              191290|             Pentasa|     Crohn's Disease|\"\"\"I had Crohn&#0...|   4.0|     July 6, 2013|          8|\n",
      "|              221320|    Dextromethorphan|               Cough|\"\"\"Have a little ...|   4.0|September 7, 2017|          1|\n",
      "|               98494|           Nexplanon|       Birth Control|\"\"\"Started Nexpla...|  null|             null|       null|\n",
      "|I&#039;ve never h...|                 3.0|      August 7, 2014|                  10|  null|             null|       null|\n",
      "+--------------------+--------------------+--------------------+--------------------+------+-----------------+-----------+\n",
      "only showing top 20 rows\n",
      "\n"
     ]
    }
   ],
   "source": [
    "data.show()"
   ]
  },
  {
   "cell_type": "markdown",
   "metadata": {},
   "source": [
    "Мы будем запускать 2 воркера. Поэтмоу разделим весь датасет на 3 части - 2 равные для воркером и 1 маленькую часть для теста."
   ]
  },
  {
   "cell_type": "code",
   "execution_count": 11,
   "metadata": {
    "cell_status": {
     "execute_time": {
      "duration": 244.2529296875,
      "end_time": 1613986336547.433
     }
    }
   },
   "outputs": [],
   "source": [
    "part1, part2, test = (\n",
    "    data\n",
    "    .na.drop('any')\n",
    "    .randomSplit([0.45, 0.45, 0.1], 422)\n",
    ")"
   ]
  },
  {
   "cell_type": "markdown",
   "metadata": {},
   "source": [
    "Соберем датасет на спарке"
   ]
  },
  {
   "cell_type": "code",
   "execution_count": 12,
   "metadata": {
    "cell_status": {
     "execute_time": {
      "duration": 31.01318359375,
      "end_time": 1613986336688.383
     }
    }
   },
   "outputs": [],
   "source": [
    "def convert_to_vw(data):\n",
    "    target = data['usefulCount']\n",
    "    \n",
    "    drug_name = data['drugName'].lower().replace(' ', '_')\n",
    "    condition = data['condition'].lower().replace(' ', '_')\n",
    "    \n",
    "    raw_text = data['review'].lower()\n",
    "    word_pattern = re.compile(r\"[a-zA-Z0-9_]+\")\n",
    "    words = [match.group(0) for match in re.finditer(word_pattern, raw_text)]\n",
    "    review = ' '.join(words)\n",
    "    \n",
    "    rating = data['rating']\n",
    "    \n",
    "    weekday = datetime.strptime(data['date'], '%B %d, %Y').weekday()\n",
    "    \n",
    "    template = \"{target} |d {drug_name} |c {condition} |r {review} |w {weekday} |s rating:{rating}\"\n",
    "    return template.format(\n",
    "        target=target,\n",
    "        drug_name=drug_name,\n",
    "        condition=condition,\n",
    "        review=review,\n",
    "        weekday=weekday,\n",
    "        rating=rating\n",
    "    )"
   ]
  },
  {
   "cell_type": "code",
   "execution_count": 13,
   "metadata": {
    "cell_status": {
     "execute_time": {
      "duration": 3050.494873046875,
      "end_time": 1613986378939.938
     }
    }
   },
   "outputs": [
    {
     "name": "stdout",
     "output_type": "stream",
     "text": [
      "Deleted /user/drugs/part1.vw\r\n",
      "Deleted /user/drugs/part2.vw\r\n",
      "Deleted /user/drugs/test.vw\r\n"
     ]
    }
   ],
   "source": [
    "! hdfs dfs -rm -r /user/drugs/*.vw"
   ]
  },
  {
   "cell_type": "code",
   "execution_count": 14,
   "metadata": {
    "cell_status": {
     "execute_time": {
      "duration": 9322.19091796875,
      "end_time": 1613986395951.814
     }
    }
   },
   "outputs": [
    {
     "name": "stderr",
     "output_type": "stream",
     "text": [
      "                                                                                \r"
     ]
    }
   ],
   "source": [
    "part1.rdd.map(convert_to_vw).saveAsTextFile('/user/drugs/part1.vw')\n",
    "part2.rdd.map(convert_to_vw).saveAsTextFile('/user/drugs/part2.vw')\n",
    "test.rdd.map(convert_to_vw).saveAsTextFile('/user/drugs/test.vw')"
   ]
  },
  {
   "cell_type": "code",
   "execution_count": 15,
   "metadata": {
    "cell_status": {
     "execute_time": {
      "duration": 12384.204833984375,
      "end_time": 1613986623135.253
     }
    }
   },
   "outputs": [],
   "source": [
    "\n",
    "! hdfs dfs -cat /user/drugs/part1.vw/* > train.part1.vw\n",
    "! hdfs dfs -cat /user/drugs/part2.vw/* > train.part2.vw\n",
    "! hdfs dfs -cat /user/drugs/test.vw/* > test.vw"
   ]
  },
  {
   "cell_type": "markdown",
   "metadata": {},
   "source": [
    "Посмотрим, какие результаты мы получим, если просто запустим VW на всем файле."
   ]
  },
  {
   "cell_type": "code",
   "execution_count": 16,
   "metadata": {
    "cell_status": {
     "execute_time": {
      "duration": 256.260009765625,
      "end_time": 1613987206894.957
     }
    }
   },
   "outputs": [],
   "source": [
    "! cat train.*.vw > train.full.vw"
   ]
  },
  {
   "cell_type": "code",
   "execution_count": 17,
   "metadata": {
    "cell_status": {
     "execute_time": {
      "duration": 3399.77099609375,
      "end_time": 1613987014763.149
     }
    }
   },
   "outputs": [],
   "source": [
    "import numpy as np\n",
    "from sklearn.metrics import r2_score\n",
    "\n",
    "\n",
    "def calc_r2(predictions_filename, answers_filename):\n",
    "    def read_target_from_vw(vw_record):\n",
    "        return float(vw_record.split(' ')[0])\n",
    "    \n",
    "    with open(predictions_filename, 'r') as f:\n",
    "        y_pred = np.array([float(value) for value in f.readlines()])\n",
    "        \n",
    "    with open(answers_filename, 'r') as f:\n",
    "        y_expected = np.array([read_target_from_vw(value) for value in f.readlines()])\n",
    "        \n",
    "    return r2_score(y_expected, y_pred)"
   ]
  },
  {
   "cell_type": "code",
   "execution_count": null,
   "metadata": {},
   "outputs": [],
   "source": []
  },
  {
   "cell_type": "code",
   "execution_count": 18,
   "metadata": {
    "cell_status": {
     "execute_time": {
      "duration": 201.5390625,
      "end_time": 1613987014977.758
     }
    }
   },
   "outputs": [
    {
     "name": "stdout",
     "output_type": "stream",
     "text": [
      "Num weight bits = 18\r\n",
      "learning rate = 0.5\r\n",
      "initial_t = 0\r\n",
      "power_t = 0.5\r\n",
      "using no cache\r\n",
      "Reading datafile = \r\n",
      "num sources = 1\r\n",
      "driver:\r\n",
      "  --onethread           Disable parse thread\r\n",
      "VW options:\r\n",
      "  --ring_size arg (=256, ) size of example ring\r\n",
      "  --strict_parse           throw on malformed examples\r\n",
      "Update options:\r\n",
      "  -l [ --learning_rate ] arg Set learning rate\r\n",
      "  --power_t arg              t power value\r\n",
      "  --decay_learning_rate arg  Set Decay factor for learning_rate between passes\r\n",
      "  --initial_t arg            initial t value\r\n"
     ]
    }
   ],
   "source": [
    "! vw --help | head"
   ]
  },
  {
   "cell_type": "markdown",
   "metadata": {},
   "source": [
    "Обучаем VW на одном файле целиком"
   ]
  },
  {
   "cell_type": "code",
   "execution_count": 19,
   "metadata": {
    "cell_status": {
     "execute_time": {
      "duration": 38173.47607421875,
      "end_time": 1613989408919.288
     }
    }
   },
   "outputs": [
    {
     "name": "stdout",
     "output_type": "stream",
     "text": [
      "Generating 2-grams for r namespaces.\n",
      "creating features for following interactions: dc \n",
      "final_regressor = drugs.model.bin\n",
      "Num weight bits = 23\n",
      "learning rate = 20\n",
      "initial_t = 0\n",
      "power_t = 0.5\n",
      "decay_learning_rate = 1\n",
      "creating cache_file = train.full.vw.cache\n",
      "Reading datafile = train.full.vw\n",
      "num sources = 1\n",
      "Enabled reductions: gd, scorer\n",
      "average  since         example        example  current  current  current\n",
      "loss     last          counter         weight    label  predict features\n",
      "16.000000 16.000000            1            1.0   4.0000   0.0000      155\n",
      "8.284978 0.569956            2            2.0   1.0000   1.7550      207\n",
      "5.384596 2.484213            4            4.0   0.0000   1.6859      249\n",
      "3.444507 1.504419            8            8.0   1.0000   0.1637       45\n",
      "110.780388 218.116268           16           16.0   3.0000   7.7153      139\n",
      "75.235660 39.690933           32           32.0   2.0000   4.0961      151\n",
      "51.536644 27.837627           64           64.0   2.0000   1.9416       73\n",
      "80.020489 108.504335          128          128.0   3.0000   6.1402      195\n",
      "873.081100 1666.141711          256          256.0   9.0000  14.4029      161\n",
      "1160.002329 1446.923559          512          512.0  79.0000   0.0000      247\n",
      "999.645317 839.288304         1024         1024.0  29.0000  33.4246      117\n",
      "839.118734 678.592150         2048         2048.0   0.0000  22.5671       93\n",
      "1045.837843 1252.556953         4096         4096.0  23.0000  16.7853      305\n",
      "924.149914 802.461985         8192         8192.0   3.0000   0.0000      307\n",
      "1045.836684 1167.523454        16384        16384.0  32.0000  22.8957       79\n",
      "991.280404 936.724125        32768        32768.0  68.0000 127.5900      291\n",
      "913.958523 836.636641        65536        65536.0  18.0000  16.1984      125\n",
      "833.377287 752.796051       131072       131072.0  11.0000  17.9540      297\n",
      "767.057827 767.057827       262144       262144.0  18.0000  22.0474      105 h\n",
      "649.845052 532.632276       524288       524288.0  23.0000  22.3745      233 h\n",
      "547.113472 444.383656      1048576      1048576.0   8.0000   7.8707      207 h\n",
      "487.013218 426.912448      2097152      2097152.0  27.0000  27.9684      173 h\n",
      "\n",
      "finished run\n",
      "number of examples per pass = 153905\n",
      "passes used = 17\n",
      "weighted example sum = 2616385.000000\n",
      "weighted label sum = 74117042.000000\n",
      "average loss = 422.329315 h\n",
      "best constant = 28.328033\n",
      "total feature number = 461006153\n",
      "CPU times: user 419 ms, sys: 79.2 ms, total: 498 ms\n",
      "Wall time: 28.1 s\n"
     ]
    }
   ],
   "source": [
    "%%time\n",
    "\n",
    "! vw --final_regressor drugs.model.bin train.full.vw \\\n",
    "    --onethread \\\n",
    "    --learning_rate 20.0 \\\n",
    "    --bit_precision 23 \\\n",
    "    --passes 40 \\\n",
    "    --ngram r2 \\\n",
    "    --interactions dc \\\n",
    "    --cache -k"
   ]
  },
  {
   "cell_type": "code",
   "execution_count": 20,
   "metadata": {
    "cell_status": {
     "execute_time": {
      "duration": 384.7109375,
      "end_time": 1613989409310.835
     }
    }
   },
   "outputs": [
    {
     "name": "stdout",
     "output_type": "stream",
     "text": [
      "Generating 2-grams for r namespaces.\n",
      "creating features for following interactions: dc \n",
      "only testing\n",
      "predictions = drugs.preductions.txt\n",
      "Num weight bits = 23\n",
      "learning rate = 0.5\n",
      "initial_t = 0\n",
      "power_t = 0.5\n",
      "using no cache\n",
      "Reading datafile = test.vw\n",
      "num sources = 1\n",
      "Enabled reductions: gd, scorer\n",
      "average  since         example        example  current  current  current\n",
      "loss     last          counter         weight    label  predict features\n",
      "0.447677 0.447677            1            1.0   2.0000   2.6691      317\n",
      "2.223839 4.000000            2            2.0   2.0000   0.0000      237\n",
      "4.300955 6.378071            4            4.0  10.0000  11.9381      163\n",
      "25.360267 46.419579            8            8.0   1.0000  14.3987       59\n",
      "17.799924 10.239580           16           16.0   2.0000   9.0071      285\n",
      "24.017554 30.235185           32           32.0   7.0000   3.3096      125\n",
      "158.437527 292.857500           64           64.0  10.0000  44.5076      175\n",
      "336.991100 515.544673          128          128.0  36.0000  58.1014      215\n",
      "267.254932 197.518764          256          256.0  12.0000  15.5234       95\n",
      "229.260331 191.265730          512          512.0   2.0000   0.0000      161\n",
      "417.915709 606.571087         1024         1024.0 101.0000 103.5116      175\n",
      "420.939098 423.962488         2048         2048.0   0.0000   3.6762      191\n",
      "466.031273 511.123448         4096         4096.0  65.0000  51.5437       47\n",
      "515.703584 565.375895         8192         8192.0   7.0000   0.0000      303\n",
      "474.605856 433.508129        16384        16384.0  30.0000  40.9357       33\n",
      "\n",
      "finished run\n",
      "number of examples = 18906\n",
      "weighted example sum = 18906.000000\n",
      "weighted label sum = 535907.000000\n",
      "average loss = 472.151429\n",
      "best constant = 28.345869\n",
      "total feature number = 3339722\n"
     ]
    }
   ],
   "source": [
    "! vw --testonly --initial_regressor drugs.model.bin --predictions drugs.preductions.txt test.vw"
   ]
  },
  {
   "cell_type": "code",
   "execution_count": 21,
   "metadata": {
    "cell_status": {
     "execute_time": {
      "duration": 141.4169921875,
      "end_time": 1613989409456.95
     }
    }
   },
   "outputs": [
    {
     "data": {
      "text/plain": [
       "0.6526252786437012"
      ]
     },
     "execution_count": 21,
     "metadata": {},
     "output_type": "execute_result"
    }
   ],
   "source": [
    "calc_r2('drugs.preductions.txt', 'test.vw')"
   ]
  },
  {
   "cell_type": "markdown",
   "metadata": {},
   "source": [
    "Обучили модель на **0.65** за **30** секунд."
   ]
  },
  {
   "cell_type": "code",
   "execution_count": null,
   "metadata": {},
   "outputs": [],
   "source": []
  },
  {
   "cell_type": "markdown",
   "metadata": {},
   "source": [
    "Посмотрим, что будет если мы обучим модель только на части данных"
   ]
  },
  {
   "cell_type": "code",
   "execution_count": 22,
   "metadata": {
    "cell_status": {
     "execute_time": {
      "duration": 9082.3662109375,
      "end_time": 1613988507257.777
     }
    }
   },
   "outputs": [
    {
     "name": "stdout",
     "output_type": "stream",
     "text": [
      "Generating 2-grams for r namespaces.\n",
      "creating features for following interactions: dc \n",
      "final_regressor = drugs.model.bin\n",
      "Num weight bits = 23\n",
      "learning rate = 20\n",
      "initial_t = 0\n",
      "power_t = 0.5\n",
      "decay_learning_rate = 1\n",
      "creating cache_file = train.part1.vw.cache\n",
      "Reading datafile = train.part1.vw\n",
      "num sources = 1\n",
      "Enabled reductions: gd, scorer\n",
      "average  since         example        example  current  current  current\n",
      "loss     last          counter         weight    label  predict features\n",
      "16.000000 16.000000            1            1.0   4.0000   0.0000      155\n",
      "8.284978 0.569956            2            2.0   1.0000   1.7550      207\n",
      "5.384596 2.484213            4            4.0   0.0000   1.6859      249\n",
      "3.444507 1.504419            8            8.0   1.0000   0.1637       45\n",
      "110.780388 218.116268           16           16.0   3.0000   7.7153      139\n",
      "75.235660 39.690933           32           32.0   2.0000   4.0961      151\n",
      "51.536644 27.837627           64           64.0   2.0000   1.9416       73\n",
      "80.020489 108.504335          128          128.0   3.0000   6.1402      195\n",
      "873.081100 1666.141711          256          256.0   9.0000  14.4029      161\n",
      "1160.002329 1446.923559          512          512.0  79.0000   0.0000      247\n",
      "999.645317 839.288304         1024         1024.0  29.0000  33.4246      117\n",
      "839.118734 678.592150         2048         2048.0   0.0000  22.5671       93\n",
      "1045.837843 1252.556953         4096         4096.0  23.0000  16.7853      305\n",
      "924.149914 802.461985         8192         8192.0   3.0000   0.0000      307\n",
      "1045.836684 1167.523454        16384        16384.0  32.0000  22.8957       79\n",
      "991.280404 936.724125        32768        32768.0  68.0000 127.5900      291\n",
      "913.958523 836.636641        65536        65536.0  18.0000  16.1984      125\n",
      "1037.556544 1037.556544       131072       131072.0  21.0000   0.0000      165 h\n",
      "943.885156 850.207335       262144       262144.0  64.0000  70.6678      233 h\n",
      "931.106259 918.327801       524288       524288.0   2.0000   2.5408       81 h\n",
      "\n",
      "finished run\n",
      "number of examples per pass = 76909\n",
      "passes used = 7\n",
      "weighted example sum = 538363.000000\n",
      "weighted label sum = 15235661.000000\n",
      "average loss = 887.870056 h\n",
      "best constant = 28.299978\n",
      "total feature number = 95024510\n",
      "CPU times: user 109 ms, sys: 19.1 ms, total: 128 ms\n",
      "Wall time: 6.37 s\n"
     ]
    }
   ],
   "source": [
    "%%time\n",
    "\n",
    "! vw --final_regressor drugs.model.bin train.part1.vw \\\n",
    "    --onethread \\\n",
    "    --learning_rate 20.0 \\\n",
    "    --bit_precision 23 \\\n",
    "    --passes 40 \\\n",
    "    --ngram r2 \\\n",
    "    --interactions dc \\\n",
    "    --cache -k"
   ]
  },
  {
   "cell_type": "code",
   "execution_count": 23,
   "metadata": {
    "cell_status": {
     "execute_time": {
      "duration": 381.276123046875,
      "end_time": 1613988507644.468
     }
    }
   },
   "outputs": [
    {
     "name": "stdout",
     "output_type": "stream",
     "text": [
      "Generating 2-grams for r namespaces.\n",
      "creating features for following interactions: dc \n",
      "only testing\n",
      "predictions = drugs.preductions.txt\n",
      "Num weight bits = 23\n",
      "learning rate = 0.5\n",
      "initial_t = 0\n",
      "power_t = 0.5\n",
      "using no cache\n",
      "Reading datafile = test.vw\n",
      "num sources = 1\n",
      "Enabled reductions: gd, scorer\n",
      "average  since         example        example  current  current  current\n",
      "loss     last          counter         weight    label  predict features\n",
      "1054.792969 1054.792969            1            1.0   2.0000  34.4776      317\n",
      "529.396484 4.000000            2            2.0   2.0000   0.0000      237\n",
      "351.250557 173.104630            4            4.0  10.0000  28.3633      163\n",
      "214.487823 77.725090            8            8.0   1.0000  16.5387       59\n",
      "140.830627 67.173430           16           16.0   2.0000  21.5064      285\n",
      "101.366076 61.901526           32           32.0   7.0000   3.7109      125\n",
      "202.674485 303.982894           64           64.0  10.0000  32.8632      175\n",
      "677.614774 1152.555063          128          128.0  36.0000  57.6672      215\n",
      "652.559612 627.504449          256          256.0  12.0000  12.7842       95\n",
      "562.562285 472.564959          512          512.0   2.0000   0.8607      161\n",
      "759.854795 957.147305         1024         1024.0 101.0000 104.1705      175\n",
      "803.473320 847.091844         2048         2048.0   0.0000  16.4304      191\n",
      "835.734412 867.995505         4096         4096.0  65.0000  34.9336       47\n",
      "938.522850 1041.311287         8192         8192.0   7.0000   0.0000      303\n",
      "842.230091 745.937331        16384        16384.0  30.0000  44.1338       33\n",
      "\n",
      "finished run\n",
      "number of examples = 18906\n",
      "weighted example sum = 18906.000000\n",
      "weighted label sum = 535907.000000\n",
      "average loss = 840.278802\n",
      "best constant = 28.345869\n",
      "total feature number = 3339722\n"
     ]
    }
   ],
   "source": [
    "! vw --testonly --initial_regressor drugs.model.bin --predictions drugs.preductions.txt test.vw"
   ]
  },
  {
   "cell_type": "code",
   "execution_count": 24,
   "metadata": {
    "cell_status": {
     "execute_time": {
      "duration": 132.541015625,
      "end_time": 1613988507782.773
     }
    }
   },
   "outputs": [
    {
     "data": {
      "text/plain": [
       "0.38178390321607647"
      ]
     },
     "execution_count": 24,
     "metadata": {},
     "output_type": "execute_result"
    }
   ],
   "source": [
    "\n",
    "calc_r2('drugs.preductions.txt', 'test.vw')"
   ]
  },
  {
   "cell_type": "markdown",
   "metadata": {},
   "source": [
    "Гораздо быстрее обучились, но потеряли в качестве. \n",
    "\n",
    "Модель на **0.38** за **6** секунд\n",
    "\n",
    "**Мораль** - семплирование не самых удачный подход, чтобы получать качество, нужно засовывать в модель вообще все данные."
   ]
  },
  {
   "cell_type": "markdown",
   "metadata": {},
   "source": [
    "Запустим в фоновом режиме `spanning_tree` и проверим что он правда работает.\n",
    "\n",
    "Далее воркеры будут подключаться к нему по tcp."
   ]
  },
  {
   "cell_type": "code",
   "execution_count": 25,
   "metadata": {
    "cell_status": {
     "execute_time": {
      "duration": 14.64794921875,
      "end_time": 1613987732434.034
     }
    }
   },
   "outputs": [],
   "source": [
    "%%bash --bg --out OUT --err ERR\n",
    "spanning_tree --nondaemon"
   ]
  },
  {
   "cell_type": "code",
   "execution_count": 26,
   "metadata": {
    "cell_status": {
     "execute_time": {
      "duration": 201.56298828125,
      "end_time": 1613988532226.307
     }
    }
   },
   "outputs": [
    {
     "name": "stdout",
     "output_type": "stream",
     "text": [
      "ubuntu      6123  0.0  0.0   6068  1636 ?        S    06:54   0:00 spanning_tree --nondaemon\r\n",
      "ubuntu      6130  0.0  0.0   9492  3248 pts/0    Ss+  06:55   0:00 /bin/bash -c  ps aux | grep spanning_tree\r\n",
      "ubuntu      6132  0.0  0.0   9032   656 pts/0    S+   06:55   0:00 grep spanning_tree\r\n"
     ]
    }
   ],
   "source": [
    "! ps aux | grep spanning_tree"
   ]
  },
  {
   "cell_type": "markdown",
   "metadata": {},
   "source": [
    "Пора запускать рабочих. Для этого используется уже известная команда vw, в которую просто добавляются специальные параметры\n",
    "\n",
    "* `--span_server` - указываем адрес, где находится менеджер (spanning_tree). В нашем случае это localhost. В реальной жизни там мог бы быть IP адрес другой машины\n",
    "* `--unique_id` - так как один spanning_tree может обрабатывать сразу много различных процессов обучения, то необходимо их как-то разграничить. Для этого используется unique_id - это число, которое должно быть одинаковым для всех ваших рабочих, чтобы их не перепутали с другими. Например ваш коллега также обучает VW но для другой задачи - он может подключить свои VW к этому же spanning_tree указав для них unique_id = 0. В таком случае вам, чтобы подключиться, нужно запускать свои рабочие например с unique_id = 5, чтобы они не смешались с рабочими вашего коллеги.\n",
    "* `--total` - число рабочих, которое вы планируете подключить в текущей сессии обучения\n",
    "--node - идентификатор текущего рабочего. Нумерация начинается с нуля, поэтому если вы хотите запустить 3 рабочих, то им нужно выдать значения для --node 0, 1 и 2.\n",
    "* `-d` - данные для обработки для текущего рабочего\n",
    "Все остальные параметры обучения должны быть одинаковыми для всех рабочих.\n",
    "\n",
    "Чтобы сохранить коэффициенты полученной модели, необходимо для какого-то одного рабочего указать через `-f` или `--final_regressor` файл, куда записать результат. Точно также, как мы это делали в предыдущей лабораторной.\n",
    "\n",
    "Запустим двух рабочих. Первого запустим также в фоне, а вот второй запустим прямо в ноутбуке и будем следить за процессом обучения."
   ]
  },
  {
   "cell_type": "code",
   "execution_count": 27,
   "metadata": {
    "cell_status": {
     "execute_time": {
      "duration": 13.574951171875,
      "end_time": 1613990892362.47
     }
    }
   },
   "outputs": [],
   "source": [
    "%%bash --bg --out OUT --err ERR\n",
    "\n",
    "vw -d train.part1.vw \\\n",
    "    --span_server localhost \\\n",
    "    --total 2 \\\n",
    "    --node 0 \\\n",
    "    --unique_id 1 \\\n",
    "    --learning_rate 20.0 \\\n",
    "    --bit_precision 23 \\\n",
    "    --passes 40 \\\n",
    "    --ngram r2 \\\n",
    "    --interactions dc \\\n",
    "    --cache -k"
   ]
  },
  {
   "cell_type": "code",
   "execution_count": 28,
   "metadata": {
    "cell_status": {
     "execute_time": {
      "duration": 238.797119140625,
      "end_time": 1613990892776.134
     }
    }
   },
   "outputs": [
    {
     "name": "stdout",
     "output_type": "stream",
     "text": [
      "ubuntu      6185 81.5  2.2 255612 180984 ?       Sl   06:57   0:01 vw -d train.part1.vw --span_server localhost --total 2 --node 0 --unique_id 1 --learning_rate 20.0 --bit_precision 23 --passes 40 --ngram r2 --interactions dc --cache -k\r\n",
      "ubuntu      6187  0.0  0.0   9492  3252 pts/0    Ss+  06:57   0:00 /bin/bash -c  ps aux | grep vw\r\n",
      "ubuntu      6189  0.0  0.0   8900   728 pts/0    S+   06:57   0:00 grep vw\r\n"
     ]
    }
   ],
   "source": [
    "! ps aux | grep vw"
   ]
  },
  {
   "cell_type": "code",
   "execution_count": 29,
   "metadata": {
    "cell_status": {
     "execute_time": {
      "duration": 36841.71484375,
      "end_time": 1613990929623.276
     }
    }
   },
   "outputs": [
    {
     "name": "stdout",
     "output_type": "stream",
     "text": [
      "Generating 2-grams for r namespaces.\n",
      "creating features for following interactions: dc \n",
      "final_regressor = drugs.model.bin\n",
      "Num weight bits = 23\n",
      "learning rate = 20\n",
      "initial_t = 0\n",
      "power_t = 0.5\n",
      "decay_learning_rate = 1\n",
      "creating cache_file = train.part2.vw.cache\n",
      "Reading datafile = train.part2.vw\n",
      "num sources = 1\n",
      "Enabled reductions: gd, scorer\n",
      "average  since         example        example  current  current  current\n",
      "loss     last          counter         weight    label  predict features\n",
      "4.000000 4.000000            1            1.0   2.0000   0.0000      207\n",
      "9.166723 14.333446            2            2.0   4.0000   0.2140       61\n",
      "42.704962 76.243202            4            4.0   0.0000   6.1127      235\n",
      "53.751544 64.798126            8            8.0  18.0000   2.1770      203\n",
      "53.708574 53.665604           16           16.0  24.0000   6.9774      155\n",
      "40.367511 27.026447           32           32.0   3.0000   6.5818      273\n",
      "45.832557 51.297603           64           64.0   2.0000   8.2354      245\n",
      "109.074974 172.317392          128          128.0  24.0000  16.8396      213\n",
      "673.354866 1237.634757          256          256.0  76.0000  14.3099      279\n",
      "1015.136478 1356.918090          512          512.0  23.0000  39.7633      201\n",
      "911.819452 808.502427         1024         1024.0  65.0000  15.4694       83\n",
      "642.289911 372.760370         2048         2048.0   6.0000   0.0000      291\n",
      "821.871644 1001.453378         4096         4096.0  25.0000  37.0418      301\n",
      "1133.981974 1446.092304         8192         8192.0   6.0000   4.2844      311\n",
      "1040.096814 946.211655        16384        16384.0  21.0000  27.3926      277\n",
      "994.843446 949.590078        32768        32768.0  33.0000  43.9167       43\n",
      "912.797242 830.751038        65536        65536.0  28.0000  21.0527       15\n",
      "connecting to 127.0.0.1 = localhost:26543\n",
      "wrote unique_id=1\n",
      "wrote total=2\n",
      "wrote node=1\n",
      "read ok=1\n",
      "read kid_count=1\n",
      "read parent_ip=255.255.255.255\n",
      "read parent_port=65535\n",
      "912.170144 912.170144       131072       131072.0  11.0000  13.0508      137 h\n",
      "799.834497 687.498849       262144       262144.0   9.0000  10.3241      145 h\n",
      "675.028637 550.227062       524288       524288.0   7.0000   6.3030      195 h\n",
      "606.715241 538.401845      1048576      1048576.0  29.0000  31.0512      301 h\n",
      "\n",
      "finished run\n",
      "number of examples per pass = 153905\n",
      "passes used = 23\n",
      "weighted example sum = 3539815.000000\n",
      "weighted label sum = 100209848.000000\n",
      "average loss = 1115.867188 h\n",
      "best constant = 28.309345\n",
      "total feature number = 623893120\n",
      "CPU times: user 759 ms, sys: 110 ms, total: 869 ms\n",
      "Wall time: 50 s\n"
     ]
    }
   ],
   "source": [
    "%%time\n",
    "\n",
    "! vw -d train.part2.vw \\\n",
    "    --span_server localhost \\\n",
    "    --total 2 \\\n",
    "    --node 1 \\\n",
    "    --unique_id 1 \\\n",
    "    --learning_rate 20.0 \\\n",
    "    --bit_precision 23 \\\n",
    "    --passes 40 \\\n",
    "    --ngram r2 \\\n",
    "    --interactions dc \\\n",
    "    --cache -k \\\n",
    "    -f drugs.model.bin"
   ]
  },
  {
   "cell_type": "code",
   "execution_count": 30,
   "metadata": {
    "cell_status": {
     "execute_time": {
      "duration": 385.595947265625,
      "end_time": 1613990930014.148
     }
    }
   },
   "outputs": [
    {
     "name": "stdout",
     "output_type": "stream",
     "text": [
      "Generating 2-grams for r namespaces.\n",
      "creating features for following interactions: dc \n",
      "only testing\n",
      "predictions = drugs.preductions.txt\n",
      "Num weight bits = 23\n",
      "learning rate = 0.5\n",
      "initial_t = 0\n",
      "power_t = 0.5\n",
      "using no cache\n",
      "Reading datafile = test.vw\n",
      "num sources = 1\n",
      "Enabled reductions: gd, scorer\n",
      "average  since         example        example  current  current  current\n",
      "loss     last          counter         weight    label  predict features\n",
      "2.849555 2.849555            1            1.0   2.0000   3.6881      317\n",
      "3.424778 4.000000            2            2.0   2.0000   0.0000      237\n",
      "6.356657 9.288537            4            4.0  10.0000  13.0947      163\n",
      "34.073244 61.789832            8            8.0   1.0000  16.2863       59\n",
      "32.563332 31.053420           16           16.0   2.0000  16.5415      285\n",
      "31.656058 30.748784           32           32.0   7.0000   3.2724      125\n",
      "82.980499 134.304941           64           64.0  10.0000  43.8365      175\n",
      "333.861668 584.742837          128          128.0  36.0000  33.4536      215\n",
      "251.625093 169.388518          256          256.0  12.0000  17.0271       95\n",
      "207.968365 164.311637          512          512.0   2.0000   0.0000      161\n",
      "426.491306 645.014246         1024         1024.0 101.0000 106.3550      175\n",
      "436.934750 447.378194         2048         2048.0   0.0000   6.0057      191\n",
      "479.735384 522.536018         4096         4096.0  65.0000  49.4455       47\n",
      "522.162819 564.590255         8192         8192.0   7.0000   0.0000      303\n",
      "483.762786 445.362753        16384        16384.0  30.0000  39.8361       33\n",
      "\n",
      "finished run\n",
      "number of examples = 18906\n",
      "weighted example sum = 18906.000000\n",
      "weighted label sum = 535907.000000\n",
      "average loss = 476.209406\n",
      "best constant = 28.345869\n",
      "total feature number = 3339722\n"
     ]
    }
   ],
   "source": [
    "! vw --testonly --initial_regressor drugs.model.bin --predictions drugs.preductions.txt test.vw"
   ]
  },
  {
   "cell_type": "code",
   "execution_count": 31,
   "metadata": {
    "cell_status": {
     "execute_time": {
      "duration": 134.175048828125,
      "end_time": 1613990930153.721
     }
    }
   },
   "outputs": [
    {
     "data": {
      "text/plain": [
       "0.6496397151076883"
      ]
     },
     "execution_count": 31,
     "metadata": {},
     "output_type": "execute_result"
    }
   ],
   "source": [
    "calc_r2('drugs.preductions.txt', 'test.vw')"
   ]
  },
  {
   "cell_type": "markdown",
   "metadata": {},
   "source": [
    "Качество получилось даже немного больше, чем при одиночном запуске.\n",
    "\n",
    "Сильного ускорения по времени мы не увидели, потому что мы все это запускаем на одной машине. Однако если запускать эти воркеры на разных машинах и на больших объемах данных, то можно увидеть сильное ускорение процесса обучения.\n",
    "\n",
    "И основное достижение этого алгоритма - теперь мы можем размещать данные по нескольким машинам, что позволяет нам теоретически обработать датасет произвольного размера."
   ]
  },
  {
   "cell_type": "code",
   "execution_count": null,
   "metadata": {},
   "outputs": [],
   "source": []
  },
  {
   "cell_type": "markdown",
   "metadata": {},
   "source": [
    "### VW на Hadoop\n",
    "\n",
    "VW достаточно несложно запустить в виде обычной MapReduce задачи. Для этого даже есть готовый скрипт, который написан авторами инструмента. \n",
    "\n",
    "Почитать про то, как запускать этот инструмент на Hadoop можно вот здесь - https://github.com/VowpalWabbit/vowpal_wabbit/tree/master/cluster .\n",
    "\n",
    "Мы же с вами более внимательно рассмотрим более удобный интерфейс для распределенного обучения VW на кластере."
   ]
  },
  {
   "cell_type": "markdown",
   "metadata": {
    "collapsed": true
   },
   "source": [
    "### MMLSpark\n",
    "\n",
    "Существует целый набор библиотек для Spark от Microsoft, который позволяет удобно и быстро запускать распределенные алгоритмы на кластере Spark. Про все возможности можно почитать на официальном GitHub - https://github.com/Azure/mmlspark .\n",
    "\n",
    "Мы с вами воспользуемся двумя инструментами оттуда - VW и LightGBM (градиентный бустинг).\n",
    "\n",
    "\n",
    "Чтобы поставить mmlspark в окружение с lyvi (это окржуение присутствует в кластере azure), достаточно просто переконфигурировать сессию спарка."
   ]
  },
  {
   "cell_type": "code",
   "execution_count": null,
   "metadata": {},
   "outputs": [],
   "source": [
    "! cd /home/ubuntu/.ivy2/jars && \\\n",
    "    cp io.netty_netty-transport-native-epoll-4.1.68.Final-linux-x86_64.jar io.netty_netty-transport-native-epoll-4.1.68.Final.jar && \\\n",
    "    cp io.netty_netty-transport-native-kqueue-4.1.68.Final-osx-x86_64.jar io.netty_netty-transport-native-kqueue-4.1.68.Final.jar && \\\n",
    "    cp io.netty_netty-resolver-dns-native-macos-4.1.68.Final-osx-x86_64.jar io.netty_netty-resolver-dns-native-macos-4.1.68.Final.jar"
   ]
  },
  {
   "cell_type": "code",
   "execution_count": 1,
   "metadata": {},
   "outputs": [],
   "source": [
    "import findspark\n",
    "findspark.init()"
   ]
  },
  {
   "cell_type": "code",
   "execution_count": 2,
   "metadata": {},
   "outputs": [
    {
     "name": "stderr",
     "output_type": "stream",
     "text": [
      "SLF4J: Class path contains multiple SLF4J bindings.\n",
      "SLF4J: Found binding in [jar:file:/usr/lib/spark/jars/slf4j-log4j12-1.7.30.jar!/org/slf4j/impl/StaticLoggerBinder.class]\n",
      "SLF4J: Found binding in [jar:file:/usr/lib/hadoop/lib/slf4j-log4j12-1.7.25.jar!/org/slf4j/impl/StaticLoggerBinder.class]\n",
      "SLF4J: See http://www.slf4j.org/codes.html#multiple_bindings for an explanation.\n",
      "SLF4J: Actual binding is of type [org.slf4j.impl.Log4jLoggerFactory]\n",
      "Ivy Default Cache set to: /home/ubuntu/.ivy2/cache\n",
      "The jars for the packages stored in: /home/ubuntu/.ivy2/jars\n",
      ":: loading settings :: url = jar:file:/usr/lib/spark/jars/ivy-2.4.0.jar!/org/apache/ivy/core/settings/ivysettings.xml\n",
      "com.microsoft.azure#synapseml_2.12 added as a dependency\n",
      ":: resolving dependencies :: org.apache.spark#spark-submit-parent-0193688d-5cd9-4d14-9cad-50511bd430f9;1.0\n",
      "\tconfs: [default]\n",
      "\tfound com.microsoft.azure#synapseml_2.12;0.9.5 in central\n",
      "\tfound com.microsoft.azure#synapseml-core_2.12;0.9.5 in central\n",
      "\tfound org.scalactic#scalactic_2.12;3.0.5 in central\n",
      "\tfound org.scala-lang#scala-reflect;2.12.4 in central\n",
      "\tfound io.spray#spray-json_2.12;1.3.2 in central\n",
      "\tfound com.jcraft#jsch;0.1.54 in central\n",
      "\tfound org.apache.httpcomponents#httpclient;4.5.6 in central\n",
      "\tfound org.apache.httpcomponents#httpcore;4.4.10 in central\n",
      "\tfound commons-logging#commons-logging;1.2 in central\n",
      "\tfound commons-codec#commons-codec;1.10 in central\n",
      "\tfound org.apache.httpcomponents#httpmime;4.5.6 in central\n",
      "\tfound com.linkedin.isolation-forest#isolation-forest_3.2.0_2.12;2.0.8 in central\n",
      "\tfound com.chuusai#shapeless_2.12;2.3.2 in central\n",
      "\tfound org.typelevel#macro-compat_2.12;1.1.1 in central\n",
      "\tfound org.apache.spark#spark-avro_2.12;3.2.0 in central\n",
      "\tfound org.tukaani#xz;1.8 in central\n",
      "\tfound org.spark-project.spark#unused;1.0.0 in central\n",
      "\tfound org.testng#testng;6.8.8 in central\n",
      "\tfound org.beanshell#bsh;2.0b4 in central\n",
      "\tfound com.beust#jcommander;1.27 in central\n",
      "\tfound com.microsoft.azure#synapseml-deep-learning_2.12;0.9.5 in central\n",
      "\tfound com.microsoft.azure#synapseml-opencv_2.12;0.9.5 in central\n",
      "\tfound org.openpnp#opencv;3.2.0-1 in central\n",
      "\tfound com.microsoft.cntk#cntk;2.4 in central\n",
      "\tfound com.microsoft.onnxruntime#onnxruntime_gpu;1.8.1 in central\n",
      "\tfound com.microsoft.azure#synapseml-cognitive_2.12;0.9.5 in central\n",
      "\tfound com.microsoft.cognitiveservices.speech#client-jar-sdk;1.14.0 in central\n",
      "\tfound com.azure#azure-storage-blob;12.14.2 in central\n",
      "\tfound com.azure#azure-core;1.22.0 in central\n",
      "\tfound com.fasterxml.jackson.core#jackson-annotations;2.12.5 in central\n",
      "\tfound com.fasterxml.jackson.core#jackson-core;2.12.5 in central\n",
      "\tfound com.fasterxml.jackson.core#jackson-databind;2.12.5 in central\n",
      "\tfound com.fasterxml.jackson.datatype#jackson-datatype-jsr310;2.12.5 in central\n",
      "\tfound com.fasterxml.jackson.dataformat#jackson-dataformat-xml;2.12.5 in central\n",
      "\tfound com.fasterxml.jackson.module#jackson-module-jaxb-annotations;2.12.5 in central\n",
      "\tfound jakarta.xml.bind#jakarta.xml.bind-api;2.3.2 in central\n",
      "\tfound jakarta.activation#jakarta.activation-api;1.2.1 in central\n",
      "\tfound org.codehaus.woodstox#stax2-api;4.2.1 in central\n",
      "\tfound com.fasterxml.woodstox#woodstox-core;6.2.4 in central\n",
      "\tfound org.slf4j#slf4j-api;1.7.32 in central\n",
      "\tfound io.projectreactor#reactor-core;3.4.10 in central\n",
      "\tfound org.reactivestreams#reactive-streams;1.0.3 in central\n",
      "\tfound io.netty#netty-tcnative-boringssl-static;2.0.43.Final in central\n",
      "\tfound com.azure#azure-core-http-netty;1.11.2 in central\n",
      "\tfound io.netty#netty-handler;4.1.68.Final in central\n",
      "\tfound io.netty#netty-common;4.1.68.Final in central\n",
      "\tfound io.netty#netty-resolver;4.1.68.Final in central\n",
      "\tfound io.netty#netty-buffer;4.1.68.Final in central\n",
      "\tfound io.netty#netty-transport;4.1.68.Final in central\n",
      "\tfound io.netty#netty-codec;4.1.68.Final in central\n",
      "\tfound io.netty#netty-handler-proxy;4.1.68.Final in central\n",
      "\tfound io.netty#netty-codec-socks;4.1.68.Final in central\n",
      "\tfound io.netty#netty-codec-http;4.1.68.Final in central\n",
      "\tfound io.netty#netty-codec-http2;4.1.68.Final in central\n",
      "\tfound io.netty#netty-transport-native-unix-common;4.1.68.Final in central\n",
      "\tfound io.netty#netty-transport-native-epoll;4.1.68.Final in central\n",
      "\tfound io.netty#netty-transport-native-kqueue;4.1.68.Final in central\n",
      "\tfound io.projectreactor.netty#reactor-netty-http;1.0.11 in central\n",
      "\tfound io.netty#netty-resolver-dns;4.1.68.Final in central\n",
      "\tfound io.netty#netty-codec-dns;4.1.68.Final in central\n",
      "\tfound io.netty#netty-resolver-dns-native-macos;4.1.68.Final in central\n",
      "\tfound io.projectreactor.netty#reactor-netty-core;1.0.11 in central\n",
      "\tfound com.azure#azure-storage-common;12.14.1 in central\n",
      "\tfound com.azure#azure-storage-internal-avro;12.1.2 in central\n",
      "\tfound com.azure#azure-ai-textanalytics;5.1.4 in central\n",
      "\tfound com.microsoft.azure#synapseml-vw_2.12;0.9.5 in central\n",
      "\tfound com.github.vowpalwabbit#vw-jni;8.9.1 in central\n",
      "\tfound com.microsoft.azure#synapseml-lightgbm_2.12;0.9.5 in central\n",
      "\tfound com.microsoft.ml.lightgbm#lightgbmlib;3.2.110 in central\n",
      ":: resolution report :: resolve 2331ms :: artifacts dl 117ms\n",
      "\t:: modules in use:\n",
      "\tcom.azure#azure-ai-textanalytics;5.1.4 from central in [default]\n",
      "\tcom.azure#azure-core;1.22.0 from central in [default]\n",
      "\tcom.azure#azure-core-http-netty;1.11.2 from central in [default]\n",
      "\tcom.azure#azure-storage-blob;12.14.2 from central in [default]\n",
      "\tcom.azure#azure-storage-common;12.14.1 from central in [default]\n",
      "\tcom.azure#azure-storage-internal-avro;12.1.2 from central in [default]\n",
      "\tcom.beust#jcommander;1.27 from central in [default]\n",
      "\tcom.chuusai#shapeless_2.12;2.3.2 from central in [default]\n",
      "\tcom.fasterxml.jackson.core#jackson-annotations;2.12.5 from central in [default]\n",
      "\tcom.fasterxml.jackson.core#jackson-core;2.12.5 from central in [default]\n",
      "\tcom.fasterxml.jackson.core#jackson-databind;2.12.5 from central in [default]\n",
      "\tcom.fasterxml.jackson.dataformat#jackson-dataformat-xml;2.12.5 from central in [default]\n",
      "\tcom.fasterxml.jackson.datatype#jackson-datatype-jsr310;2.12.5 from central in [default]\n",
      "\tcom.fasterxml.jackson.module#jackson-module-jaxb-annotations;2.12.5 from central in [default]\n",
      "\tcom.fasterxml.woodstox#woodstox-core;6.2.4 from central in [default]\n",
      "\tcom.github.vowpalwabbit#vw-jni;8.9.1 from central in [default]\n",
      "\tcom.jcraft#jsch;0.1.54 from central in [default]\n",
      "\tcom.linkedin.isolation-forest#isolation-forest_3.2.0_2.12;2.0.8 from central in [default]\n",
      "\tcom.microsoft.azure#synapseml-cognitive_2.12;0.9.5 from central in [default]\n",
      "\tcom.microsoft.azure#synapseml-core_2.12;0.9.5 from central in [default]\n",
      "\tcom.microsoft.azure#synapseml-deep-learning_2.12;0.9.5 from central in [default]\n",
      "\tcom.microsoft.azure#synapseml-lightgbm_2.12;0.9.5 from central in [default]\n",
      "\tcom.microsoft.azure#synapseml-opencv_2.12;0.9.5 from central in [default]\n",
      "\tcom.microsoft.azure#synapseml-vw_2.12;0.9.5 from central in [default]\n",
      "\tcom.microsoft.azure#synapseml_2.12;0.9.5 from central in [default]\n",
      "\tcom.microsoft.cntk#cntk;2.4 from central in [default]\n",
      "\tcom.microsoft.cognitiveservices.speech#client-jar-sdk;1.14.0 from central in [default]\n",
      "\tcom.microsoft.ml.lightgbm#lightgbmlib;3.2.110 from central in [default]\n",
      "\tcom.microsoft.onnxruntime#onnxruntime_gpu;1.8.1 from central in [default]\n",
      "\tcommons-codec#commons-codec;1.10 from central in [default]\n",
      "\tcommons-logging#commons-logging;1.2 from central in [default]\n",
      "\tio.netty#netty-buffer;4.1.68.Final from central in [default]\n",
      "\tio.netty#netty-codec;4.1.68.Final from central in [default]\n",
      "\tio.netty#netty-codec-dns;4.1.68.Final from central in [default]\n",
      "\tio.netty#netty-codec-http;4.1.68.Final from central in [default]\n",
      "\tio.netty#netty-codec-http2;4.1.68.Final from central in [default]\n",
      "\tio.netty#netty-codec-socks;4.1.68.Final from central in [default]\n",
      "\tio.netty#netty-common;4.1.68.Final from central in [default]\n",
      "\tio.netty#netty-handler;4.1.68.Final from central in [default]\n",
      "\tio.netty#netty-handler-proxy;4.1.68.Final from central in [default]\n",
      "\tio.netty#netty-resolver;4.1.68.Final from central in [default]\n",
      "\tio.netty#netty-resolver-dns;4.1.68.Final from central in [default]\n",
      "\tio.netty#netty-resolver-dns-native-macos;4.1.68.Final from central in [default]\n",
      "\tio.netty#netty-tcnative-boringssl-static;2.0.43.Final from central in [default]\n",
      "\tio.netty#netty-transport;4.1.68.Final from central in [default]\n",
      "\tio.netty#netty-transport-native-epoll;4.1.68.Final from central in [default]\n",
      "\tio.netty#netty-transport-native-kqueue;4.1.68.Final from central in [default]\n",
      "\tio.netty#netty-transport-native-unix-common;4.1.68.Final from central in [default]\n",
      "\tio.projectreactor#reactor-core;3.4.10 from central in [default]\n",
      "\tio.projectreactor.netty#reactor-netty-core;1.0.11 from central in [default]\n",
      "\tio.projectreactor.netty#reactor-netty-http;1.0.11 from central in [default]\n",
      "\tio.spray#spray-json_2.12;1.3.2 from central in [default]\n",
      "\tjakarta.activation#jakarta.activation-api;1.2.1 from central in [default]\n",
      "\tjakarta.xml.bind#jakarta.xml.bind-api;2.3.2 from central in [default]\n",
      "\torg.apache.httpcomponents#httpclient;4.5.6 from central in [default]\n",
      "\torg.apache.httpcomponents#httpcore;4.4.10 from central in [default]\n",
      "\torg.apache.httpcomponents#httpmime;4.5.6 from central in [default]\n",
      "\torg.apache.spark#spark-avro_2.12;3.2.0 from central in [default]\n",
      "\torg.beanshell#bsh;2.0b4 from central in [default]\n",
      "\torg.codehaus.woodstox#stax2-api;4.2.1 from central in [default]\n",
      "\torg.openpnp#opencv;3.2.0-1 from central in [default]\n",
      "\torg.reactivestreams#reactive-streams;1.0.3 from central in [default]\n",
      "\torg.scala-lang#scala-reflect;2.12.4 from central in [default]\n",
      "\torg.scalactic#scalactic_2.12;3.0.5 from central in [default]\n",
      "\torg.slf4j#slf4j-api;1.7.32 from central in [default]\n",
      "\torg.spark-project.spark#unused;1.0.0 from central in [default]\n",
      "\torg.testng#testng;6.8.8 from central in [default]\n",
      "\torg.tukaani#xz;1.8 from central in [default]\n",
      "\torg.typelevel#macro-compat_2.12;1.1.1 from central in [default]\n",
      "\t---------------------------------------------------------------------\n",
      "\t|                  |            modules            ||   artifacts   |\n",
      "\t|       conf       | number| search|dwnlded|evicted|| number|dwnlded|\n",
      "\t---------------------------------------------------------------------\n",
      "\t|      default     |   69  |   0   |   0   |   0   ||   69  |   0   |\n",
      "\t---------------------------------------------------------------------\n",
      ":: retrieving :: org.apache.spark#spark-submit-parent-0193688d-5cd9-4d14-9cad-50511bd430f9\n",
      "\tconfs: [default]\n",
      "\t0 artifacts copied, 69 already retrieved (0kB/41ms)\n",
      "Setting default log level to \"WARN\".\n",
      "To adjust logging level use sc.setLogLevel(newLevel). For SparkR, use setLogLevel(newLevel).\n",
      "2022-03-10 07:05:08,935 WARN yarn.Client: Same path resource file:///home/ubuntu/.ivy2/jars/com.microsoft.azure_synapseml_2.12-0.9.5.jar added multiple times to distributed cache.\n",
      "2022-03-10 07:05:08,935 WARN yarn.Client: Same path resource file:///home/ubuntu/.ivy2/jars/com.microsoft.azure_synapseml-core_2.12-0.9.5.jar added multiple times to distributed cache.\n",
      "2022-03-10 07:05:08,935 WARN yarn.Client: Same path resource file:///home/ubuntu/.ivy2/jars/com.microsoft.azure_synapseml-deep-learning_2.12-0.9.5.jar added multiple times to distributed cache.\n",
      "2022-03-10 07:05:08,935 WARN yarn.Client: Same path resource file:///home/ubuntu/.ivy2/jars/com.microsoft.azure_synapseml-cognitive_2.12-0.9.5.jar added multiple times to distributed cache.\n",
      "2022-03-10 07:05:08,935 WARN yarn.Client: Same path resource file:///home/ubuntu/.ivy2/jars/com.microsoft.azure_synapseml-vw_2.12-0.9.5.jar added multiple times to distributed cache.\n",
      "2022-03-10 07:05:08,935 WARN yarn.Client: Same path resource file:///home/ubuntu/.ivy2/jars/com.microsoft.azure_synapseml-lightgbm_2.12-0.9.5.jar added multiple times to distributed cache.\n",
      "2022-03-10 07:05:08,935 WARN yarn.Client: Same path resource file:///home/ubuntu/.ivy2/jars/com.microsoft.azure_synapseml-opencv_2.12-0.9.5.jar added multiple times to distributed cache.\n",
      "2022-03-10 07:05:08,935 WARN yarn.Client: Same path resource file:///home/ubuntu/.ivy2/jars/org.scalactic_scalactic_2.12-3.0.5.jar added multiple times to distributed cache.\n",
      "2022-03-10 07:05:08,935 WARN yarn.Client: Same path resource file:///home/ubuntu/.ivy2/jars/io.spray_spray-json_2.12-1.3.2.jar added multiple times to distributed cache.\n",
      "2022-03-10 07:05:08,935 WARN yarn.Client: Same path resource file:///home/ubuntu/.ivy2/jars/com.jcraft_jsch-0.1.54.jar added multiple times to distributed cache.\n",
      "2022-03-10 07:05:08,936 WARN yarn.Client: Same path resource file:///home/ubuntu/.ivy2/jars/org.apache.httpcomponents_httpclient-4.5.6.jar added multiple times to distributed cache.\n",
      "2022-03-10 07:05:08,936 WARN yarn.Client: Same path resource file:///home/ubuntu/.ivy2/jars/org.apache.httpcomponents_httpmime-4.5.6.jar added multiple times to distributed cache.\n",
      "2022-03-10 07:05:08,936 WARN yarn.Client: Same path resource file:///home/ubuntu/.ivy2/jars/com.linkedin.isolation-forest_isolation-forest_3.2.0_2.12-2.0.8.jar added multiple times to distributed cache.\n",
      "2022-03-10 07:05:08,936 WARN yarn.Client: Same path resource file:///home/ubuntu/.ivy2/jars/org.scala-lang_scala-reflect-2.12.4.jar added multiple times to distributed cache.\n",
      "2022-03-10 07:05:08,936 WARN yarn.Client: Same path resource file:///home/ubuntu/.ivy2/jars/org.apache.httpcomponents_httpcore-4.4.10.jar added multiple times to distributed cache.\n",
      "2022-03-10 07:05:08,936 WARN yarn.Client: Same path resource file:///home/ubuntu/.ivy2/jars/commons-logging_commons-logging-1.2.jar added multiple times to distributed cache.\n",
      "2022-03-10 07:05:08,936 WARN yarn.Client: Same path resource file:///home/ubuntu/.ivy2/jars/commons-codec_commons-codec-1.10.jar added multiple times to distributed cache.\n",
      "2022-03-10 07:05:08,936 WARN yarn.Client: Same path resource file:///home/ubuntu/.ivy2/jars/com.chuusai_shapeless_2.12-2.3.2.jar added multiple times to distributed cache.\n",
      "2022-03-10 07:05:08,936 WARN yarn.Client: Same path resource file:///home/ubuntu/.ivy2/jars/org.apache.spark_spark-avro_2.12-3.2.0.jar added multiple times to distributed cache.\n",
      "2022-03-10 07:05:08,936 WARN yarn.Client: Same path resource file:///home/ubuntu/.ivy2/jars/org.testng_testng-6.8.8.jar added multiple times to distributed cache.\n",
      "2022-03-10 07:05:08,936 WARN yarn.Client: Same path resource file:///home/ubuntu/.ivy2/jars/org.typelevel_macro-compat_2.12-1.1.1.jar added multiple times to distributed cache.\n",
      "2022-03-10 07:05:08,936 WARN yarn.Client: Same path resource file:///home/ubuntu/.ivy2/jars/org.tukaani_xz-1.8.jar added multiple times to distributed cache.\n",
      "2022-03-10 07:05:08,936 WARN yarn.Client: Same path resource file:///home/ubuntu/.ivy2/jars/org.spark-project.spark_unused-1.0.0.jar added multiple times to distributed cache.\n",
      "2022-03-10 07:05:08,936 WARN yarn.Client: Same path resource file:///home/ubuntu/.ivy2/jars/org.beanshell_bsh-2.0b4.jar added multiple times to distributed cache.\n",
      "2022-03-10 07:05:08,936 WARN yarn.Client: Same path resource file:///home/ubuntu/.ivy2/jars/com.beust_jcommander-1.27.jar added multiple times to distributed cache.\n",
      "2022-03-10 07:05:08,936 WARN yarn.Client: Same path resource file:///home/ubuntu/.ivy2/jars/com.microsoft.cntk_cntk-2.4.jar added multiple times to distributed cache.\n",
      "2022-03-10 07:05:08,936 WARN yarn.Client: Same path resource file:///home/ubuntu/.ivy2/jars/com.microsoft.onnxruntime_onnxruntime_gpu-1.8.1.jar added multiple times to distributed cache.\n",
      "2022-03-10 07:05:08,936 WARN yarn.Client: Same path resource file:///home/ubuntu/.ivy2/jars/org.openpnp_opencv-3.2.0-1.jar added multiple times to distributed cache.\n",
      "2022-03-10 07:05:08,936 WARN yarn.Client: Same path resource file:///home/ubuntu/.ivy2/jars/com.microsoft.cognitiveservices.speech_client-jar-sdk-1.14.0.jar added multiple times to distributed cache.\n",
      "2022-03-10 07:05:08,936 WARN yarn.Client: Same path resource file:///home/ubuntu/.ivy2/jars/com.azure_azure-storage-blob-12.14.2.jar added multiple times to distributed cache.\n",
      "2022-03-10 07:05:08,937 WARN yarn.Client: Same path resource file:///home/ubuntu/.ivy2/jars/com.azure_azure-ai-textanalytics-5.1.4.jar added multiple times to distributed cache.\n",
      "2022-03-10 07:05:08,937 WARN yarn.Client: Same path resource file:///home/ubuntu/.ivy2/jars/com.azure_azure-core-1.22.0.jar added multiple times to distributed cache.\n",
      "2022-03-10 07:05:08,937 WARN yarn.Client: Same path resource file:///home/ubuntu/.ivy2/jars/com.azure_azure-core-http-netty-1.11.2.jar added multiple times to distributed cache.\n",
      "2022-03-10 07:05:08,937 WARN yarn.Client: Same path resource file:///home/ubuntu/.ivy2/jars/com.azure_azure-storage-common-12.14.1.jar added multiple times to distributed cache.\n",
      "2022-03-10 07:05:08,937 WARN yarn.Client: Same path resource file:///home/ubuntu/.ivy2/jars/com.azure_azure-storage-internal-avro-12.1.2.jar added multiple times to distributed cache.\n",
      "2022-03-10 07:05:08,937 WARN yarn.Client: Same path resource file:///home/ubuntu/.ivy2/jars/com.fasterxml.jackson.core_jackson-annotations-2.12.5.jar added multiple times to distributed cache.\n",
      "2022-03-10 07:05:08,937 WARN yarn.Client: Same path resource file:///home/ubuntu/.ivy2/jars/com.fasterxml.jackson.core_jackson-core-2.12.5.jar added multiple times to distributed cache.\n",
      "2022-03-10 07:05:08,937 WARN yarn.Client: Same path resource file:///home/ubuntu/.ivy2/jars/com.fasterxml.jackson.core_jackson-databind-2.12.5.jar added multiple times to distributed cache.\n",
      "2022-03-10 07:05:08,937 WARN yarn.Client: Same path resource file:///home/ubuntu/.ivy2/jars/com.fasterxml.jackson.datatype_jackson-datatype-jsr310-2.12.5.jar added multiple times to distributed cache.\n",
      "2022-03-10 07:05:08,937 WARN yarn.Client: Same path resource file:///home/ubuntu/.ivy2/jars/com.fasterxml.jackson.dataformat_jackson-dataformat-xml-2.12.5.jar added multiple times to distributed cache.\n",
      "2022-03-10 07:05:08,937 WARN yarn.Client: Same path resource file:///home/ubuntu/.ivy2/jars/org.slf4j_slf4j-api-1.7.32.jar added multiple times to distributed cache.\n",
      "2022-03-10 07:05:08,937 WARN yarn.Client: Same path resource file:///home/ubuntu/.ivy2/jars/io.projectreactor_reactor-core-3.4.10.jar added multiple times to distributed cache.\n",
      "2022-03-10 07:05:08,937 WARN yarn.Client: Same path resource file:///home/ubuntu/.ivy2/jars/io.netty_netty-tcnative-boringssl-static-2.0.43.Final.jar added multiple times to distributed cache.\n",
      "2022-03-10 07:05:08,937 WARN yarn.Client: Same path resource file:///home/ubuntu/.ivy2/jars/com.fasterxml.jackson.module_jackson-module-jaxb-annotations-2.12.5.jar added multiple times to distributed cache.\n",
      "2022-03-10 07:05:08,937 WARN yarn.Client: Same path resource file:///home/ubuntu/.ivy2/jars/org.codehaus.woodstox_stax2-api-4.2.1.jar added multiple times to distributed cache.\n",
      "2022-03-10 07:05:08,938 WARN yarn.Client: Same path resource file:///home/ubuntu/.ivy2/jars/com.fasterxml.woodstox_woodstox-core-6.2.4.jar added multiple times to distributed cache.\n",
      "2022-03-10 07:05:08,938 WARN yarn.Client: Same path resource file:///home/ubuntu/.ivy2/jars/jakarta.xml.bind_jakarta.xml.bind-api-2.3.2.jar added multiple times to distributed cache.\n",
      "2022-03-10 07:05:08,938 WARN yarn.Client: Same path resource file:///home/ubuntu/.ivy2/jars/jakarta.activation_jakarta.activation-api-1.2.1.jar added multiple times to distributed cache.\n",
      "2022-03-10 07:05:08,938 WARN yarn.Client: Same path resource file:///home/ubuntu/.ivy2/jars/org.reactivestreams_reactive-streams-1.0.3.jar added multiple times to distributed cache.\n",
      "2022-03-10 07:05:08,938 WARN yarn.Client: Same path resource file:///home/ubuntu/.ivy2/jars/io.netty_netty-handler-4.1.68.Final.jar added multiple times to distributed cache.\n",
      "2022-03-10 07:05:08,938 WARN yarn.Client: Same path resource file:///home/ubuntu/.ivy2/jars/io.netty_netty-handler-proxy-4.1.68.Final.jar added multiple times to distributed cache.\n",
      "2022-03-10 07:05:08,938 WARN yarn.Client: Same path resource file:///home/ubuntu/.ivy2/jars/io.netty_netty-buffer-4.1.68.Final.jar added multiple times to distributed cache.\n",
      "2022-03-10 07:05:08,938 WARN yarn.Client: Same path resource file:///home/ubuntu/.ivy2/jars/io.netty_netty-codec-http-4.1.68.Final.jar added multiple times to distributed cache.\n",
      "2022-03-10 07:05:08,938 WARN yarn.Client: Same path resource file:///home/ubuntu/.ivy2/jars/io.netty_netty-codec-http2-4.1.68.Final.jar added multiple times to distributed cache.\n",
      "2022-03-10 07:05:08,938 WARN yarn.Client: Same path resource file:///home/ubuntu/.ivy2/jars/io.netty_netty-transport-native-unix-common-4.1.68.Final.jar added multiple times to distributed cache.\n",
      "2022-03-10 07:05:08,938 WARN yarn.Client: Same path resource file:///home/ubuntu/.ivy2/jars/io.netty_netty-transport-native-epoll-4.1.68.Final.jar added multiple times to distributed cache.\n",
      "2022-03-10 07:05:08,938 WARN yarn.Client: Same path resource file:///home/ubuntu/.ivy2/jars/io.netty_netty-transport-native-kqueue-4.1.68.Final.jar added multiple times to distributed cache.\n",
      "2022-03-10 07:05:08,938 WARN yarn.Client: Same path resource file:///home/ubuntu/.ivy2/jars/io.projectreactor.netty_reactor-netty-http-1.0.11.jar added multiple times to distributed cache.\n",
      "2022-03-10 07:05:08,938 WARN yarn.Client: Same path resource file:///home/ubuntu/.ivy2/jars/io.netty_netty-common-4.1.68.Final.jar added multiple times to distributed cache.\n",
      "2022-03-10 07:05:08,938 WARN yarn.Client: Same path resource file:///home/ubuntu/.ivy2/jars/io.netty_netty-resolver-4.1.68.Final.jar added multiple times to distributed cache.\n",
      "2022-03-10 07:05:08,939 WARN yarn.Client: Same path resource file:///home/ubuntu/.ivy2/jars/io.netty_netty-transport-4.1.68.Final.jar added multiple times to distributed cache.\n",
      "2022-03-10 07:05:08,939 WARN yarn.Client: Same path resource file:///home/ubuntu/.ivy2/jars/io.netty_netty-codec-4.1.68.Final.jar added multiple times to distributed cache.\n",
      "2022-03-10 07:05:08,939 WARN yarn.Client: Same path resource file:///home/ubuntu/.ivy2/jars/io.netty_netty-codec-socks-4.1.68.Final.jar added multiple times to distributed cache.\n",
      "2022-03-10 07:05:08,939 WARN yarn.Client: Same path resource file:///home/ubuntu/.ivy2/jars/io.netty_netty-resolver-dns-4.1.68.Final.jar added multiple times to distributed cache.\n",
      "2022-03-10 07:05:08,939 WARN yarn.Client: Same path resource file:///home/ubuntu/.ivy2/jars/io.netty_netty-resolver-dns-native-macos-4.1.68.Final.jar added multiple times to distributed cache.\n",
      "2022-03-10 07:05:08,939 WARN yarn.Client: Same path resource file:///home/ubuntu/.ivy2/jars/io.projectreactor.netty_reactor-netty-core-1.0.11.jar added multiple times to distributed cache.\n",
      "2022-03-10 07:05:08,939 WARN yarn.Client: Same path resource file:///home/ubuntu/.ivy2/jars/io.netty_netty-codec-dns-4.1.68.Final.jar added multiple times to distributed cache.\n",
      "2022-03-10 07:05:08,939 WARN yarn.Client: Same path resource file:///home/ubuntu/.ivy2/jars/com.github.vowpalwabbit_vw-jni-8.9.1.jar added multiple times to distributed cache.\n",
      "2022-03-10 07:05:08,939 WARN yarn.Client: Same path resource file:///home/ubuntu/.ivy2/jars/com.microsoft.ml.lightgbm_lightgbmlib-3.2.110.jar added multiple times to distributed cache.\n"
     ]
    }
   ],
   "source": [
    "import pyspark\n",
    "se = pyspark.sql.SparkSession.builder.appName(\"MyApp2\") \\\n",
    "            .config(\"spark.jars.packages\", \"com.microsoft.azure:synapseml_2.12:0.9.5\") \\\n",
    "            .config(\"spark.dynamicAllocation.enabled\", False) \\\n",
    "            .config(\"spark.locality.wait\", 0) \\\n",
    "            .getOrCreate()\n"
   ]
  },
  {
   "cell_type": "code",
   "execution_count": null,
   "metadata": {},
   "outputs": [],
   "source": []
  },
  {
   "cell_type": "code",
   "execution_count": null,
   "metadata": {},
   "outputs": [],
   "source": []
  },
  {
   "cell_type": "code",
   "execution_count": 3,
   "metadata": {
    "cell_status": {
     "execute_time": {
      "duration": 39.697021484375,
      "end_time": 1613995620888.398
     }
    }
   },
   "outputs": [],
   "source": [
    "from pyspark.sql.functions import when, col\n",
    "from pyspark.ml import Pipeline\n",
    "from synapse.ml.vw import VowpalWabbitFeaturizer, VowpalWabbitRegressor"
   ]
  },
  {
   "cell_type": "code",
   "execution_count": 4,
   "metadata": {
    "cell_status": {
     "execute_time": {
      "duration": 2252.64794921875,
      "end_time": 1613995623288.365
     }
    }
   },
   "outputs": [
    {
     "name": "stderr",
     "output_type": "stream",
     "text": [
      "                                                                                \r"
     ]
    }
   ],
   "source": [
    "data = se.read.option(\"delimiter\", \"\\t\").csv('/user/drugs/data/*', header=True, inferSchema=True)"
   ]
  },
  {
   "cell_type": "code",
   "execution_count": 5,
   "metadata": {},
   "outputs": [
    {
     "data": {
      "text/html": [
       "<div>\n",
       "<style scoped>\n",
       "    .dataframe tbody tr th:only-of-type {\n",
       "        vertical-align: middle;\n",
       "    }\n",
       "\n",
       "    .dataframe tbody tr th {\n",
       "        vertical-align: top;\n",
       "    }\n",
       "\n",
       "    .dataframe thead th {\n",
       "        text-align: right;\n",
       "    }\n",
       "</style>\n",
       "<table border=\"1\" class=\"dataframe\">\n",
       "  <thead>\n",
       "    <tr style=\"text-align: right;\">\n",
       "      <th></th>\n",
       "      <th>_c0</th>\n",
       "      <th>drugName</th>\n",
       "      <th>condition</th>\n",
       "      <th>review</th>\n",
       "      <th>rating</th>\n",
       "      <th>date</th>\n",
       "      <th>usefulCount</th>\n",
       "    </tr>\n",
       "  </thead>\n",
       "  <tbody>\n",
       "    <tr>\n",
       "      <th>0</th>\n",
       "      <td>206461</td>\n",
       "      <td>Valsartan</td>\n",
       "      <td>Left Ventricular Dysfunction</td>\n",
       "      <td>\"\"\"It has no side effect, I take it in combina...</td>\n",
       "      <td>9.0</td>\n",
       "      <td>May 20, 2012</td>\n",
       "      <td>27.0</td>\n",
       "    </tr>\n",
       "    <tr>\n",
       "      <th>1</th>\n",
       "      <td>95260</td>\n",
       "      <td>Guanfacine</td>\n",
       "      <td>ADHD</td>\n",
       "      <td>\"\"\"My son is halfway through his fourth week o...</td>\n",
       "      <td>None</td>\n",
       "      <td>None</td>\n",
       "      <td>NaN</td>\n",
       "    </tr>\n",
       "    <tr>\n",
       "      <th>2</th>\n",
       "      <td>We have tried many different medications and s...</td>\n",
       "      <td>8.0</td>\n",
       "      <td>April 27, 2010</td>\n",
       "      <td>192</td>\n",
       "      <td>None</td>\n",
       "      <td>None</td>\n",
       "      <td>NaN</td>\n",
       "    </tr>\n",
       "    <tr>\n",
       "      <th>3</th>\n",
       "      <td>92703</td>\n",
       "      <td>Lybrel</td>\n",
       "      <td>Birth Control</td>\n",
       "      <td>\"\"\"I used to take another oral contraceptive, ...</td>\n",
       "      <td>None</td>\n",
       "      <td>None</td>\n",
       "      <td>NaN</td>\n",
       "    </tr>\n",
       "    <tr>\n",
       "      <th>4</th>\n",
       "      <td>The positive side is that I didn&amp;#039;t have a...</td>\n",
       "      <td>5.0</td>\n",
       "      <td>December 14, 2009</td>\n",
       "      <td>17</td>\n",
       "      <td>None</td>\n",
       "      <td>None</td>\n",
       "      <td>NaN</td>\n",
       "    </tr>\n",
       "    <tr>\n",
       "      <th>5</th>\n",
       "      <td>138000</td>\n",
       "      <td>Ortho Evra</td>\n",
       "      <td>Birth Control</td>\n",
       "      <td>\"\"\"This is my first time using any form of bir...</td>\n",
       "      <td>8.0</td>\n",
       "      <td>November 3, 2015</td>\n",
       "      <td>10.0</td>\n",
       "    </tr>\n",
       "    <tr>\n",
       "      <th>6</th>\n",
       "      <td>35696</td>\n",
       "      <td>Buprenorphine / naloxone</td>\n",
       "      <td>Opiate Dependence</td>\n",
       "      <td>\"\"\"Suboxone has completely turned my life arou...</td>\n",
       "      <td>9.0</td>\n",
       "      <td>November 27, 2016</td>\n",
       "      <td>37.0</td>\n",
       "    </tr>\n",
       "    <tr>\n",
       "      <th>7</th>\n",
       "      <td>155963</td>\n",
       "      <td>Cialis</td>\n",
       "      <td>Benign Prostatic Hyperplasia</td>\n",
       "      <td>\"\"\"2nd day on 5mg started to work with rock ha...</td>\n",
       "      <td>2.0</td>\n",
       "      <td>November 28, 2015</td>\n",
       "      <td>43.0</td>\n",
       "    </tr>\n",
       "    <tr>\n",
       "      <th>8</th>\n",
       "      <td>165907</td>\n",
       "      <td>Levonorgestrel</td>\n",
       "      <td>Emergency Contraception</td>\n",
       "      <td>\"\"\"He pulled out, but he cummed a bit in me. I...</td>\n",
       "      <td>1.0</td>\n",
       "      <td>March 7, 2017</td>\n",
       "      <td>5.0</td>\n",
       "    </tr>\n",
       "    <tr>\n",
       "      <th>9</th>\n",
       "      <td>102654</td>\n",
       "      <td>Aripiprazole</td>\n",
       "      <td>Bipolar Disorde</td>\n",
       "      <td>\"\"\"Abilify changed my life. There is hope. I w...</td>\n",
       "      <td>10.0</td>\n",
       "      <td>March 14, 2015</td>\n",
       "      <td>32.0</td>\n",
       "    </tr>\n",
       "  </tbody>\n",
       "</table>\n",
       "</div>"
      ],
      "text/plain": [
       "                                                 _c0  \\\n",
       "0                                             206461   \n",
       "1                                              95260   \n",
       "2  We have tried many different medications and s...   \n",
       "3                                              92703   \n",
       "4  The positive side is that I didn&#039;t have a...   \n",
       "5                                             138000   \n",
       "6                                              35696   \n",
       "7                                             155963   \n",
       "8                                             165907   \n",
       "9                                             102654   \n",
       "\n",
       "                   drugName                     condition  \\\n",
       "0                 Valsartan  Left Ventricular Dysfunction   \n",
       "1                Guanfacine                          ADHD   \n",
       "2                       8.0                April 27, 2010   \n",
       "3                    Lybrel                 Birth Control   \n",
       "4                       5.0             December 14, 2009   \n",
       "5                Ortho Evra                 Birth Control   \n",
       "6  Buprenorphine / naloxone             Opiate Dependence   \n",
       "7                    Cialis  Benign Prostatic Hyperplasia   \n",
       "8            Levonorgestrel       Emergency Contraception   \n",
       "9              Aripiprazole               Bipolar Disorde   \n",
       "\n",
       "                                              review rating  \\\n",
       "0  \"\"\"It has no side effect, I take it in combina...    9.0   \n",
       "1  \"\"\"My son is halfway through his fourth week o...   None   \n",
       "2                                                192   None   \n",
       "3  \"\"\"I used to take another oral contraceptive, ...   None   \n",
       "4                                                 17   None   \n",
       "5  \"\"\"This is my first time using any form of bir...    8.0   \n",
       "6  \"\"\"Suboxone has completely turned my life arou...    9.0   \n",
       "7  \"\"\"2nd day on 5mg started to work with rock ha...    2.0   \n",
       "8  \"\"\"He pulled out, but he cummed a bit in me. I...    1.0   \n",
       "9  \"\"\"Abilify changed my life. There is hope. I w...   10.0   \n",
       "\n",
       "                date  usefulCount  \n",
       "0       May 20, 2012         27.0  \n",
       "1               None          NaN  \n",
       "2               None          NaN  \n",
       "3               None          NaN  \n",
       "4               None          NaN  \n",
       "5   November 3, 2015         10.0  \n",
       "6  November 27, 2016         37.0  \n",
       "7  November 28, 2015         43.0  \n",
       "8      March 7, 2017          5.0  \n",
       "9     March 14, 2015         32.0  "
      ]
     },
     "execution_count": 5,
     "metadata": {},
     "output_type": "execute_result"
    }
   ],
   "source": [
    "data.limit(10).toPandas()"
   ]
  },
  {
   "cell_type": "code",
   "execution_count": 6,
   "metadata": {},
   "outputs": [
    {
     "data": {
      "text/plain": [
       "['_c0', 'drugName', 'condition', 'review', 'rating', 'date', 'usefulCount']"
      ]
     },
     "execution_count": 6,
     "metadata": {},
     "output_type": "execute_result"
    }
   ],
   "source": [
    "data.columns"
   ]
  },
  {
   "cell_type": "code",
   "execution_count": 7,
   "metadata": {},
   "outputs": [
    {
     "name": "stdout",
     "output_type": "stream",
     "text": [
      "root\n",
      " |-- _c0: string (nullable = true)\n",
      " |-- d: string (nullable = true)\n",
      " |-- c: string (nullable = true)\n",
      " |-- r: string (nullable = true)\n",
      " |-- rating: string (nullable = true)\n",
      " |-- data: string (nullable = true)\n",
      " |-- target: integer (nullable = true)\n",
      "\n"
     ]
    }
   ],
   "source": [
    "columns = [\n",
    "    '_c0',\n",
    "    'd',\n",
    "    'c',\n",
    "    'r',\n",
    "    'rating',\n",
    "    'data',\n",
    "    'target',\n",
    "]\n",
    "df = data.toDF(*columns)\n",
    "df.printSchema()"
   ]
  },
  {
   "cell_type": "code",
   "execution_count": 8,
   "metadata": {
    "cell_status": {
     "execute_time": {
      "duration": 234.337158203125,
      "end_time": 1613995623531.917
     }
    }
   },
   "outputs": [],
   "source": [
    "train, test = (\n",
    "    df\n",
    "    .na.drop('any')\n",
    "    .randomSplit([0.9, 0.1], 422)\n",
    ")"
   ]
  },
  {
   "cell_type": "code",
   "execution_count": 9,
   "metadata": {
    "cell_status": {
     "execute_time": {
      "duration": 741.008056640625,
      "end_time": 1613995624283.641
     }
    }
   },
   "outputs": [
    {
     "name": "stderr",
     "output_type": "stream",
     "text": [
      "[Stage 3:>                                                          (0 + 1) / 1]\r"
     ]
    },
    {
     "name": "stdout",
     "output_type": "stream",
     "text": [
      "+------+--------------------+-------------+--------------------+------+-----------------+------+\n",
      "|   _c0|                   d|            c|                   r|rating|             data|target|\n",
      "+------+--------------------+-------------+--------------------+------+-----------------+------+\n",
      "| 10000|      Lo Loestrin Fe|Birth Control|\"\"\"I was on this ...|   7.0|   April 10, 2013|     4|\n",
      "|100012|Desogestrel / eth...|Birth Control|\"\"\"I&#039;ve been...|   9.0|    June 17, 2017|     2|\n",
      "|100013|Desogestrel / eth...|Birth Control|\"\"\"Gives me heart...|   2.0|     June 8, 2017|     1|\n",
      "|100029|Desogestrel / eth...|Birth Control|\"\"\"I was switched...|   5.0| December 6, 2017|     0|\n",
      "| 10004|      Lo Loestrin Fe|Birth Control|\"\"\"I&#039;m 41, u...|   2.0|   March 31, 2013|    12|\n",
      "|100055|Desogestrel / eth...|Birth Control|\"\"\"I was on Apri ...|   5.0|      May 2, 2017|     1|\n",
      "| 10007|      Lo Loestrin Fe|Birth Control|\"\"\"I posted on th...|   9.0|   March 10, 2013|    18|\n",
      "|100071|Desogestrel / eth...|Birth Control|\"\"\"So I&#039;ve o...|   8.0|    March 7, 2017|     7|\n",
      "|100085|Desogestrel / eth...|Birth Control|\"\"\"I was on this ...|   1.0| January 28, 2017|     4|\n",
      "|100087|Desogestrel / eth...|Birth Control|\"\"\"I&#039;m 19 an...|   9.0| January 26, 2017|     3|\n",
      "|100088|Desogestrel / eth...|Birth Control|\"\"\"I switched to ...|  10.0| January 19, 2017|     4|\n",
      "|100100|Desogestrel / eth...|Birth Control|\"\"\"I&#039;ve been...|   7.0|December 19, 2016|     7|\n",
      "|100101|Desogestrel / eth...|Birth Control|\"\"\"This birth con...|  10.0|December 18, 2016|     5|\n",
      "|100105|Desogestrel / eth...|Birth Control|\"\"\"For the most p...|   8.0|November 30, 2016|     3|\n",
      "|100107|Desogestrel / eth...|Birth Control|\"\"\"completely los...|   5.0|November 23, 2016|     1|\n",
      "|100109|Desogestrel / eth...|Birth Control|\"\"\"My doc prescri...|   9.0|November 21, 2016|     7|\n",
      "|100122|Desogestrel / eth...|Birth Control|\"\"\"Let me preface...|  10.0| November 3, 2016|     3|\n",
      "|100123|Desogestrel / eth...|Birth Control|\"\"\"I haven&#039;t...|   1.0| November 2, 2016|     2|\n",
      "|100124|Desogestrel / eth...|Birth Control|\"\"\"Caused extreme...|   1.0| November 2, 2016|     1|\n",
      "|100125|Desogestrel / eth...|Birth Control|\"\"\"Seems fine so ...|   9.0| October 28, 2016|     4|\n",
      "+------+--------------------+-------------+--------------------+------+-----------------+------+\n",
      "only showing top 20 rows\n",
      "\n"
     ]
    },
    {
     "name": "stderr",
     "output_type": "stream",
     "text": [
      "                                                                                \r"
     ]
    }
   ],
   "source": [
    "train.show()"
   ]
  },
  {
   "cell_type": "markdown",
   "metadata": {},
   "source": [
    "Создадим объект для создания признаков в формате VW. Он принимает dataframe и возвращает dataframe но уже с новой колонкой, в которой записаны эти признаки"
   ]
  },
  {
   "cell_type": "code",
   "execution_count": 10,
   "metadata": {
    "cell_status": {
     "execute_time": {
      "duration": 38.982177734375,
      "end_time": 1613995624334.72
     }
    }
   },
   "outputs": [],
   "source": [
    "vw_featurizer = VowpalWabbitFeaturizer(\n",
    "    inputCols=[\"rating\"], \n",
    "    stringSplitInputCols=[\"d\", \"c\", \"r\"],\n",
    "    outputCol=\"features\",\n",
    "    numBits=24\n",
    ")"
   ]
  },
  {
   "cell_type": "code",
   "execution_count": 11,
   "metadata": {
    "cell_status": {
     "execute_time": {
      "duration": 2252.458984375,
      "end_time": 1613995626618.318
     }
    }
   },
   "outputs": [
    {
     "name": "stderr",
     "output_type": "stream",
     "text": [
      "                                                                                \r"
     ]
    },
    {
     "data": {
      "text/plain": [
       "SparseVector(16777216, {139281: 1.0, 1016583: 1.0, 1102820: 1.0, 1162472: 2.0, 1505820: 1.0, 2204132: 1.0, 2339869: 1.0, 2673967: 1.0, 2679020: 1.0, 2839966: 1.0, 2991125: 1.0, 3257429: 1.0, 3346639: 6.0, 3410361: 1.0, 3446374: 1.0, 3783103: 2.0, 3803230: 1.0, 4415074: 1.0, 4597225: 1.0, 4709980: 1.0, 4778637: 1.0, 4890812: 1.0, 5367110: 1.0, 5426661: 2.0, 5481570: 1.0, 5728618: 1.0, 5837165: 1.0, 5881332: 1.0, 6192782: 1.0, 6362983: 1.0, 6366072: 1.0, 6737743: 1.0, 7337106: 2.0, 7608613: 1.0, 7636861: 3.0, 8148668: 1.0, 8336163: 1.0, 8515415: 1.0, 9170487: 1.0, 9519332: 1.0, 9651660: 1.0, 9787552: 1.0, 9845063: 1.0, 9894590: 1.0, 9970646: 1.0, 10090473: 1.0, 10189708: 1.0, 11318998: 1.0, 11946903: 1.0, 12243560: 1.0, 12463287: 2.0, 12730453: 1.0, 12741825: 1.0, 13350349: 1.0, 13357553: 2.0, 13735132: 3.0, 13901790: 1.0, 14380379: 1.0, 14524688: 1.0, 14608623: 1.0, 14946398: 1.0, 15174436: 1.0, 15384876: 1.0, 15847749: 1.0, 16681717: 1.0, 16772414: 1.0})"
      ]
     },
     "execution_count": 11,
     "metadata": {},
     "output_type": "execute_result"
    }
   ],
   "source": [
    "x = vw_featurizer.transform(train).rdd.first()\n",
    "x['features']"
   ]
  },
  {
   "cell_type": "code",
   "execution_count": null,
   "metadata": {},
   "outputs": [],
   "source": []
  },
  {
   "cell_type": "markdown",
   "metadata": {},
   "source": [
    "Создадим объект для обучения классификатора. Схема работы точно такая же - принимает на вход dataframe и потом может модифицировать другой dataframe, делая предсказание."
   ]
  },
  {
   "cell_type": "code",
   "execution_count": 12,
   "metadata": {
    "cell_status": {
     "execute_time": {
      "duration": 243.45703125,
      "end_time": 1613995626869.473
     }
    }
   },
   "outputs": [],
   "source": [
    "args = \"--learning_rate 20.0 --bit_precision 24 --ngram r2 --interactions dc\"\n",
    "vw_model = VowpalWabbitRegressor(\n",
    "    featuresCol=\"features\",\n",
    "    labelCol=\"target\",\n",
    "    args=args,\n",
    "    numPasses=40\n",
    ")"
   ]
  },
  {
   "cell_type": "markdown",
   "metadata": {},
   "source": [
    "Соберем их в единый пайплайн"
   ]
  },
  {
   "cell_type": "code",
   "execution_count": 13,
   "metadata": {
    "cell_status": {
     "execute_time": {
      "duration": 38.97900390625,
      "end_time": 1613995626918.419
     }
    }
   },
   "outputs": [],
   "source": [
    "vw_pipeline = Pipeline(stages=[vw_featurizer, vw_model])"
   ]
  },
  {
   "cell_type": "code",
   "execution_count": 14,
   "metadata": {
    "cell_status": {
     "execute_time": {
      "duration": 59484.3818359375,
      "end_time": 1613995686444.083
     }
    }
   },
   "outputs": [
    {
     "name": "stderr",
     "output_type": "stream",
     "text": [
      "[Stage 5:>                                                          (0 + 4) / 4]\r"
     ]
    },
    {
     "name": "stdout",
     "output_type": "stream",
     "text": [
      "nonce 1508075414 still waiting for 3 nodes out of 4 for example node 0\n",
      "nonce 1508075414 still waiting for 2 nodes out of 4 for example node 2\n"
     ]
    },
    {
     "name": "stderr",
     "output_type": "stream",
     "text": [
      "inbound connection from 10.128.0.27(rc1a-dataproc-d-er3ey0m8pf4us89i.mdb.yandexcloud.net:15745) serv=58694\n",
      "10.128.0.27(rc1a-dataproc-d-er3ey0m8pf4us89i.mdb.yandexcloud.net:15745): nonce=1508075414\n",
      "10.128.0.27(rc1a-dataproc-d-er3ey0m8pf4us89i.mdb.yandexcloud.net:15745): total=4\n",
      "10.128.0.27(rc1a-dataproc-d-er3ey0m8pf4us89i.mdb.yandexcloud.net:15745): node id=1\n",
      "inbound connection from 10.128.0.27(rc1a-dataproc-d-er3ey0m8pf4us89i.mdb.yandexcloud.net:15745) serv=58696\n",
      "10.128.0.27(rc1a-dataproc-d-er3ey0m8pf4us89i.mdb.yandexcloud.net:15745): nonce=1508075414\n",
      "10.128.0.27(rc1a-dataproc-d-er3ey0m8pf4us89i.mdb.yandexcloud.net:15745): total=4\n",
      "10.128.0.27(rc1a-dataproc-d-er3ey0m8pf4us89i.mdb.yandexcloud.net:15745): node id=0\n",
      "inbound connection from 10.128.0.37(rc1a-dataproc-d-rnb3p96b656hsorq.mdb.yandexcloud.net:15745) serv=34822\n",
      "10.128.0.37(rc1a-dataproc-d-rnb3p96b656hsorq.mdb.yandexcloud.net:15745): nonce=1508075414\n",
      "10.128.0.37(rc1a-dataproc-d-rnb3p96b656hsorq.mdb.yandexcloud.net:15745): total=4\n",
      "10.128.0.37(rc1a-dataproc-d-rnb3p96b656hsorq.mdb.yandexcloud.net:15745): node id=3\n"
     ]
    },
    {
     "name": "stdout",
     "output_type": "stream",
     "text": [
      "nonce 1508075414 still waiting for 1 nodes out of 4 for example node 2\n"
     ]
    },
    {
     "name": "stderr",
     "output_type": "stream",
     "text": [
      "inbound connection from 10.128.0.37(rc1a-dataproc-d-rnb3p96b656hsorq.mdb.yandexcloud.net:15745) serv=34824\n",
      "10.128.0.37(rc1a-dataproc-d-rnb3p96b656hsorq.mdb.yandexcloud.net:15745): nonce=1508075414\n",
      "10.128.0.37(rc1a-dataproc-d-rnb3p96b656hsorq.mdb.yandexcloud.net:15745): total=4\n",
      "10.128.0.37(rc1a-dataproc-d-rnb3p96b656hsorq.mdb.yandexcloud.net:15745): node id=2\n",
      "                                                                                \r"
     ]
    }
   ],
   "source": [
    "vw_trained = vw_pipeline.fit(train)"
   ]
  },
  {
   "cell_type": "code",
   "execution_count": 15,
   "metadata": {
    "cell_status": {
     "execute_time": {
      "duration": 236.666015625,
      "end_time": 1613995686690.678
     }
    }
   },
   "outputs": [
    {
     "name": "stderr",
     "output_type": "stream",
     "text": [
      "Generating 2-grams for r namespaces.\n",
      "creating features for following interactions: dc \n",
      "only testing\n",
      "Num weight bits = 24\n",
      "learning rate = 0.5\n",
      "initial_t = 0\n",
      "power_t = 0.5\n",
      "using no cache\n",
      "Reading datafile = \n",
      "num sources = 1\n"
     ]
    }
   ],
   "source": [
    "prediction = vw_trained.transform(test)"
   ]
  },
  {
   "cell_type": "code",
   "execution_count": 16,
   "metadata": {
    "cell_status": {
     "execute_time": {
      "duration": 2271.975830078125,
      "end_time": 1613995688975.507
     }
    }
   },
   "outputs": [
    {
     "name": "stderr",
     "output_type": "stream",
     "text": [
      "[Stage 6:>                                                          (0 + 1) / 1]\r"
     ]
    },
    {
     "name": "stdout",
     "output_type": "stream",
     "text": [
      "+------+--------------------+-------------+--------------------+------+------------------+------+--------------------+------------------+------------------+\n",
      "|   _c0|                   d|            c|                   r|rating|              data|target|            features|     rawPrediction|        prediction|\n",
      "+------+--------------------+-------------+--------------------+------+------------------+------+--------------------+------------------+------------------+\n",
      "|100009|Desogestrel / eth...|Birth Control|\"\"\"I was on recli...|   1.0|     June 28, 2017|     2|(16777216,[139281...|               0.0|               0.0|\n",
      "| 10002|      Lo Loestrin Fe|Birth Control|\"\"\"Well, I&#039;v...|   6.0|     April 4, 2013|    10|(16777216,[101658...|20.970989227294922|20.970989227294922|\n",
      "|100091|Desogestrel / eth...|Birth Control|\"\"\"I started Apri...|   8.0|   January 8, 2017|     3|(16777216,[237306...|2.1582489013671875|2.1582489013671875|\n",
      "|100094|Desogestrel / eth...|Birth Control|\"\"\"I started Apri...|   8.0| December 29, 2016|     2|(16777216,[431776...|               0.0|               0.0|\n",
      "|  1001|          Everolimus| Breast Cance|\"\"\"Stage 4 with l...|  10.0|   August 31, 2015|    16|(16777216,[28617,...|43.083126068115234|43.083126068115234|\n",
      "|100217|Desogestrel / eth...|Birth Control|\"\"\"Horrible exper...|   1.0|  October 26, 2015|     3|(16777216,[109513...|               0.0|               0.0|\n",
      "|100242|Desogestrel / eth...|Birth Control|\"\"\"I first starte...|  10.0| December 28, 2015|     1|(16777216,[139281...|               0.0|               0.0|\n",
      "|100259|Desogestrel / eth...|Birth Control|\"\"\"I changed to t...|   4.0|September 21, 2015|     2|(16777216,[139281...| 22.11454963684082| 22.11454963684082|\n",
      "|100331|Desogestrel / eth...|Birth Control|\"\"\"I&#039;ve been...|   9.0|  October 19, 2016|     4|(16777216,[139281...| 9.716249465942383| 9.716249465942383|\n",
      "|100337|Desogestrel / eth...|Birth Control|\"\"\"I&#039;d say t...|   9.0|   October 3, 2016|     1|(16777216,[430877...|5.5600128173828125|5.5600128173828125|\n",
      "| 10039|      Lo Loestrin Fe|Birth Control|\"\"\"I have a histo...|   9.0| February 22, 2012|    23|(16777216,[362379...|27.635929107666016|27.635929107666016|\n",
      "|100479|Desogestrel / eth...|Birth Control|\"\"\"I wanted to sh...|   7.0|   August 11, 2013|    13|(16777216,[139281...| 1.051168441772461| 1.051168441772461|\n",
      "|100511|Desogestrel / eth...|Birth Control|\"\"\"I have only be...|  10.0|     July 16, 2012|     6|(16777216,[20782,...| 18.28248405456543| 18.28248405456543|\n",
      "|100518|Desogestrel / eth...|Birth Control|\"\"\"At first, I lo...|   5.0|      May 30, 2012|     1|(16777216,[139281...|10.738810539245605|10.738810539245605|\n",
      "| 10054|      Lo Loestrin Fe|Birth Control|\"\"\"I&#039;ve been...|   7.0|     July 24, 2013|    18|(16777216,[431776...| 5.291143417358398| 5.291143417358398|\n",
      "|100552|Desogestrel / eth...|Birth Control|\"\"\"Have had a ver...|   9.0| September 9, 2012|     8|(16777216,[139281...| 5.941375732421875| 5.941375732421875|\n",
      "|100566|Desogestrel / eth...|Birth Control|\"\"\"I am on my sec...|   4.0|     July 22, 2011|     1|(16777216,[139281...|               0.0|               0.0|\n",
      "|100615|Desogestrel / eth...|Birth Control|\"\"\"So I was put o...|   2.0|     June 12, 2010|    15|(16777216,[267792...|               0.0|               0.0|\n",
      "| 10063|      Lo Loestrin Fe|Birth Control|\"\"\"I have been on...|   9.0|     June 29, 2013|    36|(16777216,[116247...|15.459756851196289|15.459756851196289|\n",
      "| 10064|      Lo Loestrin Fe|Birth Control|\"\"\"I am still on ...|   7.0|     June 26, 2013|    14|(16777216,[111958...|               0.0|               0.0|\n",
      "+------+--------------------+-------------+--------------------+------+------------------+------+--------------------+------------------+------------------+\n",
      "only showing top 20 rows\n",
      "\n"
     ]
    },
    {
     "name": "stderr",
     "output_type": "stream",
     "text": [
      "                                                                                \r"
     ]
    }
   ],
   "source": [
    "prediction.show()"
   ]
  },
  {
   "cell_type": "code",
   "execution_count": 17,
   "metadata": {
    "cell_status": {
     "execute_time": {
      "duration": 2255.380126953125,
      "end_time": 1613995691243.609
     }
    }
   },
   "outputs": [
    {
     "name": "stderr",
     "output_type": "stream",
     "text": [
      "                                                                                \r"
     ]
    }
   ],
   "source": [
    "from synapse.ml.train import ComputeModelStatistics\n",
    "metrics = ComputeModelStatistics(\n",
    "    evaluationMetric='regression',\n",
    "    labelCol='target',\n",
    "    scoresCol='prediction'\n",
    ").transform(prediction)"
   ]
  },
  {
   "cell_type": "code",
   "execution_count": 18,
   "metadata": {
    "cell_status": {
     "execute_time": {
      "duration": 238.402099609375,
      "end_time": 1613995691492.945
     }
    }
   },
   "outputs": [
    {
     "name": "stdout",
     "output_type": "stream",
     "text": [
      "+------------------+-----------------------+------------------+-------------------+\n",
      "|mean_squared_error|root_mean_squared_error|               R^2|mean_absolute_error|\n",
      "+------------------+-----------------------+------------------+-------------------+\n",
      "|  684.964669451763|     26.171829692472077|0.4751086842716862| 16.509441626130055|\n",
      "+------------------+-----------------------+------------------+-------------------+\n",
      "\n"
     ]
    }
   ],
   "source": [
    "metrics.show()"
   ]
  },
  {
   "cell_type": "code",
   "execution_count": null,
   "metadata": {},
   "outputs": [],
   "source": []
  },
  {
   "cell_type": "code",
   "execution_count": null,
   "metadata": {},
   "outputs": [],
   "source": []
  },
  {
   "cell_type": "markdown",
   "metadata": {},
   "source": [
    "### SparkML\n",
    "\n",
    "Нужно отметить, что в стандартной библиотеке Spark присутствует модуль для машинного обучения.\n",
    "\n",
    "**ОДНАКО** нужно сказать, что работает он крайне плохо. Лучшее, что вы можете с ним сделать - это попробовать один раз его запустить и понять, что больше никогда не будете его использовать.\n",
    "\n",
    "Это правда важно, потому что это не звучит слишком убедительно, что стандартная библиотека для ML насколько уж плохо работет и наверное все таки есть случаи, когда она работает хорошо, правда ведь? Ответ - вполне возможно. Чтобы вам самим понять, есть ли такие случаи, попробуйте самостоятельно что-то обучить на SparkML и прочувствуйте границы применимости :)"
   ]
  },
  {
   "cell_type": "code",
   "execution_count": 1,
   "metadata": {},
   "outputs": [],
   "source": [
    "import findspark\n",
    "findspark.init()"
   ]
  },
  {
   "cell_type": "code",
   "execution_count": 2,
   "metadata": {},
   "outputs": [
    {
     "name": "stderr",
     "output_type": "stream",
     "text": [
      "SLF4J: Class path contains multiple SLF4J bindings.\n",
      "SLF4J: Found binding in [jar:file:/usr/lib/spark/jars/slf4j-log4j12-1.7.30.jar!/org/slf4j/impl/StaticLoggerBinder.class]\n",
      "SLF4J: Found binding in [jar:file:/usr/lib/hadoop/lib/slf4j-log4j12-1.7.25.jar!/org/slf4j/impl/StaticLoggerBinder.class]\n",
      "SLF4J: See http://www.slf4j.org/codes.html#multiple_bindings for an explanation.\n",
      "SLF4J: Actual binding is of type [org.slf4j.impl.Log4jLoggerFactory]\n",
      "Setting default log level to \"WARN\".\n",
      "To adjust logging level use sc.setLogLevel(newLevel). For SparkR, use setLogLevel(newLevel).\n",
      "2022-03-10 07:13:09,381 WARN util.Utils: spark.executor.instances less than spark.dynamicAllocation.minExecutors is invalid, ignoring its setting, please update your configs.\n",
      "2022-03-10 07:13:14,941 WARN util.Utils: spark.executor.instances less than spark.dynamicAllocation.minExecutors is invalid, ignoring its setting, please update your configs.\n"
     ]
    }
   ],
   "source": [
    "import pyspark\n",
    "sc = pyspark.SparkContext(appName=\"lsml-app-1\")"
   ]
  },
  {
   "cell_type": "code",
   "execution_count": 3,
   "metadata": {
    "cell_status": {
     "execute_time": {
      "duration": 761.909912109375,
      "end_time": 1614008059391.028
     }
    }
   },
   "outputs": [],
   "source": [
    "from pyspark.ml.classification import LogisticRegression\n",
    "from pyspark.ml.regression import LinearRegression\n",
    "from pyspark.ml.feature import HashingTF, IDF, Tokenizer\n",
    "from pyspark.ml import Pipeline\n",
    "from pyspark.ml.feature import OneHotEncoder, StringIndexer, VectorAssembler"
   ]
  },
  {
   "cell_type": "code",
   "execution_count": 4,
   "metadata": {},
   "outputs": [],
   "source": [
    "from pyspark.sql import SparkSession, Row\n",
    "\n",
    "se = SparkSession(sc)"
   ]
  },
  {
   "cell_type": "code",
   "execution_count": 5,
   "metadata": {
    "cell_status": {
     "execute_time": {
      "duration": 2289.341064453125,
      "end_time": 1614008102760.016
     }
    }
   },
   "outputs": [
    {
     "name": "stderr",
     "output_type": "stream",
     "text": [
      "                                                                                \r"
     ]
    }
   ],
   "source": [
    "data = se.read.option(\"delimiter\", \"\\t\").csv('/user/drugs/data/*', header=True, inferSchema=True)"
   ]
  },
  {
   "cell_type": "code",
   "execution_count": 6,
   "metadata": {
    "cell_status": {
     "execute_time": {
      "duration": 268.247802734375,
      "end_time": 1614008103042.305
     }
    }
   },
   "outputs": [],
   "source": [
    "data = (\n",
    "    data\n",
    "    .na.drop('any')\n",
    "    .withColumn('ratingNum', data.rating.cast('integer'))\n",
    ")\n",
    "\n",
    "\n",
    "train, test = data.randomSplit([0.9, 0.1], 422)\n",
    "train, test = train.cache(), test.cache()"
   ]
  },
  {
   "cell_type": "code",
   "execution_count": null,
   "metadata": {
    "cell_status": {
     "execute_time": {
      "duration": 249.799072265625,
      "end_time": 1614002002346.306
     }
    }
   },
   "outputs": [],
   "source": []
  },
  {
   "cell_type": "code",
   "execution_count": 7,
   "metadata": {
    "cell_status": {
     "execute_time": {
      "duration": 11318.88916015625,
      "end_time": 1614002013693.811
     }
    }
   },
   "outputs": [
    {
     "name": "stderr",
     "output_type": "stream",
     "text": [
      "                                                                                \r"
     ]
    }
   ],
   "source": [
    "tokenizer = Tokenizer(inputCol=\"review\", outputCol=\"words\")\n",
    "wordsData = tokenizer.transform(train)\n",
    "\n",
    "hashingTF = HashingTF(inputCol=\"words\", outputCol=\"rawFeatures\", numFeatures=2**23)\n",
    "featurizedData = hashingTF.transform(wordsData)\n",
    "idf = IDF(inputCol=\"rawFeatures\", outputCol=\"features\")\n",
    "idfModel = idf.fit(featurizedData)\n",
    "\n",
    "rescaledData = idfModel.transform(featurizedData)"
   ]
  },
  {
   "cell_type": "code",
   "execution_count": 8,
   "metadata": {
    "cell_status": {
     "execute_time": {
      "duration": 2270.119873046875,
      "end_time": 1614002015974.044
     }
    }
   },
   "outputs": [
    {
     "name": "stderr",
     "output_type": "stream",
     "text": [
      "2022-03-10 07:14:20,470 WARN scheduler.DAGScheduler: Broadcasting large task binary with size 128.1 MiB\n",
      "[Stage 3:>                                                          (0 + 2) / 2]\r"
     ]
    },
    {
     "name": "stdout",
     "output_type": "stream",
     "text": [
      "+---+-------------------+--------------------+--------------------+------+----------------+-----------+---------+--------------------+--------------------+--------------------+\n",
      "|_c0|           drugName|           condition|              review|rating|            date|usefulCount|ratingNum|               words|         rawFeatures|            features|\n",
      "+---+-------------------+--------------------+--------------------+------+----------------+-----------+---------+--------------------+--------------------+--------------------+\n",
      "| 10|Medroxyprogesterone|Abnormal Uterine ...|\"\"\"I&#039;m 17 ye...|   7.0|October 20, 2015|          2|        7|[\"\"\"i&#039;m, 17,...|(8388608,[18700,1...|(8388608,[18700,1...|\n",
      "+---+-------------------+--------------------+--------------------+------+----------------+-----------+---------+--------------------+--------------------+--------------------+\n",
      "\n"
     ]
    },
    {
     "name": "stderr",
     "output_type": "stream",
     "text": [
      "                                                                                \r"
     ]
    }
   ],
   "source": [
    "rescaledData.limit(1).show()"
   ]
  },
  {
   "cell_type": "code",
   "execution_count": 9,
   "metadata": {
    "cell_status": {
     "execute_time": {
      "duration": 1471.298828125,
      "end_time": 1614002017454.737
     }
    }
   },
   "outputs": [
    {
     "name": "stderr",
     "output_type": "stream",
     "text": [
      "                                                                                \r"
     ]
    }
   ],
   "source": [
    "stringIndexer = StringIndexer(inputCol='drugName', outputCol = \"drugIndex\").setHandleInvalid(\"skip\")\n",
    "encoder = OneHotEncoder(inputCol=\"drugIndex\", outputCol=\"drugVec\")\n",
    "\n",
    "pipeline = Pipeline(stages=[stringIndexer, encoder])\n",
    "ohe = pipeline.fit(rescaledData).transform(rescaledData)"
   ]
  },
  {
   "cell_type": "code",
   "execution_count": 10,
   "metadata": {
    "cell_status": {
     "execute_time": {
      "duration": 5661.347900390625,
      "end_time": 1614002023126.504
     }
    }
   },
   "outputs": [
    {
     "name": "stderr",
     "output_type": "stream",
     "text": [
      "2022-03-09 19:32:38,736 WARN scheduler.DAGScheduler: Broadcasting large task binary with size 128.4 MiB\n",
      "2022-03-09 19:32:39,856 WARN scheduler.DAGScheduler: Broadcasting large task binary with size 128.3 MiB\n",
      "                                                                                \r"
     ]
    },
    {
     "data": {
      "text/plain": [
       "Row(_c0='10', drugName='Medroxyprogesterone', condition='Abnormal Uterine Bleeding', review='\"\"\"I&#039;m 17 years old and I got shot in August 2015, personally. I don&#039;t mind it. I mean, I bleed little bits and random times, but I&#039;d rather have the blood that&#039;s supposed to come out, come out and not worry about where it&#039;s going or staying in my body. I have my other injection in November on the 2nd, and I&#039;m still wondering if I could take it again. The only downside to the injection is that I gained access weight and I&#039;m kind of moody.\"\"\"', rating='7.0', date='October 20, 2015', usefulCount=2, ratingNum=7, words=['\"\"\"i&#039;m', '17', 'years', 'old', 'and', 'i', 'got', 'shot', 'in', 'august', '2015,', 'personally.', 'i', 'don&#039;t', 'mind', 'it.', 'i', 'mean,', 'i', 'bleed', 'little', 'bits', 'and', 'random', 'times,', 'but', 'i&#039;d', 'rather', 'have', 'the', 'blood', 'that&#039;s', 'supposed', 'to', 'come', 'out,', 'come', 'out', 'and', 'not', 'worry', 'about', 'where', 'it&#039;s', 'going', 'or', 'staying', 'in', 'my', 'body.', 'i', 'have', 'my', 'other', 'injection', 'in', 'november', 'on', 'the', '2nd,', 'and', 'i&#039;m', 'still', 'wondering', 'if', 'i', 'could', 'take', 'it', 'again.', 'the', 'only', 'downside', 'to', 'the', 'injection', 'is', 'that', 'i', 'gained', 'access', 'weight', 'and', 'i&#039;m', 'kind', 'of', 'moody.\"\"\"'], rawFeatures=SparseVector(8388608, {18700: 1.0, 119453: 1.0, 181635: 1.0, 192185: 1.0, 338250: 1.0, 530945: 1.0, 582960: 1.0, 814008: 2.0, 834880: 1.0, 854204: 1.0, 862101: 1.0, 1089997: 1.0, 1166551: 1.0, 1230811: 1.0, 1641268: 1.0, 1668228: 1.0, 1937390: 1.0, 2128688: 1.0, 2225914: 1.0, 2390246: 1.0, 2430421: 1.0, 2504812: 1.0, 2764941: 1.0, 2797697: 1.0, 3100046: 1.0, 3179805: 2.0, 3207553: 1.0, 3213144: 1.0, 3441107: 1.0, 3449811: 1.0, 3612252: 2.0, 3745974: 1.0, 3788007: 1.0, 3977482: 1.0, 4228221: 1.0, 4323378: 1.0, 4678141: 1.0, 4682346: 1.0, 4697392: 2.0, 4737628: 7.0, 5420559: 1.0, 5548558: 1.0, 5600913: 4.0, 5835162: 1.0, 5846300: 1.0, 5863186: 1.0, 5878912: 1.0, 6187973: 1.0, 6213250: 1.0, 6355523: 2.0, 6544931: 2.0, 6661592: 1.0, 6714782: 1.0, 6922585: 1.0, 6928394: 1.0, 6986432: 1.0, 7121876: 1.0, 7133527: 1.0, 7133528: 1.0, 7319910: 1.0, 7387842: 1.0, 7700902: 1.0, 7853031: 3.0, 8083407: 1.0, 8346379: 5.0, 8364976: 1.0}), features=SparseVector(8388608, {18700: 1.3708, 119453: 1.6823, 181635: 1.5304, 192185: 4.725, 338250: 1.8185, 530945: 3.6078, 582960: 2.5339, 814008: 0.594, 834880: 0.9365, 854204: 8.7172, 862101: 3.0392, 1089997: 7.8598, 1166551: 4.3546, 1230811: 3.0535, 1641268: 2.2415, 1668228: 8.6483, 1937390: 2.4482, 2128688: 2.0705, 2225914: 5.1467, 2390246: 0.4121, 2430421: 1.9944, 2504812: 7.5277, 2764941: 2.1188, 2797697: 2.1983, 3100046: 3.8935, 3179805: 9.2831, 3207553: 5.4415, 3213144: 0.6937, 3441107: 6.5772, 3449811: 3.7408, 3612252: 7.2846, 3745974: 3.3705, 3788007: 3.1687, 3977482: 2.0784, 4228221: 0.7118, 4323378: 5.5157, 4678141: 1.0269, 4682346: 2.0248, 4697392: 0.6901, 4737628: 1.1522, 5420559: 5.0248, 5548558: 5.0302, 5600913: 0.9819, 5835162: 5.2879, 5846300: 4.4113, 5863186: 8.1374, 5878912: 1.7799, 6187973: 4.3437, 6213250: 1.8193, 6355523: 3.1389, 6544931: 1.168, 6661592: 5.3007, 6714782: 3.6156, 6922585: 0.8269, 6928394: 3.4247, 6986432: 4.3127, 7121876: 5.2229, 7133527: 1.5774, 7133528: 4.4988, 7319910: 2.4675, 7387842: 5.6393, 7700902: 4.6996, 7853031: 2.2952, 8083407: 0.5692, 8346379: 0.8799, 8364976: 8.1993}), drugIndex=13.0, drugVec=SparseVector(3492, {13: 1.0}))"
      ]
     },
     "execution_count": 10,
     "metadata": {},
     "output_type": "execute_result"
    }
   ],
   "source": [
    "x = ohe.limit(1).rdd.first()\n",
    "x"
   ]
  },
  {
   "cell_type": "code",
   "execution_count": 11,
   "metadata": {
    "cell_status": {
     "execute_time": {
      "duration": 57.4951171875,
      "end_time": 1614002050942.128
     }
    }
   },
   "outputs": [
    {
     "data": {
      "text/plain": [
       "SparseVector(3492, {13: 1.0})"
      ]
     },
     "execution_count": 11,
     "metadata": {},
     "output_type": "execute_result"
    }
   ],
   "source": [
    "x['drugVec']"
   ]
  },
  {
   "cell_type": "code",
   "execution_count": null,
   "metadata": {},
   "outputs": [],
   "source": []
  },
  {
   "cell_type": "markdown",
   "metadata": {},
   "source": [
    "Подготавливаем признаки"
   ]
  },
  {
   "cell_type": "code",
   "execution_count": 30,
   "metadata": {
    "cell_status": {
     "execute_time": {
      "duration": 1161.2451171875,
      "end_time": 1614002060570.721
     }
    }
   },
   "outputs": [],
   "source": [
    "wordsData = tokenizer.transform(train)\n",
    "\n",
    "tokenizer = Tokenizer(inputCol=\"review\", outputCol=\"words\")\n",
    "hashingTF = HashingTF(inputCol=\"words\", outputCol=\"rawFeatures\", numFeatures=2**23)\n",
    "idf = IDF(inputCol=\"rawFeatures\", outputCol=\"revviewFeatures\")\n",
    "\n",
    "stringIndexerCondition = StringIndexer(inputCol='condition', outputCol = \"conditionIndex\").setHandleInvalid(\"skip\")\n",
    "encoderCondition = OneHotEncoder(inputCol=\"conditionIndex\", outputCol=\"conditionVec\")\n",
    "\n",
    "stringIndexerDrug = StringIndexer(inputCol='drugName', outputCol = \"drugIndex\").setHandleInvalid(\"skip\")\n",
    "encoderDrug = OneHotEncoder(inputCol=\"drugIndex\", outputCol=\"drugVec\")\n",
    "\n",
    "assembler = VectorAssembler(inputCols=[\"drugVec\", \"conditionVec\", \"revviewFeatures\", 'ratingNum'], outputCol=\"features\")\n",
    "\n",
    "preproc = Pipeline(stages=[\n",
    "    tokenizer,\n",
    "    hashingTF,\n",
    "    idf,\n",
    "    stringIndexerCondition,\n",
    "    encoderCondition,\n",
    "    stringIndexerDrug,\n",
    "    encoderDrug,\n",
    "    assembler\n",
    "])"
   ]
  },
  {
   "cell_type": "code",
   "execution_count": 31,
   "metadata": {
    "cell_status": {
     "execute_time": {
      "duration": 390136.5959472656,
      "end_time": 1614002526825.782
     }
    }
   },
   "outputs": [
    {
     "name": "stderr",
     "output_type": "stream",
     "text": [
      "                                                                                \r"
     ]
    },
    {
     "ename": "KeyboardInterrupt",
     "evalue": "",
     "output_type": "error",
     "traceback": [
      "\u001b[0;31m---------------------------------------------------------------------------\u001b[0m",
      "\u001b[0;31mKeyboardInterrupt\u001b[0m                         Traceback (most recent call last)",
      "Input \u001b[0;32mIn [31]\u001b[0m, in \u001b[0;36m<module>\u001b[0;34m\u001b[0m\n\u001b[0;32m----> 1\u001b[0m train_proc \u001b[38;5;241m=\u001b[39m \u001b[43mpreproc\u001b[49m\u001b[38;5;241;43m.\u001b[39;49m\u001b[43mfit\u001b[49m\u001b[43m(\u001b[49m\u001b[43mtrain\u001b[49m\u001b[43m)\u001b[49m\u001b[38;5;241;43m.\u001b[39;49m\u001b[43mtransform\u001b[49m\u001b[43m(\u001b[49m\u001b[43mtrain\u001b[49m\u001b[43m)\u001b[49m\u001b[38;5;241m.\u001b[39mcache()\n",
      "File \u001b[0;32m/usr/lib/spark/python/pyspark/ml/base.py:170\u001b[0m, in \u001b[0;36mTransformer.transform\u001b[0;34m(self, dataset, params)\u001b[0m\n\u001b[1;32m    168\u001b[0m         \u001b[38;5;28;01mreturn\u001b[39;00m \u001b[38;5;28mself\u001b[39m\u001b[38;5;241m.\u001b[39mcopy(params)\u001b[38;5;241m.\u001b[39m_transform(dataset)\n\u001b[1;32m    169\u001b[0m     \u001b[38;5;28;01melse\u001b[39;00m:\n\u001b[0;32m--> 170\u001b[0m         \u001b[38;5;28;01mreturn\u001b[39;00m \u001b[38;5;28;43mself\u001b[39;49m\u001b[38;5;241;43m.\u001b[39;49m\u001b[43m_transform\u001b[49m\u001b[43m(\u001b[49m\u001b[43mdataset\u001b[49m\u001b[43m)\u001b[49m\n\u001b[1;32m    171\u001b[0m \u001b[38;5;28;01melse\u001b[39;00m:\n\u001b[1;32m    172\u001b[0m     \u001b[38;5;28;01mraise\u001b[39;00m \u001b[38;5;167;01mValueError\u001b[39;00m(\u001b[38;5;124m\"\u001b[39m\u001b[38;5;124mParams must be a param map but got \u001b[39m\u001b[38;5;132;01m%s\u001b[39;00m\u001b[38;5;124m.\u001b[39m\u001b[38;5;124m\"\u001b[39m \u001b[38;5;241m%\u001b[39m \u001b[38;5;28mtype\u001b[39m(params))\n",
      "File \u001b[0;32m/usr/lib/spark/python/pyspark/ml/pipeline.py:262\u001b[0m, in \u001b[0;36mPipelineModel._transform\u001b[0;34m(self, dataset)\u001b[0m\n\u001b[1;32m    260\u001b[0m \u001b[38;5;28;01mdef\u001b[39;00m \u001b[38;5;21m_transform\u001b[39m(\u001b[38;5;28mself\u001b[39m, dataset):\n\u001b[1;32m    261\u001b[0m     \u001b[38;5;28;01mfor\u001b[39;00m t \u001b[38;5;129;01min\u001b[39;00m \u001b[38;5;28mself\u001b[39m\u001b[38;5;241m.\u001b[39mstages:\n\u001b[0;32m--> 262\u001b[0m         dataset \u001b[38;5;241m=\u001b[39m \u001b[43mt\u001b[49m\u001b[38;5;241;43m.\u001b[39;49m\u001b[43mtransform\u001b[49m\u001b[43m(\u001b[49m\u001b[43mdataset\u001b[49m\u001b[43m)\u001b[49m\n\u001b[1;32m    263\u001b[0m     \u001b[38;5;28;01mreturn\u001b[39;00m dataset\n",
      "File \u001b[0;32m/usr/lib/spark/python/pyspark/ml/base.py:170\u001b[0m, in \u001b[0;36mTransformer.transform\u001b[0;34m(self, dataset, params)\u001b[0m\n\u001b[1;32m    168\u001b[0m         \u001b[38;5;28;01mreturn\u001b[39;00m \u001b[38;5;28mself\u001b[39m\u001b[38;5;241m.\u001b[39mcopy(params)\u001b[38;5;241m.\u001b[39m_transform(dataset)\n\u001b[1;32m    169\u001b[0m     \u001b[38;5;28;01melse\u001b[39;00m:\n\u001b[0;32m--> 170\u001b[0m         \u001b[38;5;28;01mreturn\u001b[39;00m \u001b[38;5;28;43mself\u001b[39;49m\u001b[38;5;241;43m.\u001b[39;49m\u001b[43m_transform\u001b[49m\u001b[43m(\u001b[49m\u001b[43mdataset\u001b[49m\u001b[43m)\u001b[49m\n\u001b[1;32m    171\u001b[0m \u001b[38;5;28;01melse\u001b[39;00m:\n\u001b[1;32m    172\u001b[0m     \u001b[38;5;28;01mraise\u001b[39;00m \u001b[38;5;167;01mValueError\u001b[39;00m(\u001b[38;5;124m\"\u001b[39m\u001b[38;5;124mParams must be a param map but got \u001b[39m\u001b[38;5;132;01m%s\u001b[39;00m\u001b[38;5;124m.\u001b[39m\u001b[38;5;124m\"\u001b[39m \u001b[38;5;241m%\u001b[39m \u001b[38;5;28mtype\u001b[39m(params))\n",
      "File \u001b[0;32m/usr/lib/spark/python/pyspark/ml/wrapper.py:338\u001b[0m, in \u001b[0;36mJavaTransformer._transform\u001b[0;34m(self, dataset)\u001b[0m\n\u001b[1;32m    336\u001b[0m \u001b[38;5;28;01mdef\u001b[39;00m \u001b[38;5;21m_transform\u001b[39m(\u001b[38;5;28mself\u001b[39m, dataset):\n\u001b[1;32m    337\u001b[0m     \u001b[38;5;28mself\u001b[39m\u001b[38;5;241m.\u001b[39m_transfer_params_to_java()\n\u001b[0;32m--> 338\u001b[0m     \u001b[38;5;28;01mreturn\u001b[39;00m DataFrame(\u001b[38;5;28;43mself\u001b[39;49m\u001b[38;5;241;43m.\u001b[39;49m\u001b[43m_java_obj\u001b[49m\u001b[38;5;241;43m.\u001b[39;49m\u001b[43mtransform\u001b[49m\u001b[43m(\u001b[49m\u001b[43mdataset\u001b[49m\u001b[38;5;241;43m.\u001b[39;49m\u001b[43m_jdf\u001b[49m\u001b[43m)\u001b[49m, dataset\u001b[38;5;241m.\u001b[39msql_ctx)\n",
      "File \u001b[0;32m/usr/lib/spark/python/lib/py4j-0.10.9-src.zip/py4j/java_gateway.py:1303\u001b[0m, in \u001b[0;36mJavaMember.__call__\u001b[0;34m(self, *args)\u001b[0m\n\u001b[1;32m   1296\u001b[0m args_command, temp_args \u001b[38;5;241m=\u001b[39m \u001b[38;5;28mself\u001b[39m\u001b[38;5;241m.\u001b[39m_build_args(\u001b[38;5;241m*\u001b[39margs)\n\u001b[1;32m   1298\u001b[0m command \u001b[38;5;241m=\u001b[39m proto\u001b[38;5;241m.\u001b[39mCALL_COMMAND_NAME \u001b[38;5;241m+\u001b[39m\\\n\u001b[1;32m   1299\u001b[0m     \u001b[38;5;28mself\u001b[39m\u001b[38;5;241m.\u001b[39mcommand_header \u001b[38;5;241m+\u001b[39m\\\n\u001b[1;32m   1300\u001b[0m     args_command \u001b[38;5;241m+\u001b[39m\\\n\u001b[1;32m   1301\u001b[0m     proto\u001b[38;5;241m.\u001b[39mEND_COMMAND_PART\n\u001b[0;32m-> 1303\u001b[0m answer \u001b[38;5;241m=\u001b[39m \u001b[38;5;28;43mself\u001b[39;49m\u001b[38;5;241;43m.\u001b[39;49m\u001b[43mgateway_client\u001b[49m\u001b[38;5;241;43m.\u001b[39;49m\u001b[43msend_command\u001b[49m\u001b[43m(\u001b[49m\u001b[43mcommand\u001b[49m\u001b[43m)\u001b[49m\n\u001b[1;32m   1304\u001b[0m return_value \u001b[38;5;241m=\u001b[39m get_return_value(\n\u001b[1;32m   1305\u001b[0m     answer, \u001b[38;5;28mself\u001b[39m\u001b[38;5;241m.\u001b[39mgateway_client, \u001b[38;5;28mself\u001b[39m\u001b[38;5;241m.\u001b[39mtarget_id, \u001b[38;5;28mself\u001b[39m\u001b[38;5;241m.\u001b[39mname)\n\u001b[1;32m   1307\u001b[0m \u001b[38;5;28;01mfor\u001b[39;00m temp_arg \u001b[38;5;129;01min\u001b[39;00m temp_args:\n",
      "File \u001b[0;32m/usr/lib/spark/python/lib/py4j-0.10.9-src.zip/py4j/java_gateway.py:1033\u001b[0m, in \u001b[0;36mGatewayClient.send_command\u001b[0;34m(self, command, retry, binary)\u001b[0m\n\u001b[1;32m   1031\u001b[0m connection \u001b[38;5;241m=\u001b[39m \u001b[38;5;28mself\u001b[39m\u001b[38;5;241m.\u001b[39m_get_connection()\n\u001b[1;32m   1032\u001b[0m \u001b[38;5;28;01mtry\u001b[39;00m:\n\u001b[0;32m-> 1033\u001b[0m     response \u001b[38;5;241m=\u001b[39m \u001b[43mconnection\u001b[49m\u001b[38;5;241;43m.\u001b[39;49m\u001b[43msend_command\u001b[49m\u001b[43m(\u001b[49m\u001b[43mcommand\u001b[49m\u001b[43m)\u001b[49m\n\u001b[1;32m   1034\u001b[0m     \u001b[38;5;28;01mif\u001b[39;00m binary:\n\u001b[1;32m   1035\u001b[0m         \u001b[38;5;28;01mreturn\u001b[39;00m response, \u001b[38;5;28mself\u001b[39m\u001b[38;5;241m.\u001b[39m_create_connection_guard(connection)\n",
      "File \u001b[0;32m/usr/lib/spark/python/lib/py4j-0.10.9-src.zip/py4j/java_gateway.py:1200\u001b[0m, in \u001b[0;36mGatewayConnection.send_command\u001b[0;34m(self, command)\u001b[0m\n\u001b[1;32m   1196\u001b[0m     \u001b[38;5;28;01mraise\u001b[39;00m Py4JNetworkError(\n\u001b[1;32m   1197\u001b[0m         \u001b[38;5;124m\"\u001b[39m\u001b[38;5;124mError while sending\u001b[39m\u001b[38;5;124m\"\u001b[39m, e, proto\u001b[38;5;241m.\u001b[39mERROR_ON_SEND)\n\u001b[1;32m   1199\u001b[0m \u001b[38;5;28;01mtry\u001b[39;00m:\n\u001b[0;32m-> 1200\u001b[0m     answer \u001b[38;5;241m=\u001b[39m smart_decode(\u001b[38;5;28;43mself\u001b[39;49m\u001b[38;5;241;43m.\u001b[39;49m\u001b[43mstream\u001b[49m\u001b[38;5;241;43m.\u001b[39;49m\u001b[43mreadline\u001b[49m\u001b[43m(\u001b[49m\u001b[43m)\u001b[49m[:\u001b[38;5;241m-\u001b[39m\u001b[38;5;241m1\u001b[39m])\n\u001b[1;32m   1201\u001b[0m     logger\u001b[38;5;241m.\u001b[39mdebug(\u001b[38;5;124m\"\u001b[39m\u001b[38;5;124mAnswer received: \u001b[39m\u001b[38;5;132;01m{0}\u001b[39;00m\u001b[38;5;124m\"\u001b[39m\u001b[38;5;241m.\u001b[39mformat(answer))\n\u001b[1;32m   1202\u001b[0m     \u001b[38;5;28;01mif\u001b[39;00m answer\u001b[38;5;241m.\u001b[39mstartswith(proto\u001b[38;5;241m.\u001b[39mRETURN_MESSAGE):\n",
      "File \u001b[0;32m/opt/conda/lib/python3.8/socket.py:669\u001b[0m, in \u001b[0;36mSocketIO.readinto\u001b[0;34m(self, b)\u001b[0m\n\u001b[1;32m    667\u001b[0m \u001b[38;5;28;01mwhile\u001b[39;00m \u001b[38;5;28;01mTrue\u001b[39;00m:\n\u001b[1;32m    668\u001b[0m     \u001b[38;5;28;01mtry\u001b[39;00m:\n\u001b[0;32m--> 669\u001b[0m         \u001b[38;5;28;01mreturn\u001b[39;00m \u001b[38;5;28;43mself\u001b[39;49m\u001b[38;5;241;43m.\u001b[39;49m\u001b[43m_sock\u001b[49m\u001b[38;5;241;43m.\u001b[39;49m\u001b[43mrecv_into\u001b[49m\u001b[43m(\u001b[49m\u001b[43mb\u001b[49m\u001b[43m)\u001b[49m\n\u001b[1;32m    670\u001b[0m     \u001b[38;5;28;01mexcept\u001b[39;00m timeout:\n\u001b[1;32m    671\u001b[0m         \u001b[38;5;28mself\u001b[39m\u001b[38;5;241m.\u001b[39m_timeout_occurred \u001b[38;5;241m=\u001b[39m \u001b[38;5;28;01mTrue\u001b[39;00m\n",
      "\u001b[0;31mKeyboardInterrupt\u001b[0m: "
     ]
    }
   ],
   "source": [
    "train_proc = preproc.fit(train).transform(train).cache()"
   ]
  },
  {
   "cell_type": "code",
   "execution_count": null,
   "metadata": {
    "cell_status": {
     "execute_time": {
      "duration": 37.211181640625,
      "end_time": 1614002117596.296
     }
    }
   },
   "outputs": [],
   "source": [
    "train_proc.show()"
   ]
  },
  {
   "cell_type": "code",
   "execution_count": null,
   "metadata": {
    "collapsed": true
   },
   "outputs": [],
   "source": []
  },
  {
   "cell_type": "code",
   "execution_count": 12,
   "metadata": {
    "cell_status": {
     "execute_time": {
      "duration": 258.18994140625,
      "end_time": 1614003221877.417
     }
    }
   },
   "outputs": [],
   "source": [
    "tokenizer = Tokenizer(inputCol=\"review\", outputCol=\"words\")\n",
    "hashingTF = HashingTF(inputCol=\"words\", outputCol=\"rawFeatures\", numFeatures=2**23)\n",
    "idf = IDF(inputCol=\"rawFeatures\", outputCol=\"revviewFeatures\")\n",
    "\n",
    "preproc = Pipeline(stages=[\n",
    "    tokenizer,\n",
    "    hashingTF,\n",
    "    idf\n",
    "])"
   ]
  },
  {
   "cell_type": "markdown",
   "metadata": {},
   "source": [
    "Запустить сбор признаков, который написан, у вас скорее всего не получится. Поэтому попробуем урезать количество вычислений - может быть получится."
   ]
  },
  {
   "cell_type": "code",
   "execution_count": 9,
   "metadata": {
    "cell_status": {
     "execute_time": {
      "duration": 254.76513671875,
      "end_time": 1614008109896.306
     }
    }
   },
   "outputs": [],
   "source": [
    "stringIndexerCondition = StringIndexer(inputCol='condition', outputCol = \"conditionIndex\").setHandleInvalid(\"skip\")\n",
    "encoderCondition = OneHotEncoder(inputCol=\"conditionIndex\", outputCol=\"conditionVec\")\n",
    "\n",
    "stringIndexerDrug = StringIndexer(inputCol='drugName', outputCol = \"drugIndex\").setHandleInvalid(\"skip\")\n",
    "encoderDrug = OneHotEncoder(inputCol=\"drugIndex\", outputCol=\"drugVec\")\n",
    "\n",
    "assembler = VectorAssembler(inputCols=[\"drugVec\", \"conditionVec\", 'ratingNum'], outputCol=\"features\")\n",
    "\n",
    "\n",
    "preproc = Pipeline(stages=[\n",
    "    stringIndexerCondition,\n",
    "    encoderCondition,\n",
    "    stringIndexerDrug,\n",
    "    encoderDrug,\n",
    "    assembler\n",
    "])"
   ]
  },
  {
   "cell_type": "code",
   "execution_count": 10,
   "metadata": {
    "cell_status": {
     "execute_time": {
      "duration": 5316.071044921875,
      "end_time": 1614008115227.569
     }
    }
   },
   "outputs": [
    {
     "name": "stderr",
     "output_type": "stream",
     "text": [
      "                                                                                \r"
     ]
    }
   ],
   "source": [
    "preproc = preproc.fit(data)"
   ]
  },
  {
   "cell_type": "code",
   "execution_count": 11,
   "metadata": {
    "cell_status": {
     "execute_time": {
      "duration": 756.6298828125,
      "end_time": 1614008115996.191
     }
    }
   },
   "outputs": [],
   "source": [
    "train_proc = preproc.transform(train).cache()\n",
    "test_proc = preproc.transform(test).cache()"
   ]
  },
  {
   "cell_type": "code",
   "execution_count": 12,
   "metadata": {
    "cell_status": {
     "execute_time": {
      "duration": 3277.0419921875,
      "end_time": 1614008119284.472
     }
    }
   },
   "outputs": [
    {
     "name": "stderr",
     "output_type": "stream",
     "text": [
      "[Stage 9:>                                                          (0 + 1) / 1]\r"
     ]
    },
    {
     "name": "stdout",
     "output_type": "stream",
     "text": [
      "+------+--------------------+--------------------+--------------------+------+------------------+-----------+---------+--------------+----------------+---------+-------------------+--------------------+\n",
      "|   _c0|            drugName|           condition|              review|rating|              date|usefulCount|ratingNum|conditionIndex|    conditionVec|drugIndex|            drugVec|            features|\n",
      "+------+--------------------+--------------------+--------------------+------+------------------+-----------+---------+--------------+----------------+---------+-------------------+--------------------+\n",
      "|    10| Medroxyprogesterone|Abnormal Uterine ...|\"\"\"I&#039;m 17 ye...|   7.0|  October 20, 2015|          2|        7|          14.0|(896,[14],[1.0])|     14.0|  (3572,[14],[1.0])|(4469,[14,3586,44...|\n",
      "|  1000|          Everolimus|        Breast Cance|\"\"\"Although the m...|   2.0|    March 15, 2016|          4|        2|          83.0|(896,[83],[1.0])|   1379.0|(3572,[1379],[1.0])|(4469,[1379,3655,...|\n",
      "| 10000|      Lo Loestrin Fe|       Birth Control|\"\"\"I was on this ...|   7.0|    April 10, 2013|          4|        7|           0.0| (896,[0],[1.0])|     35.0|  (3572,[35],[1.0])|(4469,[35,3572,44...|\n",
      "|100004|Desogestrel / eth...|       Birth Control|\"\"\"I have been ta...|   8.0|     July 11, 2017|          1|        8|           0.0| (896,[0],[1.0])|     60.0|  (3572,[60],[1.0])|(4469,[60,3572,44...|\n",
      "|100007|Desogestrel / eth...|       Birth Control|\"\"\"At the beginni...|   5.0|     June 29, 2017|          0|        5|           0.0| (896,[0],[1.0])|     60.0|  (3572,[60],[1.0])|(4469,[60,3572,44...|\n",
      "|100008|Desogestrel / eth...|       Birth Control|\"\"\"This is yet an...|   1.0|     June 28, 2017|          0|        1|           0.0| (896,[0],[1.0])|     60.0|  (3572,[60],[1.0])|(4469,[60,3572,44...|\n",
      "|100009|Desogestrel / eth...|       Birth Control|\"\"\"I was on recli...|   1.0|     June 28, 2017|          2|        1|           0.0| (896,[0],[1.0])|     60.0|  (3572,[60],[1.0])|(4469,[60,3572,44...|\n",
      "|100011|Desogestrel / eth...|       Birth Control|\"\"\"I have been on...|   8.0|     June 19, 2017|          3|        8|           0.0| (896,[0],[1.0])|     60.0|  (3572,[60],[1.0])|(4469,[60,3572,44...|\n",
      "|100012|Desogestrel / eth...|       Birth Control|\"\"\"I&#039;ve been...|   9.0|     June 17, 2017|          2|        9|           0.0| (896,[0],[1.0])|     60.0|  (3572,[60],[1.0])|(4469,[60,3572,44...|\n",
      "|100013|Desogestrel / eth...|       Birth Control|\"\"\"Gives me heart...|   2.0|      June 8, 2017|          1|        2|           0.0| (896,[0],[1.0])|     60.0|  (3572,[60],[1.0])|(4469,[60,3572,44...|\n",
      "|100014|Desogestrel / eth...|       Birth Control|\"\"\"After 3 days o...|   3.0|      June 7, 2017|          1|        3|           0.0| (896,[0],[1.0])|     60.0|  (3572,[60],[1.0])|(4469,[60,3572,44...|\n",
      "|100027|Desogestrel / eth...|       Birth Control|\"\"\"This birth con...|   1.0|       May 9, 2017|          3|        1|           0.0| (896,[0],[1.0])|     60.0|  (3572,[60],[1.0])|(4469,[60,3572,44...|\n",
      "|100029|Desogestrel / eth...|       Birth Control|\"\"\"I was switched...|   5.0|  December 6, 2017|          0|        5|           0.0| (896,[0],[1.0])|     60.0|  (3572,[60],[1.0])|(4469,[60,3572,44...|\n",
      "|100032|Desogestrel / eth...|       Birth Control|\"\"\"Nonstop spotti...|   1.0|  December 2, 2017|          0|        1|           0.0| (896,[0],[1.0])|     60.0|  (3572,[60],[1.0])|(4469,[60,3572,44...|\n",
      "| 10004|      Lo Loestrin Fe|       Birth Control|\"\"\"I&#039;m 41, u...|   2.0|    March 31, 2013|         12|        2|           0.0| (896,[0],[1.0])|     35.0|  (3572,[35],[1.0])|(4469,[35,3572,44...|\n",
      "|100045|Desogestrel / eth...|       Birth Control|\"\"\"I was on Ortho...|  10.0|  October 12, 2017|          0|       10|           0.0| (896,[0],[1.0])|     60.0|  (3572,[60],[1.0])|(4469,[60,3572,44...|\n",
      "| 10005|      Lo Loestrin Fe|       Birth Control|\"\"\"I have been ta...|   8.0|    March 28, 2013|         40|        8|           0.0| (896,[0],[1.0])|     35.0|  (3572,[35],[1.0])|(4469,[35,3572,44...|\n",
      "|100050|Desogestrel / eth...|       Birth Control|\"\"\"I&#039;ve been...|  10.0|September 13, 2017|          3|       10|           0.0| (896,[0],[1.0])|     60.0|  (3572,[60],[1.0])|(4469,[60,3572,44...|\n",
      "|100051|Desogestrel / eth...|       Birth Control|\"\"\"I&#039;m 22 an...|  10.0|September 12, 2017|          0|       10|           0.0| (896,[0],[1.0])|     60.0|  (3572,[60],[1.0])|(4469,[60,3572,44...|\n",
      "|100055|Desogestrel / eth...|       Birth Control|\"\"\"I was on Apri ...|   5.0|       May 2, 2017|          1|        5|           0.0| (896,[0],[1.0])|     60.0|  (3572,[60],[1.0])|(4469,[60,3572,44...|\n",
      "+------+--------------------+--------------------+--------------------+------+------------------+-----------+---------+--------------+----------------+---------+-------------------+--------------------+\n",
      "only showing top 20 rows\n",
      "\n"
     ]
    },
    {
     "name": "stderr",
     "output_type": "stream",
     "text": [
      "                                                                                \r"
     ]
    }
   ],
   "source": [
    "train_proc.show()"
   ]
  },
  {
   "cell_type": "code",
   "execution_count": 13,
   "metadata": {},
   "outputs": [
    {
     "name": "stderr",
     "output_type": "stream",
     "text": [
      "                                                                                \r"
     ]
    },
    {
     "data": {
      "text/plain": [
       "Row(_c0='10', drugName='Medroxyprogesterone', condition='Abnormal Uterine Bleeding', review='\"\"\"I&#039;m 17 years old and I got shot in August 2015, personally. I don&#039;t mind it. I mean, I bleed little bits and random times, but I&#039;d rather have the blood that&#039;s supposed to come out, come out and not worry about where it&#039;s going or staying in my body. I have my other injection in November on the 2nd, and I&#039;m still wondering if I could take it again. The only downside to the injection is that I gained access weight and I&#039;m kind of moody.\"\"\"', rating='7.0', date='October 20, 2015', usefulCount=2, ratingNum=7, conditionIndex=14.0, conditionVec=SparseVector(896, {14: 1.0}), drugIndex=14.0, drugVec=SparseVector(3572, {14: 1.0}), features=SparseVector(4469, {14: 1.0, 3586: 1.0, 4468: 7.0}))"
      ]
     },
     "execution_count": 13,
     "metadata": {},
     "output_type": "execute_result"
    }
   ],
   "source": [
    "train_proc.rdd.first()"
   ]
  },
  {
   "cell_type": "markdown",
   "metadata": {},
   "source": [
    "Если все таки удалось собрать датасет, то запускаем линейную регрессию"
   ]
  },
  {
   "cell_type": "code",
   "execution_count": 14,
   "metadata": {
    "cell_status": {
     "execute_time": {
      "duration": 246.6259765625,
      "end_time": 1614008119542.424
     }
    }
   },
   "outputs": [],
   "source": [
    "lr = LinearRegression(featuresCol='features', labelCol='usefulCount', maxIter=10, regParam=0.3, elasticNetParam=0.8)"
   ]
  },
  {
   "cell_type": "code",
   "execution_count": 15,
   "metadata": {
    "cell_status": {
     "execute_time": {
      "duration": 13373.862060546875,
      "end_time": 1614008132927.959
     }
    }
   },
   "outputs": [
    {
     "name": "stderr",
     "output_type": "stream",
     "text": [
      "2022-03-10 07:17:45,095 WARN netlib.BLAS: Failed to load implementation from: com.github.fommil.netlib.NativeSystemBLAS\n",
      "2022-03-10 07:17:45,097 WARN netlib.BLAS: Failed to load implementation from: com.github.fommil.netlib.NativeRefBLAS\n"
     ]
    }
   ],
   "source": [
    "lrModel = lr.fit(train_proc)"
   ]
  },
  {
   "cell_type": "code",
   "execution_count": 16,
   "metadata": {
    "cell_status": {
     "execute_time": {
      "duration": 264.359130859375,
      "end_time": 1614008133204.069
     }
    }
   },
   "outputs": [
    {
     "data": {
      "text/plain": [
       "SparseVector(4469, {0: -1.5396, 7: 0.6016, 8: -2.2478, 11: 18.5525, 12: -2.6516, 13: 6.3993, 15: -4.2273, 17: 2.2721, 18: 2.7929, 19: -4.6926, 20: -1.8025, 22: -1.4182, 24: 1.5974, 25: 5.6574, 27: -3.6162, 28: 14.7229, 30: -2.1567, 31: -6.25, 32: 4.1213, 33: -0.733, 34: -1.3478, 36: 16.8292, 37: -2.0554, 42: -1.3523, 43: 8.9463, 44: 16.5407, 45: 7.6053, 46: -4.8076, 47: 19.9402, 49: 1.5438, 51: 21.3003, 54: -3.1937, 57: -0.3751, 59: 3.3786, 61: -7.7252, 63: 17.8873, 64: 3.3672, 68: -7.1302, 69: 4.5331, 73: 1.5355, 74: 22.0911, 75: 10.1474, 77: 12.5425, 82: 0.837, 83: 10.9366, 85: 0.745, 88: -1.6474, 89: -1.2763, 91: 3.3217, 94: -4.1866, 97: 8.6183, 101: 5.3111, 104: 7.3622, 106: 15.4524, 107: -1.2783, 109: 12.6343, 110: 21.9048, 111: 8.4787, 113: -5.7946, 116: 1.2026, 118: 15.4499, 119: 3.2374, 120: 6.8017, 122: 7.03, 123: 10.7318, 124: 26.3091, 126: -0.7743, 132: 1.4863, 139: -0.3653, 140: 3.7497, 142: -0.4101, 143: 34.2557, 145: 14.5784, 146: 14.928, 149: 5.9699, 152: 5.5148, 153: 6.2735, 157: 2.0887, 158: 0.8463, 159: 1.4041, 162: 0.9508, 163: 5.3233, 164: -2.3642, 166: 1.4825, 169: 5.5133, 179: 0.9408, 180: 0.0411, 181: 28.7637, 184: -0.2251, 185: 8.9091, 192: 22.41, 196: -2.5467, 199: 0.6911, 206: 5.5639, 210: 11.1281, 211: -7.4094, 212: 27.723, 214: 0.8553, 216: 1.7851, 219: -0.573, 221: -1.0863, 223: 4.9336, 227: 16.3589, 231: 4.1338, 233: 0.204, 234: 27.2621, 237: 8.9564, 240: 17.8839, 246: -1.6676, 247: 4.617, 248: 4.1726, 249: 5.1141, 252: 0.0962, 253: 5.7131, 254: 17.3257, 257: 7.5361, 258: 5.0471, 260: 34.9096, 273: 23.3298, 275: 6.269, 278: 7.6876, 290: 41.9596, 291: 14.9342, 293: 1.4005, 295: 3.1173, 297: 21.8817, 298: -1.0684, 301: 12.535, 302: 7.7762, 304: 6.1817, 306: -2.6167, 307: 14.9919, 309: 13.9212, 310: 12.8663, 311: 6.822, 312: 14.2886, 315: 1.4691, 317: -1.9516, 324: 18.6306, 325: 3.17, 327: 8.0196, 335: 20.5054, 339: 1.4472, 340: 0.634, 343: 0.8972, 346: 7.0568, 351: 0.2932, 352: 13.7115, 355: 4.9682, 359: 1.6024, 376: 7.6466, 377: 13.6648, 381: -1.1039, 387: 31.0928, 388: 29.2359, 394: 6.9738, 397: 1.0517, 399: 21.0651, 401: -2.0643, 402: -5.0537, 404: -2.7021, 406: 4.2795, 408: 8.6579, 410: 6.1314, 414: 1.7612, 415: 8.8533, 431: 6.1299, 448: 2.5888, 450: 8.2269, 460: 16.2139, 461: 24.257, 463: -0.7214, 464: 15.2166, 469: 4.3738, 473: 29.4053, 482: 4.0464, 485: 9.9629, 488: 12.7468, 489: 9.7767, 490: 31.1093, 494: 31.2244, 496: 1.569, 503: 19.7527, 504: 9.9589, 516: 12.118, 521: 8.7054, 526: 21.2673, 527: 16.1794, 534: 13.299, 537: -5.3797, 541: 17.66, 543: 32.6435, 545: 10.889, 551: 36.8534, 554: 12.2555, 565: 0.5656, 571: 14.9653, 573: -2.6488, 578: 11.9869, 579: 20.1364, 581: 41.7811, 594: 1.7498, 596: 50.1646, 599: -3.325, 604: 13.3112, 607: 56.9094, 608: 9.2681, 615: 27.3418, 617: -7.2131, 618: -6.6723, 619: -4.3234, 620: 9.1203, 623: 7.1445, 629: -4.1843, 641: 13.1282, 642: 0.1189, 645: 13.7873, 647: 15.8802, 653: 23.25, 658: 3.0711, 661: 5.7324, 665: 52.4924, 666: 0.5223, 670: 36.9077, 674: 30.2, 676: 5.868, 677: 45.4242, 686: 14.2353, 691: 15.7064, 695: 1.777, 696: -4.5709, 697: 19.4632, 707: 7.3965, 708: 3.1217, 713: 35.5929, 714: 4.5367, 715: 6.9793, 716: 10.069, 719: 12.08, 734: 30.291, 736: 9.686, 742: 7.1839, 747: 65.3427, 749: 9.4966, 753: 4.3933, 757: 44.2903, 762: 1.6162, 767: 17.5862, 769: 8.7147, 772: 4.5048, 773: 3.4939, 780: 1.6903, 789: 21.1582, 803: 25.3069, 814: 22.8852, 816: 18.2893, 818: 28.8024, 821: 10.5575, 824: 8.4987, 826: 3.1746, 830: 2.647, 846: 9.5078, 852: -0.8376, 862: 7.1203, 865: 1.1642, 885: 14.6741, 888: 34.8214, 889: 10.9084, 896: -3.402, 899: 24.0781, 906: 10.7606, 909: 9.0393, 913: 14.6869, 915: 37.1833, 921: 7.9807, 934: 37.4829, 940: 29.3355, 947: 24.513, 950: 0.9197, 955: 33.8026, 956: 7.8964, 995: -6.6518, 998: 13.5811, 999: -2.2529, 1006: 4.4875, 1011: 5.2573, 1012: -0.3717, 1034: 35.3653, 1037: 9.3473, 1042: 28.5603, 1059: -2.1428, 1060: 6.1481, 1067: 39.6053, 1070: -1.7128, 1090: 11.9855, 1094: 3.3613, 1106: 47.375, 1115: -0.5445, 1119: -2.2973, 1130: 10.4524, 1150: 0.3054, 1183: 6.8031, 1191: 25.0436, 1198: 15.4916, 1228: 16.237, 1231: 12.3282, 1245: -1.2788, 1264: 26.5981, 1288: 8.5237, 1294: 10.5239, 1309: 8.7279, 1323: 95.016, 1349: 24.0438, 1360: 4.3211, 1419: 4.6932, 1432: -2.0493, 1442: 19.8281, 1489: 12.7824, 1491: -1.8191, 1501: 19.7405, 1520: 29.0613, 1557: 2.7116, 1574: 32.6593, 1613: -1.3364, 1674: 47.3162, 1677: 28.9377, 1935: 13.7606, 2185: 8.673, 2196: 49.9157, 2355: 19.7857, 2381: 44.8812, 2489: 30.0832, 2698: 39.4247, 3472: 23.9858, 3572: -14.7897, 3573: 21.6433, 3574: 4.2944, 3575: 17.9624, 3576: -9.1173, 3577: 6.5187, 3578: 7.199, 3579: 3.7825, 3580: 6.0245, 3581: 7.1086, 3582: -11.1126, 3583: 0.296, 3584: 15.2323, 3585: -4.7187, 3586: -4.5101, 3587: 12.206, 3588: -3.6739, 3589: -8.0156, 3590: -13.7724, 3591: 28.9721, 3594: 9.1087, 3595: 8.3649, 3596: -0.65, 3597: 2.1041, 3598: 13.0378, 3599: 10.4582, 3600: 1.8102, 3601: 18.891, 3602: 22.2763, 3603: -5.6171, 3604: 15.6747, 3605: 1.9019, 3606: -4.4697, 3609: -2.406, 3610: 0.136, 3611: -14.1601, 3612: 9.9517, 3613: 8.0, 3614: 2.6486, 3616: -0.2613, 3617: 20.6923, 3618: 1.7365, 3619: -12.0206, 3620: 9.6735, 3622: -4.6016, 3623: 11.7143, 3625: -3.6691, 3628: 29.0361, 3630: 3.2614, 3631: -4.6312, 3633: -18.4421, 3634: 28.063, 3635: -0.8008, 3636: 5.6983, 3637: -5.6007, 3639: -7.6502, 3640: 36.0385, 3641: -7.4841, 3642: -9.4398, 3643: -6.0062, 3644: 7.8118, 3645: -6.7102, 3647: 21.3086, 3648: 40.8453, 3651: 8.3729, 3652: -8.1201, 3655: 27.7309, 3656: -2.7866, 3658: -12.4132, 3659: -5.1111, 3662: 16.3421, 3664: 9.1113, 3665: -0.8714, 3666: -0.3918, 3668: 13.7298, 3670: -0.873, 3676: 7.6271, 3679: 0.7988, 3680: 15.5023, 3684: -6.1633, 3685: -2.9896, 3686: 8.9649, 3687: 4.0779, 3688: -1.0872, 3690: -4.1314, 3691: 4.9967, 3692: -1.2995, 3693: 10.6916, 3694: -8.7219, 3695: 9.2784, 3696: 8.5507, 3697: -1.9301, 3700: -0.1891, 3701: 1.3063, 3703: 11.1939, 3704: -2.9273, 3706: 10.5538, 3707: -12.1004, 3710: -10.5052, 3712: 13.5971, 3714: 2.6978, 3716: 7.1626, 3717: -14.0048, 3718: 4.9766, 3719: -5.3874, 3723: 13.7997, 3724: -2.4931, 3726: 22.8482, 3727: 2.4067, 3728: 3.976, 3730: 14.824, 3731: 12.6678, 3732: 15.8856, 3735: -12.4143, 3740: 6.5088, 3743: 21.5282, 3744: -11.7114, 3748: 5.0703, 3751: -4.4184, 3752: -9.3167, 3754: -10.8993, 3755: 6.7709, 3761: -10.6818, 3765: -1.2042, 3766: -1.1931, 3767: -1.0235, 3770: -2.8379, 3774: 3.2064, 3775: 16.0723, 3776: -9.4979, 3777: -4.0906, 3781: 1.4483, 3785: -1.9951, 3788: 9.3074, 3790: 23.0155, 3797: -11.4951, 3801: -8.8016, 3804: -2.4743, 3806: 5.9184, 3807: -6.0414, 3808: -0.2405, 3810: -1.4474, 3812: 2.37, 3816: 5.691, 3819: -6.8752, 3825: -3.6102, 3831: -2.9922, 3837: 20.3993, 3841: -3.8665, 3844: -0.1823, 3845: -3.7069, 3852: -0.3894, 3859: -0.693, 3862: -1.1833, 3872: -15.2952, 3882: 12.3754, 3899: -2.7599, 3905: -3.066, 3916: -1.1952, 3919: -1.7489, 3921: 1.0291, 3937: 31.5558, 3992: 6.2722, 4241: 5.5022, 4468: 2.165})"
      ]
     },
     "execution_count": 16,
     "metadata": {},
     "output_type": "execute_result"
    }
   ],
   "source": [
    "lrModel.coefficients"
   ]
  },
  {
   "cell_type": "code",
   "execution_count": 17,
   "metadata": {
    "cell_status": {
     "execute_time": {
      "duration": 249.432861328125,
      "end_time": 1614008133464.818
     }
    }
   },
   "outputs": [],
   "source": [
    "from pyspark.ml.evaluation import RegressionEvaluator\n",
    "\n",
    "predictions = lrModel.transform(test_proc)"
   ]
  },
  {
   "cell_type": "code",
   "execution_count": 18,
   "metadata": {
    "cell_status": {
     "execute_time": {
      "duration": 2274.383056640625,
      "end_time": 1614008135751.993
     }
    }
   },
   "outputs": [
    {
     "name": "stderr",
     "output_type": "stream",
     "text": [
      "[Stage 28:>                                                         (0 + 1) / 1]\r"
     ]
    },
    {
     "name": "stdout",
     "output_type": "stream",
     "text": [
      "+------+--------------------+-------------+--------------------+------+------------------+-----------+---------+--------------+---------------+---------+-----------------+--------------------+-------------------+\n",
      "|   _c0|            drugName|    condition|              review|rating|              date|usefulCount|ratingNum|conditionIndex|   conditionVec|drugIndex|          drugVec|            features|         prediction|\n",
      "+------+--------------------+-------------+--------------------+------+------------------+-----------+---------+--------------+---------------+---------+-----------------+--------------------+-------------------+\n",
      "|   100| Medroxyprogesterone|Birth Control|\"\"\"Depo was not f...|   5.0|   August 17, 2015|          2|        5|           0.0|(896,[0],[1.0])|     14.0|(3572,[14],[1.0])|(4469,[14,3572,44...|  6.099772128001648|\n",
      "|100002|Desogestrel / eth...|Birth Control|\"\"\"I have been ta...|   4.0|     July 12, 2017|          2|        4|           0.0|(896,[0],[1.0])|     60.0|(3572,[60],[1.0])|(4469,[60,3572,44...|  3.934817971259063|\n",
      "|100017|Desogestrel / eth...|Birth Control|\"\"\"Love it! Been ...|   9.0|      May 30, 2017|          3|        9|           0.0|(896,[0],[1.0])|     60.0|(3572,[60],[1.0])|(4469,[60,3572,44...|  14.75958875497199|\n",
      "| 10002|      Lo Loestrin Fe|Birth Control|\"\"\"Well, I&#039;v...|   6.0|     April 4, 2013|         10|        6|           0.0|(896,[0],[1.0])|     35.0|(3572,[35],[1.0])|(4469,[35,3572,44...|  8.264726284744235|\n",
      "|100021|Desogestrel / eth...|Birth Control|\"\"\"So I&#039;ve b...|   5.0|      May 18, 2017|          3|        5|           0.0|(896,[0],[1.0])|     60.0|(3572,[60],[1.0])|(4469,[60,3572,44...|  6.099772128001648|\n",
      "|100107|Desogestrel / eth...|Birth Control|\"\"\"completely los...|   5.0| November 23, 2016|          1|        5|           0.0|(896,[0],[1.0])|     60.0|(3572,[60],[1.0])|(4469,[60,3572,44...|  6.099772128001648|\n",
      "|100123|Desogestrel / eth...|Birth Control|\"\"\"I haven&#039;t...|   1.0|  November 2, 2016|          2|        1|           0.0|(896,[0],[1.0])|     60.0|(3572,[60],[1.0])|(4469,[60,3572,44...|-2.5600444989686935|\n",
      "|100126|Desogestrel / eth...|Birth Control|\"\"\"I have  used C...|  10.0|  October 28, 2016|          1|       10|           0.0|(896,[0],[1.0])|     60.0|(3572,[60],[1.0])|(4469,[60,3572,44...| 16.924542911714575|\n",
      "|100165|Desogestrel / eth...|Birth Control|\"\"\"I&#039;ve had ...|   8.0|    March 15, 2016|          1|        8|           0.0|(896,[0],[1.0])|     60.0|(3572,[60],[1.0])|(4469,[60,3572,44...| 12.594634598229405|\n",
      "|100167|Desogestrel / eth...|Birth Control|\"\"\"I had previous...|  10.0|    March 11, 2016|         10|       10|           0.0|(896,[0],[1.0])|     60.0|(3572,[60],[1.0])|(4469,[60,3572,44...| 16.924542911714575|\n",
      "| 10019|      Lo Loestrin Fe|Birth Control|\"\"\"So far I reall...|   8.0|   January 9, 2013|          9|        8|           0.0|(896,[0],[1.0])|     35.0|(3572,[35],[1.0])|(4469,[35,3572,44...| 12.594634598229405|\n",
      "|100215|Desogestrel / eth...|Birth Control|\"\"\"I have been on...|   6.0|  November 1, 2015|          3|        6|           0.0|(896,[0],[1.0])|     60.0|(3572,[60],[1.0])|(4469,[60,3572,44...|  8.264726284744235|\n",
      "|100234|Desogestrel / eth...|Birth Control|\"\"\"I have been on...|   4.0|  January 15, 2016|          6|        4|           0.0|(896,[0],[1.0])|     60.0|(3572,[60],[1.0])|(4469,[60,3572,44...|  3.934817971259063|\n",
      "|100241|Desogestrel / eth...|Birth Control|\"\"\"I have been on...|   9.0| December 29, 2015|          4|        9|           0.0|(896,[0],[1.0])|     60.0|(3572,[60],[1.0])|(4469,[60,3572,44...|  14.75958875497199|\n",
      "|100252|Desogestrel / eth...|Birth Control|\"\"\"Was on Apri fo...|   1.0| November 29, 2015|          5|        1|           0.0|(896,[0],[1.0])|     60.0|(3572,[60],[1.0])|(4469,[60,3572,44...|-2.5600444989686935|\n",
      "|100259|Desogestrel / eth...|Birth Control|\"\"\"I changed to t...|   4.0|September 21, 2015|          2|        4|           0.0|(896,[0],[1.0])|     60.0|(3572,[60],[1.0])|(4469,[60,3572,44...|  3.934817971259063|\n",
      "|100266|Desogestrel / eth...|Birth Control|\"\"\"I&#039;ve been...|   8.0|   August 28, 2015|          2|        8|           0.0|(896,[0],[1.0])|     60.0|(3572,[60],[1.0])|(4469,[60,3572,44...| 12.594634598229405|\n",
      "|100298|Desogestrel / eth...|Birth Control|\"\"\"I&#039;ve been...|   7.0|    March 13, 2015|          0|        7|           0.0|(896,[0],[1.0])|     60.0|(3572,[60],[1.0])|(4469,[60,3572,44...|  10.42968044148682|\n",
      "|100301|Desogestrel / eth...|Birth Control|\"\"\"I&#039;ve been...|   3.0| February 23, 2015|         16|        3|           0.0|(896,[0],[1.0])|     60.0|(3572,[60],[1.0])|(4469,[60,3572,44...| 1.7698638145164782|\n",
      "| 10031|      Lo Loestrin Fe|Birth Control|\"\"\"Best birth con...|   9.0|    March 10, 2012|          7|        9|           0.0|(896,[0],[1.0])|     35.0|(3572,[35],[1.0])|(4469,[35,3572,44...|  14.75958875497199|\n",
      "+------+--------------------+-------------+--------------------+------+------------------+-----------+---------+--------------+---------------+---------+-----------------+--------------------+-------------------+\n",
      "only showing top 20 rows\n",
      "\n"
     ]
    },
    {
     "name": "stderr",
     "output_type": "stream",
     "text": [
      "                                                                                \r"
     ]
    }
   ],
   "source": [
    "predictions.show()"
   ]
  },
  {
   "cell_type": "code",
   "execution_count": 19,
   "metadata": {
    "cell_status": {
     "execute_time": {
      "duration": 2279.85205078125,
      "end_time": 1614008138042.79
     }
    }
   },
   "outputs": [
    {
     "name": "stderr",
     "output_type": "stream",
     "text": [
      "                                                                                \r"
     ]
    },
    {
     "data": {
      "text/plain": [
       "0.27444947176597745"
      ]
     },
     "execution_count": 19,
     "metadata": {},
     "output_type": "execute_result"
    }
   ],
   "source": [
    "lr_evaluator = RegressionEvaluator(predictionCol=\"prediction\", labelCol=\"usefulCount\", metricName=\"r2\")\n",
    "lr_evaluator.evaluate(predictions)"
   ]
  },
  {
   "cell_type": "code",
   "execution_count": null,
   "metadata": {
    "collapsed": true
   },
   "outputs": [],
   "source": []
  },
  {
   "cell_type": "code",
   "execution_count": null,
   "metadata": {},
   "outputs": [],
   "source": []
  },
  {
   "cell_type": "code",
   "execution_count": 1,
   "metadata": {},
   "outputs": [],
   "source": [
    "import findspark\n",
    "findspark.init()"
   ]
  },
  {
   "cell_type": "code",
   "execution_count": 2,
   "metadata": {},
   "outputs": [
    {
     "name": "stderr",
     "output_type": "stream",
     "text": [
      "SLF4J: Class path contains multiple SLF4J bindings.\n",
      "SLF4J: Found binding in [jar:file:/usr/lib/spark/jars/slf4j-log4j12-1.7.30.jar!/org/slf4j/impl/StaticLoggerBinder.class]\n",
      "SLF4J: Found binding in [jar:file:/usr/lib/hadoop/lib/slf4j-log4j12-1.7.25.jar!/org/slf4j/impl/StaticLoggerBinder.class]\n",
      "SLF4J: See http://www.slf4j.org/codes.html#multiple_bindings for an explanation.\n",
      "SLF4J: Actual binding is of type [org.slf4j.impl.Log4jLoggerFactory]\n",
      "Ivy Default Cache set to: /home/ubuntu/.ivy2/cache\n",
      "The jars for the packages stored in: /home/ubuntu/.ivy2/jars\n",
      ":: loading settings :: url = jar:file:/usr/lib/spark/jars/ivy-2.4.0.jar!/org/apache/ivy/core/settings/ivysettings.xml\n",
      "ai.catboost#catboost-spark_3.0_2.12 added as a dependency\n",
      ":: resolving dependencies :: org.apache.spark#spark-submit-parent-6579ddc8-dc65-471d-89e8-d3cf9472068f;1.0\n",
      "\tconfs: [default]\n",
      "\tfound ai.catboost#catboost-spark_3.0_2.12;1.0.4 in central\n",
      "\tfound com.google.guava#guava;29.0-jre in central\n",
      "\tfound com.google.guava#failureaccess;1.0.1 in central\n",
      "\tfound com.google.guava#listenablefuture;9999.0-empty-to-avoid-conflict-with-guava in central\n",
      "\tfound com.google.code.findbugs#jsr305;3.0.2 in central\n",
      "\tfound org.checkerframework#checker-qual;2.11.1 in central\n",
      "\tfound com.google.errorprone#error_prone_annotations;2.3.4 in central\n",
      "\tfound com.google.j2objc#j2objc-annotations;1.3 in central\n",
      "\tfound commons-io#commons-io;2.7 in central\n",
      "\tfound org.apache.commons#commons-lang3;3.11 in central\n",
      "\tfound org.json4s#json4s-jackson_2.12;3.6.6 in central\n",
      "\tfound org.json4s#json4s-core_2.12;3.6.6 in central\n",
      "\tfound org.json4s#json4s-ast_2.12;3.6.6 in central\n",
      "\tfound org.json4s#json4s-scalap_2.12;3.6.6 in central\n",
      "\tfound com.thoughtworks.paranamer#paranamer;2.8 in central\n",
      "\tfound com.fasterxml.jackson.core#jackson-databind;2.6.7.3 in central\n",
      "\tfound com.fasterxml.jackson.core#jackson-annotations;2.6.0 in central\n",
      "\tfound com.fasterxml.jackson.core#jackson-core;2.6.7 in central\n",
      "\tfound com.fasterxml.jackson.module#jackson-module-scala_2.12;2.6.7.1 in central\n",
      "\tfound com.fasterxml.jackson.core#jackson-annotations;2.6.7 in central\n",
      "\tfound com.fasterxml.jackson.module#jackson-module-paranamer;2.7.9 in central\n",
      "\tfound io.github.classgraph#classgraph;4.8.98 in central\n",
      "\tfound ai.catboost#catboost-common;1.0.4 in central\n",
      "\tfound javax.validation#validation-api;1.1.0.Final in central\n",
      "\tfound org.slf4j#slf4j-api;1.7.25 in central\n",
      "\tfound ai.catboost#catboost-spark-macros_2.12;1.0.4 in central\n",
      "\tfound org.scala-lang#scala-reflect;2.12.12 in central\n",
      ":: resolution report :: resolve 1195ms :: artifacts dl 52ms\n",
      "\t:: modules in use:\n",
      "\tai.catboost#catboost-common;1.0.4 from central in [default]\n",
      "\tai.catboost#catboost-spark-macros_2.12;1.0.4 from central in [default]\n",
      "\tai.catboost#catboost-spark_3.0_2.12;1.0.4 from central in [default]\n",
      "\tcom.fasterxml.jackson.core#jackson-annotations;2.6.7 from central in [default]\n",
      "\tcom.fasterxml.jackson.core#jackson-core;2.6.7 from central in [default]\n",
      "\tcom.fasterxml.jackson.core#jackson-databind;2.6.7.3 from central in [default]\n",
      "\tcom.fasterxml.jackson.module#jackson-module-paranamer;2.7.9 from central in [default]\n",
      "\tcom.fasterxml.jackson.module#jackson-module-scala_2.12;2.6.7.1 from central in [default]\n",
      "\tcom.google.code.findbugs#jsr305;3.0.2 from central in [default]\n",
      "\tcom.google.errorprone#error_prone_annotations;2.3.4 from central in [default]\n",
      "\tcom.google.guava#failureaccess;1.0.1 from central in [default]\n",
      "\tcom.google.guava#guava;29.0-jre from central in [default]\n",
      "\tcom.google.guava#listenablefuture;9999.0-empty-to-avoid-conflict-with-guava from central in [default]\n",
      "\tcom.google.j2objc#j2objc-annotations;1.3 from central in [default]\n",
      "\tcom.thoughtworks.paranamer#paranamer;2.8 from central in [default]\n",
      "\tcommons-io#commons-io;2.7 from central in [default]\n",
      "\tio.github.classgraph#classgraph;4.8.98 from central in [default]\n",
      "\tjavax.validation#validation-api;1.1.0.Final from central in [default]\n",
      "\torg.apache.commons#commons-lang3;3.11 from central in [default]\n",
      "\torg.checkerframework#checker-qual;2.11.1 from central in [default]\n",
      "\torg.json4s#json4s-ast_2.12;3.6.6 from central in [default]\n",
      "\torg.json4s#json4s-core_2.12;3.6.6 from central in [default]\n",
      "\torg.json4s#json4s-jackson_2.12;3.6.6 from central in [default]\n",
      "\torg.json4s#json4s-scalap_2.12;3.6.6 from central in [default]\n",
      "\torg.scala-lang#scala-reflect;2.12.12 from central in [default]\n",
      "\torg.slf4j#slf4j-api;1.7.25 from central in [default]\n",
      "\t:: evicted modules:\n",
      "\tcom.fasterxml.jackson.core#jackson-databind;2.9.8 by [com.fasterxml.jackson.core#jackson-databind;2.6.7.3] in [default]\n",
      "\tcom.fasterxml.jackson.core#jackson-annotations;2.6.0 by [com.fasterxml.jackson.core#jackson-annotations;2.6.7] in [default]\n",
      "\torg.scala-lang#scala-reflect;2.12.1 by [org.scala-lang#scala-reflect;2.12.12] in [default]\n",
      "\tcom.fasterxml.jackson.core#jackson-databind;2.6.7 by [com.fasterxml.jackson.core#jackson-databind;2.6.7.3] in [default]\n",
      "\t---------------------------------------------------------------------\n",
      "\t|                  |            modules            ||   artifacts   |\n",
      "\t|       conf       | number| search|dwnlded|evicted|| number|dwnlded|\n",
      "\t---------------------------------------------------------------------\n",
      "\t|      default     |   30  |   0   |   0   |   4   ||   26  |   0   |\n",
      "\t---------------------------------------------------------------------\n",
      ":: retrieving :: org.apache.spark#spark-submit-parent-6579ddc8-dc65-471d-89e8-d3cf9472068f\n",
      "\tconfs: [default]\n",
      "\t0 artifacts copied, 26 already retrieved (0kB/32ms)\n",
      "Setting default log level to \"WARN\".\n",
      "To adjust logging level use sc.setLogLevel(newLevel). For SparkR, use setLogLevel(newLevel).\n",
      "2022-03-10 07:37:31,154 WARN yarn.Client: Same path resource file:///home/ubuntu/.ivy2/jars/ai.catboost_catboost-spark_3.0_2.12-1.0.4.jar added multiple times to distributed cache.\n",
      "2022-03-10 07:37:31,154 WARN yarn.Client: Same path resource file:///home/ubuntu/.ivy2/jars/com.google.guava_guava-29.0-jre.jar added multiple times to distributed cache.\n",
      "2022-03-10 07:37:31,154 WARN yarn.Client: Same path resource file:///home/ubuntu/.ivy2/jars/commons-io_commons-io-2.7.jar added multiple times to distributed cache.\n",
      "2022-03-10 07:37:31,154 WARN yarn.Client: Same path resource file:///home/ubuntu/.ivy2/jars/org.apache.commons_commons-lang3-3.11.jar added multiple times to distributed cache.\n",
      "2022-03-10 07:37:31,155 WARN yarn.Client: Same path resource file:///home/ubuntu/.ivy2/jars/org.json4s_json4s-jackson_2.12-3.6.6.jar added multiple times to distributed cache.\n",
      "2022-03-10 07:37:31,155 WARN yarn.Client: Same path resource file:///home/ubuntu/.ivy2/jars/com.fasterxml.jackson.core_jackson-databind-2.6.7.3.jar added multiple times to distributed cache.\n",
      "2022-03-10 07:37:31,155 WARN yarn.Client: Same path resource file:///home/ubuntu/.ivy2/jars/com.fasterxml.jackson.module_jackson-module-scala_2.12-2.6.7.1.jar added multiple times to distributed cache.\n",
      "2022-03-10 07:37:31,155 WARN yarn.Client: Same path resource file:///home/ubuntu/.ivy2/jars/io.github.classgraph_classgraph-4.8.98.jar added multiple times to distributed cache.\n",
      "2022-03-10 07:37:31,155 WARN yarn.Client: Same path resource file:///home/ubuntu/.ivy2/jars/ai.catboost_catboost-common-1.0.4.jar added multiple times to distributed cache.\n",
      "2022-03-10 07:37:31,155 WARN yarn.Client: Same path resource file:///home/ubuntu/.ivy2/jars/ai.catboost_catboost-spark-macros_2.12-1.0.4.jar added multiple times to distributed cache.\n",
      "2022-03-10 07:37:31,155 WARN yarn.Client: Same path resource file:///home/ubuntu/.ivy2/jars/org.scala-lang_scala-reflect-2.12.12.jar added multiple times to distributed cache.\n",
      "2022-03-10 07:37:31,155 WARN yarn.Client: Same path resource file:///home/ubuntu/.ivy2/jars/com.google.guava_failureaccess-1.0.1.jar added multiple times to distributed cache.\n",
      "2022-03-10 07:37:31,155 WARN yarn.Client: Same path resource file:///home/ubuntu/.ivy2/jars/com.google.guava_listenablefuture-9999.0-empty-to-avoid-conflict-with-guava.jar added multiple times to distributed cache.\n",
      "2022-03-10 07:37:31,155 WARN yarn.Client: Same path resource file:///home/ubuntu/.ivy2/jars/com.google.code.findbugs_jsr305-3.0.2.jar added multiple times to distributed cache.\n",
      "2022-03-10 07:37:31,155 WARN yarn.Client: Same path resource file:///home/ubuntu/.ivy2/jars/org.checkerframework_checker-qual-2.11.1.jar added multiple times to distributed cache.\n",
      "2022-03-10 07:37:31,155 WARN yarn.Client: Same path resource file:///home/ubuntu/.ivy2/jars/com.google.errorprone_error_prone_annotations-2.3.4.jar added multiple times to distributed cache.\n",
      "2022-03-10 07:37:31,155 WARN yarn.Client: Same path resource file:///home/ubuntu/.ivy2/jars/com.google.j2objc_j2objc-annotations-1.3.jar added multiple times to distributed cache.\n",
      "2022-03-10 07:37:31,155 WARN yarn.Client: Same path resource file:///home/ubuntu/.ivy2/jars/org.json4s_json4s-core_2.12-3.6.6.jar added multiple times to distributed cache.\n",
      "2022-03-10 07:37:31,155 WARN yarn.Client: Same path resource file:///home/ubuntu/.ivy2/jars/org.json4s_json4s-ast_2.12-3.6.6.jar added multiple times to distributed cache.\n",
      "2022-03-10 07:37:31,155 WARN yarn.Client: Same path resource file:///home/ubuntu/.ivy2/jars/org.json4s_json4s-scalap_2.12-3.6.6.jar added multiple times to distributed cache.\n",
      "2022-03-10 07:37:31,155 WARN yarn.Client: Same path resource file:///home/ubuntu/.ivy2/jars/com.thoughtworks.paranamer_paranamer-2.8.jar added multiple times to distributed cache.\n",
      "2022-03-10 07:37:31,155 WARN yarn.Client: Same path resource file:///home/ubuntu/.ivy2/jars/com.fasterxml.jackson.core_jackson-core-2.6.7.jar added multiple times to distributed cache.\n",
      "2022-03-10 07:37:31,155 WARN yarn.Client: Same path resource file:///home/ubuntu/.ivy2/jars/com.fasterxml.jackson.core_jackson-annotations-2.6.7.jar added multiple times to distributed cache.\n",
      "2022-03-10 07:37:31,155 WARN yarn.Client: Same path resource file:///home/ubuntu/.ivy2/jars/com.fasterxml.jackson.module_jackson-module-paranamer-2.7.9.jar added multiple times to distributed cache.\n",
      "2022-03-10 07:37:31,156 WARN yarn.Client: Same path resource file:///home/ubuntu/.ivy2/jars/javax.validation_validation-api-1.1.0.Final.jar added multiple times to distributed cache.\n",
      "2022-03-10 07:37:31,156 WARN yarn.Client: Same path resource file:///home/ubuntu/.ivy2/jars/org.slf4j_slf4j-api-1.7.25.jar added multiple times to distributed cache.\n"
     ]
    }
   ],
   "source": [
    "import pyspark\n",
    "se = pyspark.sql.SparkSession.builder.appName(\"MyApp2\") \\\n",
    "            .config(\"spark.jars.packages\", \"ai.catboost:catboost-spark_3.0_2.12:1.0.4\") \\\n",
    "            .config(\"spark.dynamicAllocation.enabled\", False) \\\n",
    "            .config(\"spark.locality.wait\", 0) \\\n",
    "            .getOrCreate()\n"
   ]
  },
  {
   "cell_type": "code",
   "execution_count": 3,
   "metadata": {},
   "outputs": [],
   "source": [
    "import catboost_spark"
   ]
  },
  {
   "cell_type": "code",
   "execution_count": 4,
   "metadata": {},
   "outputs": [
    {
     "name": "stderr",
     "output_type": "stream",
     "text": [
      "                                                                                \r"
     ]
    }
   ],
   "source": [
    "data = se.read.option(\"delimiter\", \"\\t\").csv('/user/drugs/data/*', header=True, inferSchema=True)\n",
    "\n",
    "data = (\n",
    "    data\n",
    "    .na.drop('any')\n",
    "    .withColumn('ratingNum', data.rating.cast('integer'))\n",
    ")\n",
    "\n",
    "\n",
    "train, test = data.randomSplit([0.9, 0.1], 422)\n",
    "train, test = train.cache(), test.cache()"
   ]
  },
  {
   "cell_type": "code",
   "execution_count": 5,
   "metadata": {},
   "outputs": [],
   "source": [
    "from pyspark.ml.classification import LogisticRegression\n",
    "from pyspark.ml.regression import LinearRegression\n",
    "from pyspark.ml.feature import HashingTF, IDF, Tokenizer\n",
    "from pyspark.ml import Pipeline\n",
    "from pyspark.ml.feature import OneHotEncoder, StringIndexer, VectorAssembler"
   ]
  },
  {
   "cell_type": "code",
   "execution_count": 6,
   "metadata": {},
   "outputs": [],
   "source": [
    "stringIndexerCondition = StringIndexer(inputCol='condition', outputCol = \"conditionIndex\").setHandleInvalid(\"skip\")\n",
    "encoderCondition = OneHotEncoder(inputCol=\"conditionIndex\", outputCol=\"conditionVec\")\n",
    "\n",
    "stringIndexerDrug = StringIndexer(inputCol='drugName', outputCol = \"drugIndex\").setHandleInvalid(\"skip\")\n",
    "encoderDrug = OneHotEncoder(inputCol=\"drugIndex\", outputCol=\"drugVec\")\n",
    "\n",
    "assembler = VectorAssembler(inputCols=[\"drugVec\", \"conditionVec\", 'ratingNum'], outputCol=\"features\")\n",
    "\n",
    "\n",
    "preproc = Pipeline(stages=[\n",
    "    stringIndexerCondition,\n",
    "    encoderCondition,\n",
    "    stringIndexerDrug,\n",
    "    encoderDrug,\n",
    "    assembler\n",
    "])"
   ]
  },
  {
   "cell_type": "code",
   "execution_count": 7,
   "metadata": {},
   "outputs": [
    {
     "name": "stderr",
     "output_type": "stream",
     "text": [
      "                                                                                \r"
     ]
    }
   ],
   "source": [
    "preproc = preproc.fit(data)"
   ]
  },
  {
   "cell_type": "code",
   "execution_count": 8,
   "metadata": {},
   "outputs": [],
   "source": [
    "train_proc = preproc.transform(train).cache()\n",
    "test_proc = preproc.transform(test).cache()"
   ]
  },
  {
   "cell_type": "code",
   "execution_count": 9,
   "metadata": {},
   "outputs": [
    {
     "name": "stderr",
     "output_type": "stream",
     "text": [
      "                                                                                \r"
     ]
    },
    {
     "data": {
      "text/html": [
       "<div>\n",
       "<style scoped>\n",
       "    .dataframe tbody tr th:only-of-type {\n",
       "        vertical-align: middle;\n",
       "    }\n",
       "\n",
       "    .dataframe tbody tr th {\n",
       "        vertical-align: top;\n",
       "    }\n",
       "\n",
       "    .dataframe thead th {\n",
       "        text-align: right;\n",
       "    }\n",
       "</style>\n",
       "<table border=\"1\" class=\"dataframe\">\n",
       "  <thead>\n",
       "    <tr style=\"text-align: right;\">\n",
       "      <th></th>\n",
       "      <th>_c0</th>\n",
       "      <th>drugName</th>\n",
       "      <th>condition</th>\n",
       "      <th>review</th>\n",
       "      <th>rating</th>\n",
       "      <th>date</th>\n",
       "      <th>usefulCount</th>\n",
       "      <th>ratingNum</th>\n",
       "      <th>conditionIndex</th>\n",
       "      <th>conditionVec</th>\n",
       "      <th>drugIndex</th>\n",
       "      <th>drugVec</th>\n",
       "      <th>features</th>\n",
       "    </tr>\n",
       "  </thead>\n",
       "  <tbody>\n",
       "    <tr>\n",
       "      <th>0</th>\n",
       "      <td>10000</td>\n",
       "      <td>Lo Loestrin Fe</td>\n",
       "      <td>Birth Control</td>\n",
       "      <td>\"\"\"I was on this birth control for 8 months. T...</td>\n",
       "      <td>7.0</td>\n",
       "      <td>April 10, 2013</td>\n",
       "      <td>4</td>\n",
       "      <td>7</td>\n",
       "      <td>0.0</td>\n",
       "      <td>(1.0, 0.0, 0.0, 0.0, 0.0, 0.0, 0.0, 0.0, 0.0, ...</td>\n",
       "      <td>35.0</td>\n",
       "      <td>(0.0, 0.0, 0.0, 0.0, 0.0, 0.0, 0.0, 0.0, 0.0, ...</td>\n",
       "      <td>(0.0, 0.0, 0.0, 0.0, 0.0, 0.0, 0.0, 0.0, 0.0, ...</td>\n",
       "    </tr>\n",
       "    <tr>\n",
       "      <th>1</th>\n",
       "      <td>100012</td>\n",
       "      <td>Desogestrel / ethinyl estradiol</td>\n",
       "      <td>Birth Control</td>\n",
       "      <td>\"\"\"I&amp;#039;ve been taking Velivet for about a y...</td>\n",
       "      <td>9.0</td>\n",
       "      <td>June 17, 2017</td>\n",
       "      <td>2</td>\n",
       "      <td>9</td>\n",
       "      <td>0.0</td>\n",
       "      <td>(1.0, 0.0, 0.0, 0.0, 0.0, 0.0, 0.0, 0.0, 0.0, ...</td>\n",
       "      <td>60.0</td>\n",
       "      <td>(0.0, 0.0, 0.0, 0.0, 0.0, 0.0, 0.0, 0.0, 0.0, ...</td>\n",
       "      <td>(0.0, 0.0, 0.0, 0.0, 0.0, 0.0, 0.0, 0.0, 0.0, ...</td>\n",
       "    </tr>\n",
       "    <tr>\n",
       "      <th>2</th>\n",
       "      <td>100013</td>\n",
       "      <td>Desogestrel / ethinyl estradiol</td>\n",
       "      <td>Birth Control</td>\n",
       "      <td>\"\"\"Gives me heartburn and indigestion. Also ma...</td>\n",
       "      <td>2.0</td>\n",
       "      <td>June 8, 2017</td>\n",
       "      <td>1</td>\n",
       "      <td>2</td>\n",
       "      <td>0.0</td>\n",
       "      <td>(1.0, 0.0, 0.0, 0.0, 0.0, 0.0, 0.0, 0.0, 0.0, ...</td>\n",
       "      <td>60.0</td>\n",
       "      <td>(0.0, 0.0, 0.0, 0.0, 0.0, 0.0, 0.0, 0.0, 0.0, ...</td>\n",
       "      <td>(0.0, 0.0, 0.0, 0.0, 0.0, 0.0, 0.0, 0.0, 0.0, ...</td>\n",
       "    </tr>\n",
       "    <tr>\n",
       "      <th>3</th>\n",
       "      <td>100029</td>\n",
       "      <td>Desogestrel / ethinyl estradiol</td>\n",
       "      <td>Birth Control</td>\n",
       "      <td>\"\"\"I was switched from Azurette to Viorele by ...</td>\n",
       "      <td>5.0</td>\n",
       "      <td>December 6, 2017</td>\n",
       "      <td>0</td>\n",
       "      <td>5</td>\n",
       "      <td>0.0</td>\n",
       "      <td>(1.0, 0.0, 0.0, 0.0, 0.0, 0.0, 0.0, 0.0, 0.0, ...</td>\n",
       "      <td>60.0</td>\n",
       "      <td>(0.0, 0.0, 0.0, 0.0, 0.0, 0.0, 0.0, 0.0, 0.0, ...</td>\n",
       "      <td>(0.0, 0.0, 0.0, 0.0, 0.0, 0.0, 0.0, 0.0, 0.0, ...</td>\n",
       "    </tr>\n",
       "    <tr>\n",
       "      <th>4</th>\n",
       "      <td>10004</td>\n",
       "      <td>Lo Loestrin Fe</td>\n",
       "      <td>Birth Control</td>\n",
       "      <td>\"\"\"I&amp;#039;m 41, using for cramps and excessive...</td>\n",
       "      <td>2.0</td>\n",
       "      <td>March 31, 2013</td>\n",
       "      <td>12</td>\n",
       "      <td>2</td>\n",
       "      <td>0.0</td>\n",
       "      <td>(1.0, 0.0, 0.0, 0.0, 0.0, 0.0, 0.0, 0.0, 0.0, ...</td>\n",
       "      <td>35.0</td>\n",
       "      <td>(0.0, 0.0, 0.0, 0.0, 0.0, 0.0, 0.0, 0.0, 0.0, ...</td>\n",
       "      <td>(0.0, 0.0, 0.0, 0.0, 0.0, 0.0, 0.0, 0.0, 0.0, ...</td>\n",
       "    </tr>\n",
       "    <tr>\n",
       "      <th>5</th>\n",
       "      <td>100055</td>\n",
       "      <td>Desogestrel / ethinyl estradiol</td>\n",
       "      <td>Birth Control</td>\n",
       "      <td>\"\"\"I was on Apri for about a year. The first f...</td>\n",
       "      <td>5.0</td>\n",
       "      <td>May 2, 2017</td>\n",
       "      <td>1</td>\n",
       "      <td>5</td>\n",
       "      <td>0.0</td>\n",
       "      <td>(1.0, 0.0, 0.0, 0.0, 0.0, 0.0, 0.0, 0.0, 0.0, ...</td>\n",
       "      <td>60.0</td>\n",
       "      <td>(0.0, 0.0, 0.0, 0.0, 0.0, 0.0, 0.0, 0.0, 0.0, ...</td>\n",
       "      <td>(0.0, 0.0, 0.0, 0.0, 0.0, 0.0, 0.0, 0.0, 0.0, ...</td>\n",
       "    </tr>\n",
       "    <tr>\n",
       "      <th>6</th>\n",
       "      <td>10007</td>\n",
       "      <td>Lo Loestrin Fe</td>\n",
       "      <td>Birth Control</td>\n",
       "      <td>\"\"\"I posted on this forum when I first started...</td>\n",
       "      <td>9.0</td>\n",
       "      <td>March 10, 2013</td>\n",
       "      <td>18</td>\n",
       "      <td>9</td>\n",
       "      <td>0.0</td>\n",
       "      <td>(1.0, 0.0, 0.0, 0.0, 0.0, 0.0, 0.0, 0.0, 0.0, ...</td>\n",
       "      <td>35.0</td>\n",
       "      <td>(0.0, 0.0, 0.0, 0.0, 0.0, 0.0, 0.0, 0.0, 0.0, ...</td>\n",
       "      <td>(0.0, 0.0, 0.0, 0.0, 0.0, 0.0, 0.0, 0.0, 0.0, ...</td>\n",
       "    </tr>\n",
       "    <tr>\n",
       "      <th>7</th>\n",
       "      <td>100071</td>\n",
       "      <td>Desogestrel / ethinyl estradiol</td>\n",
       "      <td>Birth Control</td>\n",
       "      <td>\"\"\"So I&amp;#039;ve only been on this pill for a m...</td>\n",
       "      <td>8.0</td>\n",
       "      <td>March 7, 2017</td>\n",
       "      <td>7</td>\n",
       "      <td>8</td>\n",
       "      <td>0.0</td>\n",
       "      <td>(1.0, 0.0, 0.0, 0.0, 0.0, 0.0, 0.0, 0.0, 0.0, ...</td>\n",
       "      <td>60.0</td>\n",
       "      <td>(0.0, 0.0, 0.0, 0.0, 0.0, 0.0, 0.0, 0.0, 0.0, ...</td>\n",
       "      <td>(0.0, 0.0, 0.0, 0.0, 0.0, 0.0, 0.0, 0.0, 0.0, ...</td>\n",
       "    </tr>\n",
       "    <tr>\n",
       "      <th>8</th>\n",
       "      <td>100085</td>\n",
       "      <td>Desogestrel / ethinyl estradiol</td>\n",
       "      <td>Birth Control</td>\n",
       "      <td>\"\"\"I was on this for a year or two, I had been...</td>\n",
       "      <td>1.0</td>\n",
       "      <td>January 28, 2017</td>\n",
       "      <td>4</td>\n",
       "      <td>1</td>\n",
       "      <td>0.0</td>\n",
       "      <td>(1.0, 0.0, 0.0, 0.0, 0.0, 0.0, 0.0, 0.0, 0.0, ...</td>\n",
       "      <td>60.0</td>\n",
       "      <td>(0.0, 0.0, 0.0, 0.0, 0.0, 0.0, 0.0, 0.0, 0.0, ...</td>\n",
       "      <td>(0.0, 0.0, 0.0, 0.0, 0.0, 0.0, 0.0, 0.0, 0.0, ...</td>\n",
       "    </tr>\n",
       "    <tr>\n",
       "      <th>9</th>\n",
       "      <td>100087</td>\n",
       "      <td>Desogestrel / ethinyl estradiol</td>\n",
       "      <td>Birth Control</td>\n",
       "      <td>\"\"\"I&amp;#039;m 19 and have been on this birth con...</td>\n",
       "      <td>9.0</td>\n",
       "      <td>January 26, 2017</td>\n",
       "      <td>3</td>\n",
       "      <td>9</td>\n",
       "      <td>0.0</td>\n",
       "      <td>(1.0, 0.0, 0.0, 0.0, 0.0, 0.0, 0.0, 0.0, 0.0, ...</td>\n",
       "      <td>60.0</td>\n",
       "      <td>(0.0, 0.0, 0.0, 0.0, 0.0, 0.0, 0.0, 0.0, 0.0, ...</td>\n",
       "      <td>(0.0, 0.0, 0.0, 0.0, 0.0, 0.0, 0.0, 0.0, 0.0, ...</td>\n",
       "    </tr>\n",
       "  </tbody>\n",
       "</table>\n",
       "</div>"
      ],
      "text/plain": [
       "      _c0                         drugName      condition  \\\n",
       "0   10000                   Lo Loestrin Fe  Birth Control   \n",
       "1  100012  Desogestrel / ethinyl estradiol  Birth Control   \n",
       "2  100013  Desogestrel / ethinyl estradiol  Birth Control   \n",
       "3  100029  Desogestrel / ethinyl estradiol  Birth Control   \n",
       "4   10004                   Lo Loestrin Fe  Birth Control   \n",
       "5  100055  Desogestrel / ethinyl estradiol  Birth Control   \n",
       "6   10007                   Lo Loestrin Fe  Birth Control   \n",
       "7  100071  Desogestrel / ethinyl estradiol  Birth Control   \n",
       "8  100085  Desogestrel / ethinyl estradiol  Birth Control   \n",
       "9  100087  Desogestrel / ethinyl estradiol  Birth Control   \n",
       "\n",
       "                                              review rating              date  \\\n",
       "0  \"\"\"I was on this birth control for 8 months. T...    7.0    April 10, 2013   \n",
       "1  \"\"\"I&#039;ve been taking Velivet for about a y...    9.0     June 17, 2017   \n",
       "2  \"\"\"Gives me heartburn and indigestion. Also ma...    2.0      June 8, 2017   \n",
       "3  \"\"\"I was switched from Azurette to Viorele by ...    5.0  December 6, 2017   \n",
       "4  \"\"\"I&#039;m 41, using for cramps and excessive...    2.0    March 31, 2013   \n",
       "5  \"\"\"I was on Apri for about a year. The first f...    5.0       May 2, 2017   \n",
       "6  \"\"\"I posted on this forum when I first started...    9.0    March 10, 2013   \n",
       "7  \"\"\"So I&#039;ve only been on this pill for a m...    8.0     March 7, 2017   \n",
       "8  \"\"\"I was on this for a year or two, I had been...    1.0  January 28, 2017   \n",
       "9  \"\"\"I&#039;m 19 and have been on this birth con...    9.0  January 26, 2017   \n",
       "\n",
       "   usefulCount  ratingNum  conditionIndex  \\\n",
       "0            4          7             0.0   \n",
       "1            2          9             0.0   \n",
       "2            1          2             0.0   \n",
       "3            0          5             0.0   \n",
       "4           12          2             0.0   \n",
       "5            1          5             0.0   \n",
       "6           18          9             0.0   \n",
       "7            7          8             0.0   \n",
       "8            4          1             0.0   \n",
       "9            3          9             0.0   \n",
       "\n",
       "                                        conditionVec  drugIndex  \\\n",
       "0  (1.0, 0.0, 0.0, 0.0, 0.0, 0.0, 0.0, 0.0, 0.0, ...       35.0   \n",
       "1  (1.0, 0.0, 0.0, 0.0, 0.0, 0.0, 0.0, 0.0, 0.0, ...       60.0   \n",
       "2  (1.0, 0.0, 0.0, 0.0, 0.0, 0.0, 0.0, 0.0, 0.0, ...       60.0   \n",
       "3  (1.0, 0.0, 0.0, 0.0, 0.0, 0.0, 0.0, 0.0, 0.0, ...       60.0   \n",
       "4  (1.0, 0.0, 0.0, 0.0, 0.0, 0.0, 0.0, 0.0, 0.0, ...       35.0   \n",
       "5  (1.0, 0.0, 0.0, 0.0, 0.0, 0.0, 0.0, 0.0, 0.0, ...       60.0   \n",
       "6  (1.0, 0.0, 0.0, 0.0, 0.0, 0.0, 0.0, 0.0, 0.0, ...       35.0   \n",
       "7  (1.0, 0.0, 0.0, 0.0, 0.0, 0.0, 0.0, 0.0, 0.0, ...       60.0   \n",
       "8  (1.0, 0.0, 0.0, 0.0, 0.0, 0.0, 0.0, 0.0, 0.0, ...       60.0   \n",
       "9  (1.0, 0.0, 0.0, 0.0, 0.0, 0.0, 0.0, 0.0, 0.0, ...       60.0   \n",
       "\n",
       "                                             drugVec  \\\n",
       "0  (0.0, 0.0, 0.0, 0.0, 0.0, 0.0, 0.0, 0.0, 0.0, ...   \n",
       "1  (0.0, 0.0, 0.0, 0.0, 0.0, 0.0, 0.0, 0.0, 0.0, ...   \n",
       "2  (0.0, 0.0, 0.0, 0.0, 0.0, 0.0, 0.0, 0.0, 0.0, ...   \n",
       "3  (0.0, 0.0, 0.0, 0.0, 0.0, 0.0, 0.0, 0.0, 0.0, ...   \n",
       "4  (0.0, 0.0, 0.0, 0.0, 0.0, 0.0, 0.0, 0.0, 0.0, ...   \n",
       "5  (0.0, 0.0, 0.0, 0.0, 0.0, 0.0, 0.0, 0.0, 0.0, ...   \n",
       "6  (0.0, 0.0, 0.0, 0.0, 0.0, 0.0, 0.0, 0.0, 0.0, ...   \n",
       "7  (0.0, 0.0, 0.0, 0.0, 0.0, 0.0, 0.0, 0.0, 0.0, ...   \n",
       "8  (0.0, 0.0, 0.0, 0.0, 0.0, 0.0, 0.0, 0.0, 0.0, ...   \n",
       "9  (0.0, 0.0, 0.0, 0.0, 0.0, 0.0, 0.0, 0.0, 0.0, ...   \n",
       "\n",
       "                                            features  \n",
       "0  (0.0, 0.0, 0.0, 0.0, 0.0, 0.0, 0.0, 0.0, 0.0, ...  \n",
       "1  (0.0, 0.0, 0.0, 0.0, 0.0, 0.0, 0.0, 0.0, 0.0, ...  \n",
       "2  (0.0, 0.0, 0.0, 0.0, 0.0, 0.0, 0.0, 0.0, 0.0, ...  \n",
       "3  (0.0, 0.0, 0.0, 0.0, 0.0, 0.0, 0.0, 0.0, 0.0, ...  \n",
       "4  (0.0, 0.0, 0.0, 0.0, 0.0, 0.0, 0.0, 0.0, 0.0, ...  \n",
       "5  (0.0, 0.0, 0.0, 0.0, 0.0, 0.0, 0.0, 0.0, 0.0, ...  \n",
       "6  (0.0, 0.0, 0.0, 0.0, 0.0, 0.0, 0.0, 0.0, 0.0, ...  \n",
       "7  (0.0, 0.0, 0.0, 0.0, 0.0, 0.0, 0.0, 0.0, 0.0, ...  \n",
       "8  (0.0, 0.0, 0.0, 0.0, 0.0, 0.0, 0.0, 0.0, 0.0, ...  \n",
       "9  (0.0, 0.0, 0.0, 0.0, 0.0, 0.0, 0.0, 0.0, 0.0, ...  "
      ]
     },
     "execution_count": 9,
     "metadata": {},
     "output_type": "execute_result"
    }
   ],
   "source": [
    "train_proc.limit(10).toPandas()"
   ]
  },
  {
   "cell_type": "code",
   "execution_count": 10,
   "metadata": {},
   "outputs": [],
   "source": [
    "from pyspark.sql.types import *\n",
    "from pyspark.ml.linalg import Vectors, VectorUDT\n",
    "from pyspark.sql import Row,SparkSession"
   ]
  },
  {
   "cell_type": "code",
   "execution_count": 12,
   "metadata": {},
   "outputs": [],
   "source": [
    "srcDataSchema = [\n",
    "    StructField(\"features\", VectorUDT()),\n",
    "    StructField(\"label\", DoubleType())\n",
    "]"
   ]
  },
  {
   "cell_type": "code",
   "execution_count": 13,
   "metadata": {},
   "outputs": [
    {
     "name": "stderr",
     "output_type": "stream",
     "text": [
      "                                                                                \r"
     ]
    },
    {
     "data": {
      "text/plain": [
       "[<Row(SparseVector(4469, {35: 1.0, 3572: 1.0, 4468: 7.0}), 4.0)>]"
      ]
     },
     "execution_count": 13,
     "metadata": {},
     "output_type": "execute_result"
    }
   ],
   "source": [
    "train_proc.rdd.map(lambda x: Row(x.features, float(x.usefulCount))).take(1)"
   ]
  },
  {
   "cell_type": "code",
   "execution_count": 14,
   "metadata": {},
   "outputs": [],
   "source": [
    "trainData = train_proc.rdd.map(lambda x: Row(x.features, float(x.usefulCount)))"
   ]
  },
  {
   "cell_type": "code",
   "execution_count": 15,
   "metadata": {},
   "outputs": [],
   "source": [
    "trainDf = se.createDataFrame(trainData, StructType(srcDataSchema))"
   ]
  },
  {
   "cell_type": "code",
   "execution_count": 16,
   "metadata": {},
   "outputs": [
    {
     "name": "stderr",
     "output_type": "stream",
     "text": [
      "[Stage 8:>                                                          (0 + 1) / 1]\r"
     ]
    },
    {
     "name": "stdout",
     "output_type": "stream",
     "text": [
      "+--------------------+-----+\n",
      "|            features|label|\n",
      "+--------------------+-----+\n",
      "|(4469,[35,3572,44...|  4.0|\n",
      "|(4469,[60,3572,44...|  2.0|\n",
      "|(4469,[60,3572,44...|  1.0|\n",
      "|(4469,[60,3572,44...|  0.0|\n",
      "|(4469,[35,3572,44...| 12.0|\n",
      "|(4469,[60,3572,44...|  1.0|\n",
      "|(4469,[35,3572,44...| 18.0|\n",
      "|(4469,[60,3572,44...|  7.0|\n",
      "|(4469,[60,3572,44...|  4.0|\n",
      "|(4469,[60,3572,44...|  3.0|\n",
      "|(4469,[60,3572,44...|  4.0|\n",
      "|(4469,[60,3572,44...|  7.0|\n",
      "|(4469,[60,3572,44...|  5.0|\n",
      "|(4469,[60,3572,44...|  3.0|\n",
      "|(4469,[60,3572,44...|  1.0|\n",
      "|(4469,[60,3572,44...|  7.0|\n",
      "|(4469,[60,3572,44...|  3.0|\n",
      "|(4469,[60,3572,44...|  2.0|\n",
      "|(4469,[60,3572,44...|  1.0|\n",
      "|(4469,[60,3572,44...|  4.0|\n",
      "+--------------------+-----+\n",
      "only showing top 20 rows\n",
      "\n"
     ]
    },
    {
     "name": "stderr",
     "output_type": "stream",
     "text": [
      "                                                                                \r"
     ]
    }
   ],
   "source": [
    "trainDf.show()"
   ]
  },
  {
   "cell_type": "code",
   "execution_count": 17,
   "metadata": {},
   "outputs": [],
   "source": [
    "evalData = test_proc.rdd.map(lambda x: Row(x.features, float(x.usefulCount)))"
   ]
  },
  {
   "cell_type": "code",
   "execution_count": 18,
   "metadata": {},
   "outputs": [],
   "source": [
    "evalDf = se.createDataFrame(evalData, StructType(srcDataSchema))"
   ]
  },
  {
   "cell_type": "code",
   "execution_count": 19,
   "metadata": {},
   "outputs": [
    {
     "name": "stderr",
     "output_type": "stream",
     "text": [
      "[Stage 9:>                                                          (0 + 1) / 1]\r"
     ]
    },
    {
     "name": "stdout",
     "output_type": "stream",
     "text": [
      "+--------------------+-----+\n",
      "|            features|label|\n",
      "+--------------------+-----+\n",
      "|(4469,[60,3572,44...|  2.0|\n",
      "|(4469,[35,3572,44...| 10.0|\n",
      "|(4469,[60,3572,44...|  3.0|\n",
      "|(4469,[60,3572,44...|  2.0|\n",
      "|(4469,[1379,3655,...| 16.0|\n",
      "|(4469,[60,3572,44...|  3.0|\n",
      "|(4469,[60,3572,44...|  1.0|\n",
      "|(4469,[60,3572,44...|  2.0|\n",
      "|(4469,[60,3572,44...|  4.0|\n",
      "|(4469,[60,3572,44...|  1.0|\n",
      "|(4469,[35,3572,44...| 23.0|\n",
      "|(4469,[60,3572,44...| 13.0|\n",
      "|(4469,[60,3572,44...|  6.0|\n",
      "|(4469,[60,3572,44...|  1.0|\n",
      "|(4469,[35,3572,44...| 18.0|\n",
      "|(4469,[60,3572,44...|  8.0|\n",
      "|(4469,[60,3572,44...|  1.0|\n",
      "|(4469,[60,3572,44...| 15.0|\n",
      "|(4469,[35,3572,44...| 36.0|\n",
      "|(4469,[35,3572,44...| 14.0|\n",
      "+--------------------+-----+\n",
      "only showing top 20 rows\n",
      "\n"
     ]
    },
    {
     "name": "stderr",
     "output_type": "stream",
     "text": [
      "                                                                                \r"
     ]
    }
   ],
   "source": [
    "evalDf.show()"
   ]
  },
  {
   "cell_type": "code",
   "execution_count": 20,
   "metadata": {},
   "outputs": [],
   "source": [
    "trainPool = catboost_spark.Pool(trainDf)\n",
    "evalPool = catboost_spark.Pool(evalDf)"
   ]
  },
  {
   "cell_type": "code",
   "execution_count": 21,
   "metadata": {},
   "outputs": [],
   "source": [
    "regressor = catboost_spark.CatBoostRegressor()"
   ]
  },
  {
   "cell_type": "code",
   "execution_count": null,
   "metadata": {},
   "outputs": [
    {
     "name": "stderr",
     "output_type": "stream",
     "text": [
      "2022-03-10 07:42:09,407 WARN scheduler.DAGScheduler: Broadcasting large task binary with size 1130.1 KiB\n",
      "2022-03-10 07:42:09,506 WARN scheduler.DAGScheduler: Broadcasting large task binary with size 1130.1 KiB\n",
      "2022-03-10 07:42:57,714 WARN scheduler.DAGScheduler: Broadcasting large task binary with size 1132.9 KiB\n",
      "2022-03-10 07:43:17,781 WARN scheduler.DAGScheduler: Broadcasting large task binary with size 1132.9 KiB\n",
      "2022-03-10 07:43:25,300 WARN scheduler.DAGScheduler: Broadcasting large task binary with size 1130.1 KiB\n",
      "[CatBoost Master] SLF4J: Class path contains multiple SLF4J bindings.0 + 2) / 2]\n",
      "[CatBoost Master] SLF4J: Found binding in [jar:file:/usr/lib/spark/jars/slf4j-log4j12-1.7.30.jar!/org/slf4j/impl/StaticLoggerBinder.class]\n",
      "[CatBoost Master] SLF4J: Found binding in [jar:file:/usr/lib/hadoop/lib/slf4j-log4j12-1.7.25.jar!/org/slf4j/impl/StaticLoggerBinder.class]\n",
      "[CatBoost Master] SLF4J: See http://www.slf4j.org/codes.html#multiple_bindings for an explanation.\n",
      "[CatBoost Master] SLF4J: Actual binding is of type [org.slf4j.impl.Log4jLoggerFactory]\n",
      "[Stage 46:>                                                         (0 + 2) / 2]\r"
     ]
    },
    {
     "name": "stdout",
     "output_type": "stream",
     "text": [
      "Learning rate set to 0.121771\n",
      "0:\tlearn: 43.8142328\ttest: 43.4426164\tbest: 43.4426164 (0)\ttotal: 1.17s\tremaining: 19m 23s\n",
      "1:\tlearn: 41.7584243\ttest: 41.3465237\tbest: 41.3465237 (1)\ttotal: 2.36s\tremaining: 19m 36s\n",
      "2:\tlearn: 40.0713687\ttest: 39.6346834\tbest: 39.6346834 (2)\ttotal: 3.55s\tremaining: 19m 40s\n",
      "3:\tlearn: 38.7774662\ttest: 38.3169703\tbest: 38.3169703 (3)\ttotal: 4.69s\tremaining: 19m 27s\n",
      "4:\tlearn: 37.6330825\ttest: 37.1475603\tbest: 37.1475603 (4)\ttotal: 5.86s\tremaining: 19m 26s\n",
      "5:\tlearn: 36.7399274\ttest: 36.2343583\tbest: 36.2343583 (5)\ttotal: 7.03s\tremaining: 19m 25s\n",
      "6:\tlearn: 36.0410373\ttest: 35.5241858\tbest: 35.5241858 (6)\ttotal: 8.2s\tremaining: 19m 23s\n",
      "7:\tlearn: 35.4718411\ttest: 34.9501786\tbest: 34.9501786 (7)\ttotal: 9.43s\tremaining: 19m 29s\n",
      "8:\tlearn: 35.0216027\ttest: 34.4818404\tbest: 34.4818404 (8)\ttotal: 10.6s\tremaining: 19m 25s\n",
      "9:\tlearn: 34.6357441\ttest: 34.0914359\tbest: 34.0914359 (9)\ttotal: 11.7s\tremaining: 19m 23s\n",
      "10:\tlearn: 34.3342962\ttest: 33.7915892\tbest: 33.7915892 (10)\ttotal: 12.9s\tremaining: 19m 19s\n",
      "11:\tlearn: 34.0918976\ttest: 33.5499598\tbest: 33.5499598 (11)\ttotal: 14.1s\tremaining: 19m 17s\n",
      "12:\tlearn: 33.8915435\ttest: 33.3457953\tbest: 33.3457953 (12)\ttotal: 15.2s\tremaining: 19m 15s\n",
      "13:\tlearn: 33.7322634\ttest: 33.1782325\tbest: 33.1782325 (13)\ttotal: 16.4s\tremaining: 19m 13s\n",
      "14:\tlearn: 33.5906394\ttest: 33.0315447\tbest: 33.0315447 (14)\ttotal: 17.6s\tremaining: 19m 13s\n",
      "15:\tlearn: 33.4570161\ttest: 32.9001199\tbest: 32.9001199 (15)\ttotal: 18.7s\tremaining: 19m 11s\n",
      "16:\tlearn: 33.3542753\ttest: 32.7882212\tbest: 32.7882212 (16)\ttotal: 19.9s\tremaining: 19m 8s\n",
      "17:\tlearn: 33.2708765\ttest: 32.7043985\tbest: 32.7043985 (17)\ttotal: 21s\tremaining: 19m 4s\n",
      "18:\tlearn: 33.1919127\ttest: 32.6349110\tbest: 32.6349110 (18)\ttotal: 22.1s\tremaining: 19m 3s\n",
      "19:\tlearn: 33.1178904\ttest: 32.5610819\tbest: 32.5610819 (19)\ttotal: 23.3s\tremaining: 19m 1s\n",
      "20:\tlearn: 33.0610803\ttest: 32.5003125\tbest: 32.5003125 (20)\ttotal: 24.4s\tremaining: 18m 58s\n",
      "21:\tlearn: 33.0024164\ttest: 32.4446143\tbest: 32.4446143 (21)\ttotal: 25.6s\tremaining: 18m 57s\n",
      "22:\tlearn: 32.9531673\ttest: 32.4012946\tbest: 32.4012946 (22)\ttotal: 26.7s\tremaining: 18m 54s\n",
      "23:\tlearn: 32.9063648\ttest: 32.3583800\tbest: 32.3583800 (23)\ttotal: 27.8s\tremaining: 18m 52s\n",
      "24:\tlearn: 32.8665446\ttest: 32.3212840\tbest: 32.3212840 (24)\ttotal: 29s\tremaining: 18m 49s\n",
      "25:\tlearn: 32.8286364\ttest: 32.2866989\tbest: 32.2866989 (25)\ttotal: 30.1s\tremaining: 18m 47s\n",
      "26:\tlearn: 32.7893953\ttest: 32.2415446\tbest: 32.2415446 (26)\ttotal: 31.2s\tremaining: 18m 44s\n",
      "27:\tlearn: 32.7527916\ttest: 32.2079326\tbest: 32.2079326 (27)\ttotal: 32.3s\tremaining: 18m 41s\n",
      "28:\tlearn: 32.7198847\ttest: 32.1761644\tbest: 32.1761644 (28)\ttotal: 33.5s\tremaining: 18m 40s\n",
      "29:\tlearn: 32.6897775\ttest: 32.1540527\tbest: 32.1540527 (29)\ttotal: 34.6s\tremaining: 18m 37s\n",
      "30:\tlearn: 32.6545265\ttest: 32.1146462\tbest: 32.1146462 (30)\ttotal: 35.6s\tremaining: 18m 34s\n",
      "31:\tlearn: 32.6243567\ttest: 32.0843713\tbest: 32.0843713 (31)\ttotal: 36.8s\tremaining: 18m 32s\n",
      "32:\tlearn: 32.5907807\ttest: 32.0507985\tbest: 32.0507985 (32)\ttotal: 38s\tremaining: 18m 32s\n",
      "33:\tlearn: 32.5644151\ttest: 32.0287262\tbest: 32.0287262 (33)\ttotal: 39.1s\tremaining: 18m 30s\n",
      "34:\tlearn: 32.5391780\ttest: 32.0109616\tbest: 32.0109616 (34)\ttotal: 40.2s\tremaining: 18m 28s\n",
      "35:\tlearn: 32.5147788\ttest: 31.9926477\tbest: 31.9926477 (35)\ttotal: 41.3s\tremaining: 18m 26s\n",
      "36:\tlearn: 32.4872191\ttest: 31.9770927\tbest: 31.9770927 (36)\ttotal: 42.5s\tremaining: 18m 26s\n",
      "37:\tlearn: 32.4597590\ttest: 31.9454349\tbest: 31.9454349 (37)\ttotal: 43.7s\tremaining: 18m 25s\n",
      "38:\tlearn: 32.4393247\ttest: 31.9305773\tbest: 31.9305773 (38)\ttotal: 44.8s\tremaining: 18m 23s\n",
      "39:\tlearn: 32.4184270\ttest: 31.9129070\tbest: 31.9129070 (39)\ttotal: 45.9s\tremaining: 18m 21s\n",
      "40:\tlearn: 32.3929494\ttest: 31.8879065\tbest: 31.8879065 (40)\ttotal: 47.1s\tremaining: 18m 22s\n",
      "41:\tlearn: 32.3709890\ttest: 31.8602934\tbest: 31.8602934 (41)\ttotal: 48.3s\tremaining: 18m 20s\n",
      "42:\tlearn: 32.3453606\ttest: 31.8351179\tbest: 31.8351179 (42)\ttotal: 49.5s\tremaining: 18m 21s\n",
      "43:\tlearn: 32.3241050\ttest: 31.8159956\tbest: 31.8159956 (43)\ttotal: 50.6s\tremaining: 18m 19s\n",
      "44:\tl"
     ]
    },
    {
     "name": "stderr",
     "output_type": "stream",
     "text": [
      "[Stage 46:>                                                         (0 + 2) / 2]\r"
     ]
    },
    {
     "name": "stdout",
     "output_type": "stream",
     "text": [
      "earn: 32.3031114\ttest: 31.7942600\tbest: 31.7942600 (44)\ttotal: 51.8s\tremaining: 18m 18s\n",
      "45:\tlearn: 32.2843151\ttest: 31.7753910\tbest: 31.7753910 (45)\ttotal: 52.9s\tremaining: 18m 16s\n",
      "46:\tlearn: 32.2663985\ttest: 31.7544299\tbest: 31.7544299 (46)\ttotal: 54s\tremaining: 18m 15s\n",
      "47:\tlearn: 32.2483379\ttest: 31.7362071\tbest: 31.7362071 (47)\ttotal: 55.1s\tremaining: 18m 13s\n",
      "48:\tlearn: 32.2248033\ttest: 31.7210291\tbest: 31.7210291 (48)\ttotal: 56.3s\tremaining: 18m 12s\n",
      "49:\tlearn: 32.2080067\ttest: 31.7121591\tbest: 31.7121591 (49)\ttotal: 57.5s\tremaining: 18m 11s\n",
      "50:\tlearn: 32.1913737\ttest: 31.6965690\tbest: 31.6965690 (50)\ttotal: 58.6s\tremaining: 18m 10s\n",
      "51:\tlearn: 32.1747413\ttest: 31.6804050\tbest: 31.6804050 (51)\ttotal: 59.8s\tremaining: 18m 9s\n",
      "52:\tlearn: 32.1580301\ttest: 31.6617793\tbest: 31.6617793 (52)\ttotal: 1m\tremaining: 18m 8s\n",
      "53:\tlearn: 32.1425560\ttest: 31.6505607\tbest: 31.6505607 (53)\ttotal: 1m 2s\tremaining: 18m 7s\n",
      "54:\tlearn: 32.1257225\ttest: 31.6367433\tbest: 31.6367433 (54)\ttotal: 1m 3s\tremaining: 18m 5s\n",
      "55:\tlearn: 32.1108779\ttest: 31.6203049\tbest: 31.6203049 (55)\ttotal: 1m 4s\tremaining: 18m 4s\n",
      "56:\tlearn: 32.0888391\ttest: 31.5993198\tbest: 31.5993198 (56)\ttotal: 1m 5s\tremaining: 18m 3s\n",
      "57:\tlearn: 32.0710968\ttest: 31.5768557\tbest: 31.5768557 (57)\ttotal: 1m 6s\tremaining: 18m 3s\n",
      "58:\tlearn: 32.0559807\ttest: 31.5690227\tbest: 31.5690227 (58)\ttotal: 1m 7s\tremaining: 18m 1s\n",
      "59:\tlearn: 32.0424758\ttest: 31.5572142\tbest: 31.5572142 (59)\ttotal: 1m 9s\tremaining: 18m 1s\n",
      "60:\tlearn: 32.0192482\ttest: 31.5359841\tbest: 31.5359841 (60)\ttotal: 1m 10s\tremaining: 17m 59s\n",
      "61:\tlearn: 32.0052902\ttest: 31.5207465\tbest: 31.5207465 (61)\ttotal: 1m 11s\tremaining: 17m 58s\n",
      "62:\tlearn: 31.9911167\ttest: 31.5054501\tbest: 31.5054501 (62)\ttotal: 1m 12s\tremaining: 17m 57s\n",
      "63:\tlearn: 31.9773457\ttest: 31.4888273\tbest: 31.4888273 (63)\ttotal: 1m 13s\tremaining: 17m 55s\n",
      "64:\tlearn: 31.9644079\ttest: 31.4773291\tbest: 31.4773291 (64)\ttotal: 1m 14s\tremaining: 17m 54s\n",
      "65:\tlearn: 31.9501449\ttest: 31.4615939\tbest: 31.4615939 (65)\ttotal: 1m 15s\tremaining: 17m 52s\n",
      "66:\tlearn: 31.9375116\ttest: 31.4504911\tbest: 31.4504911 (66)\ttotal: 1m 16s\tremaining: 17m 51s\n",
      "67:\tlearn: 31.9272503\ttest: 31.4419012\tbest: 31.4419012 (67)\ttotal: 1m 18s\tremaining: 17m 49s\n",
      "68:\tlearn: 31.9113629\ttest: 31.4283896\tbest: 31.4283896 (68)\ttotal: 1m 19s\tremaining: 17m 48s\n",
      "69:\tlearn: 31.8874047\ttest: 31.4008716\tbest: 31.4008716 (69)\ttotal: 1m 20s\tremaining: 17m 48s\n",
      "70:\tlearn: 31.8713364\ttest: 31.3784952\tbest: 31.3784952 (70)\ttotal: 1m 21s\tremaining: 17m 47s\n",
      "71:\tlearn: 31.8598445\ttest: 31.3647682\tbest: 31.3647682 (71)\ttotal: 1m 22s\tremaining: 17m 46s\n",
      "72:\tlearn: 31.8484962\ttest: 31.3588702\tbest: 31.3588702 (72)\ttotal: 1m 23s\tremaining: 17m 44s\n",
      "73:\tlearn: 31.8365729\ttest: 31.3476366\tbest: 31.3476366 (73)\ttotal: 1m 24s\tremaining: 17m 43s\n",
      "74:\tlearn: 31.8265698\ttest: 31.3380981\tbest: 31.3380981 (74)\ttotal: 1m 26s\tremaining: 17m 41s\n",
      "75:\tlearn: 31.8146655\ttest: 31.3284885\tbest: 31.3284885 (75)\ttotal: 1m 27s\tremaining: 17m 40s\n",
      "76:\tlearn: 31.8040513\ttest: 31.3170195\tbest: 31.3170195 (76)\ttotal: 1m 28s\tremaining: 17m 39s\n",
      "77:\tlearn: 31.7928712\ttest: 31.3026744\tbest: 31.3026744 (77)\ttotal: 1m 29s\tremaining: 17m 37s\n",
      "78:\tlearn: 31.7826504\ttest: 31.2935310\tbest: 31.2935310 (78)\ttotal: 1m 30s\tremaining: 17m 36s\n",
      "79:\tlearn: 31.7707390\ttest: 31.2823072\tbest: 31.2823072 (79)\ttotal: 1m 31s\tremaining: 17m 34s\n",
      "80:\tlearn: 31.7602599\ttest: 31.2700210\tbest: 31.2700210 (80)\ttotal: 1m 32s\tremaining: 17m 33s\n",
      "81:\tlearn: 31.7485511\ttest: 31.2540763\tbest: 31.2540763 (81)\ttotal: 1m 33s\tremaining: 17m 31s\n",
      "82:\tlearn: 31.7392513\ttest: 31.2408692\tbest: 31.2408692 (82)\ttotal: 1m 35s\tremaining: 17m 30s\n",
      "83:\tlearn: 31.7293497\ttest: 31.2325798\tbest: 31.2325798 (83)\ttotal: 1m 36s\tremaining: 17m 28s\n",
      "84:\tlearn: 31.7155814\ttest: 31.2234675\tbest: 31.2234675 (84)\ttotal: 1m 37s\tremaining: 17m 27s\n",
      "85:\tlearn: 31.7028112\ttest: 31.2139212\tbest: 31.2139212 (85)\ttotal: 1m 38s\tremaining: 17m 26s\n",
      "86:\tlearn: 31.6933632\ttest: 31.2060530\tbest: 31.2060530 (86)\ttotal: 1m 39s\tremaining: 17m 24s\n",
      "87:\tlearn: 31.6790735\ttest: 31.1908793\tbest: 31.1908793 (87)\ttotal: 1m 40s\tremaining: 17m"
     ]
    }
   ],
   "source": [
    "model = regressor.fit(trainPool, [evalPool])"
   ]
  },
  {
   "cell_type": "code",
   "execution_count": null,
   "metadata": {},
   "outputs": [],
   "source": [
    "predictions = model.transform(evalPool.data)\n",
    "predictions.show()"
   ]
  },
  {
   "cell_type": "code",
   "execution_count": null,
   "metadata": {},
   "outputs": [],
   "source": []
  }
 ],
 "metadata": {
  "kernelspec": {
   "display_name": "Python 3 (ipykernel)",
   "language": "python",
   "name": "python3"
  },
  "language_info": {
   "codemirror_mode": {
    "name": "ipython",
    "version": 3
   },
   "file_extension": ".py",
   "mimetype": "text/x-python",
   "name": "python",
   "nbconvert_exporter": "python",
   "pygments_lexer": "ipython3",
   "version": "3.8.10"
  }
 },
 "nbformat": 4,
 "nbformat_minor": 2
}
